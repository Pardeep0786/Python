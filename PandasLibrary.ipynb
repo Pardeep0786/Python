{
 "cells": [
  {
   "cell_type": "code",
   "execution_count": 27,
   "id": "3078c9c8-f8ca-4bca-9a33-53d2dcd55adf",
   "metadata": {},
   "outputs": [
    {
     "name": "stdout",
     "output_type": "stream",
     "text": [
      "0    1\n",
      "1    2\n",
      "2    3\n",
      "dtype: int64\n"
     ]
    }
   ],
   "source": [
    "#import pandas library and create a series\n",
    "import pandas as pd\n",
    "a = [1, 2, 3] \n",
    "rs = pd.Series(a)\n",
    "print(rs)"
   ]
  },
  {
   "cell_type": "code",
   "execution_count": 5,
   "id": "43be3341-c9bc-49b8-8518-0c1e8d788460",
   "metadata": {},
   "outputs": [
    {
     "name": "stdout",
     "output_type": "stream",
     "text": [
      "1\n"
     ]
    }
   ],
   "source": [
    "#Access the element of the series through defalut indexing\n",
    "print(rs[0])"
   ]
  },
  {
   "cell_type": "code",
   "execution_count": 15,
   "id": "c39de5c0-ac12-4d3a-9ae4-7c5f27c20898",
   "metadata": {},
   "outputs": [
    {
     "name": "stdout",
     "output_type": "stream",
     "text": [
      "3\n"
     ]
    }
   ],
   "source": [
    "#provide the new indexes\n",
    "rs = pd.Series(a, index = [\"X\", \"Y\", \"Z\"])\n",
    "print(rs[\"Z\"])"
   ]
  },
  {
   "cell_type": "code",
   "execution_count": 17,
   "id": "d38cd15f-a745-4bc1-bf19-a26df8f886f7",
   "metadata": {},
   "outputs": [
    {
     "name": "stdout",
     "output_type": "stream",
     "text": [
      "day1    420\n",
      "day2    500\n",
      "day3    600\n",
      "dtype: int64\n"
     ]
    }
   ],
   "source": [
    "#Create a dictionary \n",
    "calories = {\"day1\": 420, \"day2\": 500, \"day3\": 600}\n",
    "result = pd.Series(calories)\n",
    "print(result)"
   ]
  },
  {
   "cell_type": "code",
   "execution_count": 33,
   "id": "06559ddd-a332-4e5b-8203-1ee1f3059fde",
   "metadata": {},
   "outputs": [
    {
     "name": "stdout",
     "output_type": "stream",
     "text": [
      "   day  calories\n",
      "0    1       500\n",
      "1    2       600\n",
      "2    3       400\n"
     ]
    }
   ],
   "source": [
    "#Concept of dataframe\n",
    "data = {\n",
    "    \"day\": [1, 2, 3],\n",
    "    \"calories\": [500, 600, 400]\n",
    "}\n",
    "df = pd.DataFrame(data)\n",
    "print(df)"
   ]
  },
  {
   "cell_type": "code",
   "execution_count": 31,
   "id": "249bf90e-9eca-4b7a-af40-d80e8fa127e7",
   "metadata": {},
   "outputs": [],
   "source": [
    "#Conclusion: The Series is represent a column or a DataFrame represent a whole table."
   ]
  },
  {
   "cell_type": "code",
   "execution_count": 35,
   "id": "44e822d7-553c-43c8-8928-47b0f73477e0",
   "metadata": {},
   "outputs": [
    {
     "data": {
      "text/plain": [
       "day           1\n",
       "calories    500\n",
       "Name: 0, dtype: int64"
      ]
     },
     "execution_count": 35,
     "metadata": {},
     "output_type": "execute_result"
    }
   ],
   "source": [
    "#To access the row's of the table the Loc keyword is used\n",
    "df.loc[0]"
   ]
  },
  {
   "cell_type": "code",
   "execution_count": 43,
   "id": "f1d5e612-10e2-4355-b882-669665025bf0",
   "metadata": {},
   "outputs": [
    {
     "name": "stdout",
     "output_type": "stream",
     "text": [
      "day           2\n",
      "calories    600\n",
      "Name: Day2, dtype: int64\n"
     ]
    }
   ],
   "source": [
    "#Give the new index to dataframe set\n",
    "df = pd.DataFrame(data, index = [\"Day1\", \"Day2\", \"Day3\"])\n",
    "print(df.loc[\"Day2\"])"
   ]
  },
  {
   "cell_type": "code",
   "execution_count": 45,
   "id": "92a61006-fc51-411f-ba54-4d6a6a6aa413",
   "metadata": {},
   "outputs": [],
   "source": [
    "#Load a csv (comma seprate value's) file in Dataframe\n",
    "df = pd.read_csv(\"ABC.csv\")\n",
    "print(df)"
   ]
  },
  {
   "cell_type": "code",
   "execution_count": 51,
   "id": "8841352c-46cb-4811-8ce5-3aec6319bffd",
   "metadata": {},
   "outputs": [
    {
     "ename": "OptionError",
     "evalue": "No such option",
     "output_type": "error",
     "traceback": [
      "\u001b[1;31m---------------------------------------------------------------------------\u001b[0m",
      "\u001b[1;31mKeyError\u001b[0m                                  Traceback (most recent call last)",
      "File \u001b[1;32m~\\anaconda3\\Lib\\site-packages\\pandas\\_config\\config.py:247\u001b[0m, in \u001b[0;36mDictWrapper.__getattr__\u001b[1;34m(self, key)\u001b[0m\n\u001b[0;32m    246\u001b[0m \u001b[38;5;28;01mtry\u001b[39;00m:\n\u001b[1;32m--> 247\u001b[0m     v \u001b[38;5;241m=\u001b[39m \u001b[38;5;28mobject\u001b[39m\u001b[38;5;241m.\u001b[39m\u001b[38;5;21m__getattribute__\u001b[39m(\u001b[38;5;28mself\u001b[39m, \u001b[38;5;124m\"\u001b[39m\u001b[38;5;124md\u001b[39m\u001b[38;5;124m\"\u001b[39m)[key]\n\u001b[0;32m    248\u001b[0m \u001b[38;5;28;01mexcept\u001b[39;00m \u001b[38;5;167;01mKeyError\u001b[39;00m \u001b[38;5;28;01mas\u001b[39;00m err:\n",
      "\u001b[1;31mKeyError\u001b[0m: 'max_row'",
      "\nThe above exception was the direct cause of the following exception:\n",
      "\u001b[1;31mOptionError\u001b[0m                               Traceback (most recent call last)",
      "Cell \u001b[1;32mIn[51], line 2\u001b[0m\n\u001b[0;32m      1\u001b[0m \u001b[38;5;28;01mimport\u001b[39;00m \u001b[38;5;21;01mpandas\u001b[39;00m \u001b[38;5;28;01mas\u001b[39;00m \u001b[38;5;21;01mpd\u001b[39;00m\n\u001b[1;32m----> 2\u001b[0m \u001b[38;5;28mprint\u001b[39m(pd\u001b[38;5;241m.\u001b[39moptions\u001b[38;5;241m.\u001b[39mdisplay\u001b[38;5;241m.\u001b[39mmax_row)\n",
      "File \u001b[1;32m~\\anaconda3\\Lib\\site-packages\\pandas\\_config\\config.py:249\u001b[0m, in \u001b[0;36mDictWrapper.__getattr__\u001b[1;34m(self, key)\u001b[0m\n\u001b[0;32m    247\u001b[0m     v \u001b[38;5;241m=\u001b[39m \u001b[38;5;28mobject\u001b[39m\u001b[38;5;241m.\u001b[39m\u001b[38;5;21m__getattribute__\u001b[39m(\u001b[38;5;28mself\u001b[39m, \u001b[38;5;124m\"\u001b[39m\u001b[38;5;124md\u001b[39m\u001b[38;5;124m\"\u001b[39m)[key]\n\u001b[0;32m    248\u001b[0m \u001b[38;5;28;01mexcept\u001b[39;00m \u001b[38;5;167;01mKeyError\u001b[39;00m \u001b[38;5;28;01mas\u001b[39;00m err:\n\u001b[1;32m--> 249\u001b[0m     \u001b[38;5;28;01mraise\u001b[39;00m OptionError(\u001b[38;5;124m\"\u001b[39m\u001b[38;5;124mNo such option\u001b[39m\u001b[38;5;124m\"\u001b[39m) \u001b[38;5;28;01mfrom\u001b[39;00m \u001b[38;5;21;01merr\u001b[39;00m\n\u001b[0;32m    250\u001b[0m \u001b[38;5;28;01mif\u001b[39;00m \u001b[38;5;28misinstance\u001b[39m(v, \u001b[38;5;28mdict\u001b[39m):\n\u001b[0;32m    251\u001b[0m     \u001b[38;5;28;01mreturn\u001b[39;00m DictWrapper(v, prefix)\n",
      "\u001b[1;31mOptionError\u001b[0m: No such option"
     ]
    }
   ],
   "source": [
    "import pandas as pd\n",
    "print(pd.options.display.max_row)"
   ]
  },
  {
   "cell_type": "code",
   "execution_count": null,
   "id": "86cad35e-dbb1-499a-8e95-9ea41a2f825e",
   "metadata": {},
   "outputs": [],
   "source": []
  }
 ],
 "metadata": {
  "kernelspec": {
   "display_name": "Python 3 (ipykernel)",
   "language": "python",
   "name": "python3"
  },
  "language_info": {
   "codemirror_mode": {
    "name": "ipython",
    "version": 3
   },
   "file_extension": ".py",
   "mimetype": "text/x-python",
   "name": "python",
   "nbconvert_exporter": "python",
   "pygments_lexer": "ipython3",
   "version": "3.12.7"
  }
 },
 "nbformat": 4,
 "nbformat_minor": 5
}
