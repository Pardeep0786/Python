{
 "cells": [
  {
   "cell_type": "markdown",
   "id": "e561e82c",
   "metadata": {},
   "source": [
    "# Number and Data type Conversion.ipynb"
   ]
  },
  {
   "cell_type": "code",
   "execution_count": 1,
   "id": "2bc7cbf8",
   "metadata": {},
   "outputs": [
    {
     "data": {
      "text/plain": [
       "'0b10100'"
      ]
     },
     "execution_count": 1,
     "metadata": {},
     "output_type": "execute_result"
    }
   ],
   "source": [
    "#Convert the decimal value into binary code\n",
    "bin(20)"
   ]
  },
  {
   "cell_type": "code",
   "execution_count": 2,
   "id": "f5320729",
   "metadata": {},
   "outputs": [
    {
     "data": {
      "text/plain": [
       "'0b100010110'"
      ]
     },
     "execution_count": 2,
     "metadata": {},
     "output_type": "execute_result"
    }
   ],
   "source": [
    "#Convert the octal value into binary code\n",
    "bin(0o426)"
   ]
  },
  {
   "cell_type": "code",
   "execution_count": 3,
   "id": "b77403b9",
   "metadata": {},
   "outputs": [
    {
     "data": {
      "text/plain": [
       "'0b101000101011'"
      ]
     },
     "execution_count": 3,
     "metadata": {},
     "output_type": "execute_result"
    }
   ],
   "source": [
    "#Convert the hexadecimal value into binary code\n",
    "bin(0xA2B)"
   ]
  },
  {
   "cell_type": "code",
   "execution_count": 4,
   "id": "00ff19c4",
   "metadata": {},
   "outputs": [
    {
     "data": {
      "text/plain": [
       "'0o14'"
      ]
     },
     "execution_count": 4,
     "metadata": {},
     "output_type": "execute_result"
    }
   ],
   "source": [
    "#Convert the decimal value into octal value\n",
    "oct(12)"
   ]
  },
  {
   "cell_type": "code",
   "execution_count": 5,
   "id": "6f05d3a8",
   "metadata": {},
   "outputs": [
    {
     "data": {
      "text/plain": [
       "'0x22'"
      ]
     },
     "execution_count": 5,
     "metadata": {},
     "output_type": "execute_result"
    }
   ],
   "source": [
    "#Convert the decimal value into hexadecimal code\n",
    "hex(34)"
   ]
  },
  {
   "cell_type": "code",
   "execution_count": 6,
   "id": "5fb25781",
   "metadata": {},
   "outputs": [
    {
     "data": {
      "text/plain": [
       "float"
      ]
     },
     "execution_count": 6,
     "metadata": {},
     "output_type": "execute_result"
    }
   ],
   "source": [
    "#Check the type of the value which is stored into f1\n",
    "f1 = 2.345\n",
    "type(f1)"
   ]
  },
  {
   "cell_type": "code",
   "execution_count": 7,
   "id": "86ee5ed7",
   "metadata": {},
   "outputs": [
    {
     "name": "stdout",
     "output_type": "stream",
     "text": [
      "2300.0\n"
     ]
    }
   ],
   "source": [
    "#Float scientific notation\n",
    "f2 = 2.3e3\n",
    "print(f2)"
   ]
  },
  {
   "cell_type": "code",
   "execution_count": 9,
   "id": "20b6d072",
   "metadata": {},
   "outputs": [
    {
     "data": {
      "text/plain": [
       "complex"
      ]
     },
     "execution_count": 9,
     "metadata": {},
     "output_type": "execute_result"
    }
   ],
   "source": [
    "# Complex data type:\n",
    "x = 11 + 4j\n",
    "type(x)"
   ]
  },
  {
   "cell_type": "code",
   "execution_count": 13,
   "id": "867b0584",
   "metadata": {},
   "outputs": [
    {
     "name": "stdout",
     "output_type": "stream",
     "text": [
      "<class 'complex'>\n",
      "(5+3j)\n",
      "5.0\n",
      "3.0\n"
     ]
    }
   ],
   "source": [
    "#Check the data type of the value\n",
    "x1 = 0B101 + 3j\n",
    "print(type(x1))\n",
    "print(x1)\n",
    "print(x1.real)\n",
    "print(x1.imag)"
   ]
  },
  {
   "cell_type": "code",
   "execution_count": 14,
   "id": "d22d640e",
   "metadata": {},
   "outputs": [
    {
     "data": {
      "text/plain": [
       "bool"
      ]
     },
     "execution_count": 14,
     "metadata": {},
     "output_type": "execute_result"
    }
   ],
   "source": [
    "#Check the data type of the false\n",
    "b = False\n",
    "type(b)"
   ]
  },
  {
   "cell_type": "code",
   "execution_count": 15,
   "id": "d45076ad",
   "metadata": {},
   "outputs": [
    {
     "data": {
      "text/plain": [
       "'t'"
      ]
     },
     "execution_count": 15,
     "metadata": {},
     "output_type": "execute_result"
    }
   ],
   "source": [
    "#Peform indexing operation on string\n",
    "s1 = 'Python'\n",
    "s1[2]"
   ]
  },
  {
   "cell_type": "code",
   "execution_count": 16,
   "id": "fbd3b7d5",
   "metadata": {},
   "outputs": [
    {
     "data": {
      "text/plain": [
       "'o'"
      ]
     },
     "execution_count": 16,
     "metadata": {},
     "output_type": "execute_result"
    }
   ],
   "source": [
    "#Perform negative indexing \n",
    "s1[-2]"
   ]
  },
  {
   "cell_type": "code",
   "execution_count": 17,
   "id": "a3f5c8e9",
   "metadata": {},
   "outputs": [
    {
     "data": {
      "text/plain": [
       "'yt'"
      ]
     },
     "execution_count": 17,
     "metadata": {},
     "output_type": "execute_result"
    }
   ],
   "source": [
    "#Peform the slicing on the string \n",
    "s1[1:3]"
   ]
  },
  {
   "cell_type": "code",
   "execution_count": 18,
   "id": "7be1c514",
   "metadata": {},
   "outputs": [
    {
     "data": {
      "text/plain": [
       "'ython'"
      ]
     },
     "execution_count": 18,
     "metadata": {},
     "output_type": "execute_result"
    }
   ],
   "source": [
    "#Perform the slicing on the string\n",
    "s1[1:14]"
   ]
  },
  {
   "cell_type": "code",
   "execution_count": 20,
   "id": "83d43284",
   "metadata": {},
   "outputs": [
    {
     "data": {
      "text/plain": [
       "'th'"
      ]
     },
     "execution_count": 20,
     "metadata": {},
     "output_type": "execute_result"
    }
   ],
   "source": [
    "#Pefrom the negative slicing on the string\n",
    "s1[-4:-2]"
   ]
  },
  {
   "cell_type": "code",
   "execution_count": 21,
   "id": "0574e434",
   "metadata": {},
   "outputs": [
    {
     "data": {
      "text/plain": [
       "6"
      ]
     },
     "execution_count": 21,
     "metadata": {},
     "output_type": "execute_result"
    }
   ],
   "source": [
    "#Print the length of the string \n",
    "len(s1)"
   ]
  },
  {
   "cell_type": "code",
   "execution_count": 22,
   "id": "0dac3aad",
   "metadata": {},
   "outputs": [
    {
     "data": {
      "text/plain": [
       "str"
      ]
     },
     "execution_count": 22,
     "metadata": {},
     "output_type": "execute_result"
    }
   ],
   "source": [
    "#Create a new variable and pass the value of existing variable \n",
    "s2 = 'c'\n",
    "type(s2)"
   ]
  },
  {
   "cell_type": "code",
   "execution_count": 23,
   "id": "5868dc4a",
   "metadata": {},
   "outputs": [
    {
     "data": {
      "text/plain": [
       "245"
      ]
     },
     "execution_count": 23,
     "metadata": {},
     "output_type": "execute_result"
    }
   ],
   "source": [
    "#Convert the decimal point value into intiger\n",
    "int(245.34)"
   ]
  },
  {
   "cell_type": "code",
   "execution_count": 24,
   "id": "c58c7799",
   "metadata": {},
   "outputs": [
    {
     "data": {
      "text/plain": [
       "1"
      ]
     },
     "execution_count": 24,
     "metadata": {},
     "output_type": "execute_result"
    }
   ],
   "source": [
    "#Check the intiger value of the True\n",
    "int(True)"
   ]
  },
  {
   "cell_type": "code",
   "execution_count": 25,
   "id": "65d9d70f",
   "metadata": {},
   "outputs": [
    {
     "data": {
      "text/plain": [
       "0"
      ]
     },
     "execution_count": 25,
     "metadata": {},
     "output_type": "execute_result"
    }
   ],
   "source": [
    "#Check the intiger value of the False\n",
    "int(False)"
   ]
  },
  {
   "cell_type": "code",
   "execution_count": 26,
   "id": "fef8cc4b",
   "metadata": {},
   "outputs": [
    {
     "data": {
      "text/plain": [
       "23"
      ]
     },
     "execution_count": 26,
     "metadata": {},
     "output_type": "execute_result"
    }
   ],
   "source": [
    "#Conver the string into intiger \n",
    "int(\"23\")"
   ]
  },
  {
   "cell_type": "code",
   "execution_count": 29,
   "id": "67837bb7",
   "metadata": {},
   "outputs": [
    {
     "data": {
      "text/plain": [
       "20.0"
      ]
     },
     "execution_count": 29,
     "metadata": {},
     "output_type": "execute_result"
    }
   ],
   "source": [
    "#Convert the intiger value into float \n",
    "float(20)"
   ]
  },
  {
   "cell_type": "code",
   "execution_count": 30,
   "id": "75140150",
   "metadata": {},
   "outputs": [
    {
     "data": {
      "text/plain": [
       "0.0"
      ]
     },
     "execution_count": 30,
     "metadata": {},
     "output_type": "execute_result"
    }
   ],
   "source": [
    "#Convert the boolean value into float \n",
    "float(False)"
   ]
  },
  {
   "cell_type": "code",
   "execution_count": 31,
   "id": "d59fabba",
   "metadata": {},
   "outputs": [
    {
     "data": {
      "text/plain": [
       "1.0"
      ]
     },
     "execution_count": 31,
     "metadata": {},
     "output_type": "execute_result"
    }
   ],
   "source": [
    "#Convert the boolean value into float \n",
    "float(True)"
   ]
  },
  {
   "cell_type": "code",
   "execution_count": 32,
   "id": "5150b900",
   "metadata": {},
   "outputs": [
    {
     "data": {
      "text/plain": [
       "20.0"
      ]
     },
     "execution_count": 32,
     "metadata": {},
     "output_type": "execute_result"
    }
   ],
   "source": [
    "#Convert the string value into float\n",
    "float(\"20\")"
   ]
  },
  {
   "cell_type": "code",
   "execution_count": 33,
   "id": "7ac424e1",
   "metadata": {},
   "outputs": [
    {
     "data": {
      "text/plain": [
       "20.5"
      ]
     },
     "execution_count": 33,
     "metadata": {},
     "output_type": "execute_result"
    }
   ],
   "source": [
    "#Convert the string value into float\n",
    "float(\"20.5\")"
   ]
  },
  {
   "cell_type": "code",
   "execution_count": 34,
   "id": "ddaf1719",
   "metadata": {},
   "outputs": [
    {
     "data": {
      "text/plain": [
       "(5+0j)"
      ]
     },
     "execution_count": 34,
     "metadata": {},
     "output_type": "execute_result"
    }
   ],
   "source": [
    "#Convert the decimal value into complex\n",
    "complex(5)"
   ]
  },
  {
   "cell_type": "code",
   "execution_count": 35,
   "id": "ba3e1993",
   "metadata": {},
   "outputs": [
    {
     "data": {
      "text/plain": [
       "(5.4+0j)"
      ]
     },
     "execution_count": 35,
     "metadata": {},
     "output_type": "execute_result"
    }
   ],
   "source": [
    "##Convert the float value into float\n",
    "complex(5.4)"
   ]
  },
  {
   "cell_type": "code",
   "execution_count": 36,
   "id": "a4fbad4a",
   "metadata": {},
   "outputs": [
    {
     "data": {
      "text/plain": [
       "0j"
      ]
     },
     "execution_count": 36,
     "metadata": {},
     "output_type": "execute_result"
    }
   ],
   "source": [
    "#Convert the boolean value into complex\n",
    "complex(False)"
   ]
  },
  {
   "cell_type": "code",
   "execution_count": 37,
   "id": "a30d4353",
   "metadata": {},
   "outputs": [
    {
     "data": {
      "text/plain": [
       "(1+0j)"
      ]
     },
     "execution_count": 37,
     "metadata": {},
     "output_type": "execute_result"
    }
   ],
   "source": [
    "#Convert the boolean value into complex\n",
    "complex(True)"
   ]
  },
  {
   "cell_type": "code",
   "execution_count": 38,
   "id": "fd3780e6",
   "metadata": {},
   "outputs": [
    {
     "data": {
      "text/plain": [
       "(12+2j)"
      ]
     },
     "execution_count": 38,
     "metadata": {},
     "output_type": "execute_result"
    }
   ],
   "source": [
    "#Make a complex number form two values where the first value is consider as a real part and second one is imaginary \n",
    "complex(12, 2)"
   ]
  },
  {
   "cell_type": "code",
   "execution_count": 39,
   "id": "c6ca243c",
   "metadata": {},
   "outputs": [
    {
     "data": {
      "text/plain": [
       "(12-2j)"
      ]
     },
     "execution_count": 39,
     "metadata": {},
     "output_type": "execute_result"
    }
   ],
   "source": [
    "#Make a complex number form two values where the first value is consider as a real part and second one is imaginary\n",
    "complex(12, -2)"
   ]
  },
  {
   "cell_type": "code",
   "execution_count": 40,
   "id": "4720d4eb",
   "metadata": {},
   "outputs": [
    {
     "data": {
      "text/plain": [
       "(1+0j)"
      ]
     },
     "execution_count": 40,
     "metadata": {},
     "output_type": "execute_result"
    }
   ],
   "source": [
    "#Convert the boolean values into complex number\n",
    "complex(True, False)"
   ]
  },
  {
   "cell_type": "code",
   "execution_count": 41,
   "id": "615a1b9a",
   "metadata": {},
   "outputs": [
    {
     "data": {
      "text/plain": [
       "False"
      ]
     },
     "execution_count": 41,
     "metadata": {},
     "output_type": "execute_result"
    }
   ],
   "source": [
    "#Convert the intiger value into boolean \n",
    "bool(0)"
   ]
  },
  {
   "cell_type": "code",
   "execution_count": 42,
   "id": "05301312",
   "metadata": {},
   "outputs": [
    {
     "data": {
      "text/plain": [
       "True"
      ]
     },
     "execution_count": 42,
     "metadata": {},
     "output_type": "execute_result"
    }
   ],
   "source": [
    "#Convert the intiger value into boolean \n",
    "bool(1)"
   ]
  },
  {
   "cell_type": "code",
   "execution_count": 43,
   "id": "adbf7d55",
   "metadata": {},
   "outputs": [
    {
     "data": {
      "text/plain": [
       "False"
      ]
     },
     "execution_count": 43,
     "metadata": {},
     "output_type": "execute_result"
    }
   ],
   "source": [
    "#Convert the float value into boolean \n",
    "bool(0.0)"
   ]
  },
  {
   "cell_type": "code",
   "execution_count": 44,
   "id": "ca4bc621",
   "metadata": {},
   "outputs": [
    {
     "data": {
      "text/plain": [
       "False"
      ]
     },
     "execution_count": 44,
     "metadata": {},
     "output_type": "execute_result"
    }
   ],
   "source": [
    "#Convert the complex value into boolean \n",
    "bool(0+0j)"
   ]
  },
  {
   "cell_type": "code",
   "execution_count": 45,
   "id": "8a8a7f8e",
   "metadata": {},
   "outputs": [
    {
     "data": {
      "text/plain": [
       "False"
      ]
     },
     "execution_count": 45,
     "metadata": {},
     "output_type": "execute_result"
    }
   ],
   "source": [
    "#Convert the empty string into boolean \n",
    "bool(\"\")"
   ]
  },
  {
   "cell_type": "code",
   "execution_count": 46,
   "id": "b8bf9f71",
   "metadata": {},
   "outputs": [
    {
     "data": {
      "text/plain": [
       "'14'"
      ]
     },
     "execution_count": 46,
     "metadata": {},
     "output_type": "execute_result"
    }
   ],
   "source": [
    "#Convert the decimal value into string \n",
    "str(14)"
   ]
  },
  {
   "cell_type": "code",
   "execution_count": 47,
   "id": "0e995119",
   "metadata": {},
   "outputs": [
    {
     "data": {
      "text/plain": [
       "'(10+6j)'"
      ]
     },
     "execution_count": 47,
     "metadata": {},
     "output_type": "execute_result"
    }
   ],
   "source": [
    "#Convert the complex value into string \n",
    "str(10+6j)"
   ]
  },
  {
   "cell_type": "code",
   "execution_count": 48,
   "id": "4f08abb7",
   "metadata": {},
   "outputs": [
    {
     "data": {
      "text/plain": [
       "'True'"
      ]
     },
     "execution_count": 48,
     "metadata": {},
     "output_type": "execute_result"
    }
   ],
   "source": [
    "#Convert the boolean value into string \n",
    "str(True)"
   ]
  },
  {
   "cell_type": "markdown",
   "id": "696a5f55",
   "metadata": {},
   "source": [
    "# Keyword and Int.ipynb"
   ]
  },
  {
   "cell_type": "code",
   "execution_count": 9,
   "id": "bd89e0f4",
   "metadata": {},
   "outputs": [
    {
     "name": "stdout",
     "output_type": "stream",
     "text": [
      "Hello Universe\n"
     ]
    }
   ],
   "source": [
    "#Simple Print statement\n",
    "print(\"Hello Universe\")"
   ]
  },
  {
   "cell_type": "code",
   "execution_count": 2,
   "id": "cbde8b6f",
   "metadata": {},
   "outputs": [
    {
     "name": "stdout",
     "output_type": "stream",
     "text": [
      " The Sum: 40\n"
     ]
    }
   ],
   "source": [
    "#Performing addition \n",
    "a = 10\n",
    "b = 30\n",
    "print(\" The Sum:\", (a+b))"
   ]
  },
  {
   "cell_type": "code",
   "execution_count": 1,
   "id": "b4b0fb6c",
   "metadata": {},
   "outputs": [
    {
     "data": {
      "text/plain": [
       "['False',\n",
       " 'None',\n",
       " 'True',\n",
       " 'and',\n",
       " 'as',\n",
       " 'assert',\n",
       " 'async',\n",
       " 'await',\n",
       " 'break',\n",
       " 'class',\n",
       " 'continue',\n",
       " 'def',\n",
       " 'del',\n",
       " 'elif',\n",
       " 'else',\n",
       " 'except',\n",
       " 'finally',\n",
       " 'for',\n",
       " 'from',\n",
       " 'global',\n",
       " 'if',\n",
       " 'import',\n",
       " 'in',\n",
       " 'is',\n",
       " 'lambda',\n",
       " 'nonlocal',\n",
       " 'not',\n",
       " 'or',\n",
       " 'pass',\n",
       " 'raise',\n",
       " 'return',\n",
       " 'try',\n",
       " 'while',\n",
       " 'with',\n",
       " 'yield']"
      ]
     },
     "execution_count": 1,
     "metadata": {},
     "output_type": "execute_result"
    }
   ],
   "source": [
    "#Import the list of keywords\n",
    "import keyword\n",
    "keyword.kwlist"
   ]
  },
  {
   "cell_type": "code",
   "execution_count": 5,
   "id": "b901d173",
   "metadata": {},
   "outputs": [
    {
     "name": "stdout",
     "output_type": "stream",
     "text": [
      "10\n"
     ]
    }
   ],
   "source": [
    "# PVM will always provide values only in decimal form.\n",
    "a = 10\n",
    "print(a)"
   ]
  },
  {
   "cell_type": "code",
   "execution_count": 6,
   "id": "00042078",
   "metadata": {},
   "outputs": [
    {
     "name": "stdout",
     "output_type": "stream",
     "text": [
      "2740\n"
     ]
    }
   ],
   "source": [
    "#Convert the hexadecimal value into intiger \n",
    "c = 0XAB4\n",
    "print(c)"
   ]
  },
  {
   "cell_type": "markdown",
   "id": "1a6c221d",
   "metadata": {},
   "source": [
    "# String.ipynb"
   ]
  },
  {
   "cell_type": "code",
   "execution_count": 5,
   "id": "503ad2d8",
   "metadata": {},
   "outputs": [
    {
     "name": "stdout",
     "output_type": "stream",
     "text": [
      " This is ' ML class\n",
      " This is ' ML class\n",
      " This is \" ML class\n"
     ]
    }
   ],
   "source": [
    "# s1 = ' this is a 'ML class' -- Invalid\n",
    "s2 = ' This is \\' ML class'  \n",
    "s3 = \" This is ' ML class\"  \n",
    "s4 = ' This is \" ML class'  \n",
    "print(s2)\n",
    "print(s3)\n",
    "print(s4)"
   ]
  },
  {
   "cell_type": "code",
   "execution_count": 2,
   "id": "6b83a081",
   "metadata": {},
   "outputs": [
    {
     "name": "stdout",
     "output_type": "stream",
     "text": [
      "t\n",
      "h\n",
      "P\n"
     ]
    }
   ],
   "source": [
    "#Pefrom positive and negative indexing\n",
    "s1 = \"Python\"\n",
    "print(s1[2])\n",
    "print(s1[-3])\n",
    "print(s1[-6])"
   ]
  },
  {
   "cell_type": "code",
   "execution_count": 9,
   "id": "8b7c233c",
   "metadata": {},
   "outputs": [
    {
     "data": {
      "text/plain": [
       "'yt'"
      ]
     },
     "execution_count": 9,
     "metadata": {},
     "output_type": "execute_result"
    }
   ],
   "source": [
    "#Pefrom slicing where the first value is starting index, second value is ending index(excludeing) and thirt value is the number of steps which will skip\n",
    "s1 = \"Python\"\n",
    "s1[1:3:1]"
   ]
  },
  {
   "cell_type": "code",
   "execution_count": 10,
   "id": "2845e76c",
   "metadata": {},
   "outputs": [
    {
     "data": {
      "text/plain": [
       "'Pto'"
      ]
     },
     "execution_count": 10,
     "metadata": {},
     "output_type": "execute_result"
    }
   ],
   "source": [
    "#Pefrom slicing\n",
    "s1[0:6:2]"
   ]
  },
  {
   "cell_type": "code",
   "execution_count": 14,
   "id": "4b214c51",
   "metadata": {},
   "outputs": [
    {
     "data": {
      "text/plain": [
       "'nohtyP'"
      ]
     },
     "execution_count": 14,
     "metadata": {},
     "output_type": "execute_result"
    }
   ],
   "source": [
    "#Pefrom slicing\n",
    "s1[::-1]"
   ]
  },
  {
   "cell_type": "code",
   "execution_count": 12,
   "id": "068e20bc",
   "metadata": {},
   "outputs": [
    {
     "data": {
      "text/plain": [
       "'Python'"
      ]
     },
     "execution_count": 12,
     "metadata": {},
     "output_type": "execute_result"
    }
   ],
   "source": [
    "#Pefrom slicing\n",
    "s1[::]"
   ]
  },
  {
   "cell_type": "code",
   "execution_count": 16,
   "id": "b66d2941",
   "metadata": {},
   "outputs": [
    {
     "name": "stdout",
     "output_type": "stream",
     "text": [
      "Python Classes\n"
     ]
    }
   ],
   "source": [
    "#Pefrom concatenation on string\n",
    "print(\"Python \" + \"Classes\") "
   ]
  },
  {
   "cell_type": "code",
   "execution_count": 18,
   "id": "c6ebd3f3",
   "metadata": {},
   "outputs": [
    {
     "name": "stdout",
     "output_type": "stream",
     "text": [
      "Python Python Python Python \n"
     ]
    }
   ],
   "source": [
    "#Pefrom the multiplication between string and intiger \n",
    "print(\"Python \" * 4)"
   ]
  },
  {
   "cell_type": "code",
   "execution_count": 19,
   "id": "9ed39a0c",
   "metadata": {},
   "outputs": [
    {
     "name": "stdout",
     "output_type": "stream",
     "text": [
      "14\n"
     ]
    }
   ],
   "source": [
    "#Check the length of the string\n",
    "s2 = \"Python classes\"\n",
    "print(len(s2))"
   ]
  },
  {
   "cell_type": "code",
   "execution_count": 20,
   "id": "7da03cc3",
   "metadata": {},
   "outputs": [],
   "source": [
    "# write a program to access each character of string in forward and backward direction by using while loop"
   ]
  },
  {
   "cell_type": "code",
   "execution_count": 22,
   "id": "d30d29e1",
   "metadata": {},
   "outputs": [
    {
     "name": "stdout",
     "output_type": "stream",
     "text": [
      "True\n",
      "False\n"
     ]
    }
   ],
   "source": [
    " s3 = \"Python classes\"\n",
    " print('o' in s3)\n",
    "print('f' in s3)"
   ]
  },
  {
   "cell_type": "code",
   "execution_count": 25,
   "id": "5621da7a",
   "metadata": {},
   "outputs": [
    {
     "name": "stdout",
     "output_type": "stream",
     "text": [
      "s1 is less than s2\n"
     ]
    }
   ],
   "source": [
    "s1 = \"Java\"\n",
    "s2 = \"Python\"\n",
    "if s1 == s2:\n",
    "    print(\"Both are equal\")\n",
    "elif s1<s2:\n",
    "    print(\"s1 is less than s2\")"
   ]
  },
  {
   "cell_type": "code",
   "execution_count": 32,
   "id": "74986090",
   "metadata": {
    "scrolled": true
   },
   "outputs": [
    {
     "name": "stdout",
     "output_type": "stream",
     "text": [
      "Python\n"
     ]
    }
   ],
   "source": [
    "s4 = \"      Python      \"\n",
    "print(s4.strip())"
   ]
  },
  {
   "cell_type": "code",
   "execution_count": 34,
   "id": "a30c9636",
   "metadata": {},
   "outputs": [
    {
     "name": "stdout",
     "output_type": "stream",
     "text": [
      "0\n",
      "-1\n",
      "8\n",
      "17\n",
      "17\n"
     ]
    }
   ],
   "source": [
    "# find ()\n",
    "s5 = \"Python is very easy\"\n",
    "print(s5.find(\"Python\")) #0\n",
    "print(s5.find(\"Java\"))  #\n",
    "print(s5.find(\"s\"))    #8\n",
    "print(s5.rfind(\"s\"))   #17\n",
    "print(s5.find(\"s\",9,18)) #17"
   ]
  },
  {
   "cell_type": "code",
   "execution_count": 36,
   "id": "1189e838",
   "metadata": {},
   "outputs": [
    {
     "name": "stdout",
     "output_type": "stream",
     "text": [
      "Enter main stringPython is very easy\n",
      "Enter sub stringJava\n",
      "sub string not found\n"
     ]
    }
   ],
   "source": [
    "# index() - its same as find() but if we specify substring which is not available in the main string then we will get valueerror\n",
    "\n",
    "s7 = input(\"Enter main string\")\n",
    "subs = input(\"Enter sub string\")\n",
    "try:\n",
    "    n = s7.index(subs)\n",
    "except ValueError:\n",
    "    print(\"sub string not found\")\n",
    "else:\n",
    "    print(\"substring found\")\n"
   ]
  },
  {
   "cell_type": "code",
   "execution_count": null,
   "id": "c85d4ab1",
   "metadata": {},
   "outputs": [],
   "source": [
    "# Program to display all positions of substring from a main string"
   ]
  },
  {
   "cell_type": "markdown",
   "id": "7934ba8e",
   "metadata": {},
   "source": [
    "# String_2.ipynb"
   ]
  },
  {
   "cell_type": "code",
   "execution_count": 1,
   "id": "2ff412d7",
   "metadata": {},
   "outputs": [
    {
     "name": "stdout",
     "output_type": "stream",
     "text": [
      "4\n"
     ]
    }
   ],
   "source": [
    "# Count substring\n",
    "s = \"Python is a programming language\"\n",
    "print(s.count(\"a\"))"
   ]
  },
  {
   "cell_type": "code",
   "execution_count": 2,
   "id": "e5b49846",
   "metadata": {},
   "outputs": [
    {
     "name": "stdout",
     "output_type": "stream",
     "text": [
      "1\n"
     ]
    }
   ],
   "source": [
    "print(s.count('pro'))"
   ]
  },
  {
   "cell_type": "code",
   "execution_count": 3,
   "id": "1b6eeb60",
   "metadata": {},
   "outputs": [
    {
     "name": "stdout",
     "output_type": "stream",
     "text": [
      "1\n"
     ]
    }
   ],
   "source": [
    "print(s.count('a',12, 25 ))"
   ]
  },
  {
   "cell_type": "code",
   "execution_count": 4,
   "id": "8d20f20f",
   "metadata": {},
   "outputs": [
    {
     "name": "stdout",
     "output_type": "stream",
     "text": [
      "Python is very difficult language\n"
     ]
    }
   ],
   "source": [
    "# Replace string\n",
    "s1 = \"Python is very easy language\"\n",
    "s2 = s1.replace(\"easy\", \"difficult\")\n",
    "print(s2)"
   ]
  },
  {
   "cell_type": "code",
   "execution_count": 7,
   "id": "0779ec6d",
   "metadata": {},
   "outputs": [],
   "source": [
    "s3 = \"Java is difficult language. Java is based on Oops\"\n",
    "s4 = s3.replace(\"Java\", \"Python\")"
   ]
  },
  {
   "cell_type": "code",
   "execution_count": 8,
   "id": "8c4b25b5",
   "metadata": {},
   "outputs": [
    {
     "name": "stdout",
     "output_type": "stream",
     "text": [
      "Python is difficult language. Python is based on Oops\n"
     ]
    }
   ],
   "source": [
    "print(s4)"
   ]
  },
  {
   "cell_type": "code",
   "execution_count": 10,
   "id": "eaa5ccbf",
   "metadata": {},
   "outputs": [
    {
     "name": "stdout",
     "output_type": "stream",
     "text": [
      "Python\n",
      "Programming\n",
      "Language\n"
     ]
    }
   ],
   "source": [
    "# Split a string\n",
    "s5 = \"Python Programming Language\"\n",
    "x = s5.split()\n",
    "for i in x:\n",
    "    print(i)"
   ]
  },
  {
   "cell_type": "code",
   "execution_count": 11,
   "id": "581eb10d",
   "metadata": {},
   "outputs": [
    {
     "name": "stdout",
     "output_type": "stream",
     "text": [
      "Dyal-Pardeep-Kaushal\n"
     ]
    }
   ],
   "source": [
    "# Joining of strings\n",
    "t1 = ('Dyal', 'Pardeep', 'Kaushal')\n",
    "s6 = '-'.join(t1)\n",
    "print(s6)"
   ]
  },
  {
   "cell_type": "code",
   "execution_count": 15,
   "id": "823623e8",
   "metadata": {},
   "outputs": [
    {
     "name": "stdout",
     "output_type": "stream",
     "text": [
      "False\n",
      "True\n",
      "False\n",
      "True\n"
     ]
    }
   ],
   "source": [
    "# Start and end of the substring\n",
    "s7 = 'Python is very easy language'\n",
    "print(s7.startswith('easy'))\n",
    "print(s7.startswith('Python'))\n",
    "print(s7.endswith('easy'))\n",
    "print(s7.endswith('language'))"
   ]
  },
  {
   "cell_type": "code",
   "execution_count": 19,
   "id": "985b2f01",
   "metadata": {},
   "outputs": [
    {
     "name": "stdout",
     "output_type": "stream",
     "text": [
      "Anand's salary is 50000 and his age is 22\n",
      "Anand's salary is 50000 and his age is 22\n",
      "Anand's salary is 50000 and his age is 22\n"
     ]
    }
   ],
   "source": [
    "# format() method\n",
    "name = \"Anand\"\n",
    "salary = 50000\n",
    "age = 22\n",
    "print(\"{}'s salary is {} and his age is {}\".format(name, salary, age))\n",
    "print(\"{0}'s salary is {1} and his age is {2}\".format(name, salary, age))\n",
    "print(\"{a}'s salary is {b} and his age is {c}\".format(a=name, b=salary, c=age))"
   ]
  },
  {
   "cell_type": "markdown",
   "id": "d533784d",
   "metadata": {},
   "source": [
    "# List.ipynb"
   ]
  },
  {
   "cell_type": "code",
   "execution_count": 1,
   "id": "386699fa",
   "metadata": {},
   "outputs": [
    {
     "name": "stdout",
     "output_type": "stream",
     "text": [
      "[]\n"
     ]
    }
   ],
   "source": [
    "l3 = []\n",
    "print(l3)"
   ]
  },
  {
   "cell_type": "code",
   "execution_count": 2,
   "id": "e38931f2",
   "metadata": {},
   "outputs": [
    {
     "name": "stdout",
     "output_type": "stream",
     "text": [
      "<class 'type'>\n"
     ]
    }
   ],
   "source": [
    "print(type(list))"
   ]
  },
  {
   "cell_type": "code",
   "execution_count": 3,
   "id": "3174666b",
   "metadata": {},
   "outputs": [
    {
     "name": "stdout",
     "output_type": "stream",
     "text": [
      "Enter List:[2,4,6]\n",
      "[2, 4, 6]\n",
      "<class 'list'>\n"
     ]
    }
   ],
   "source": [
    "# Dynamic input\n",
    "list1 = eval(input(\"Enter List:\"))\n",
    "print(list1)\n",
    "print(type(list1))"
   ]
  },
  {
   "cell_type": "code",
   "execution_count": 4,
   "id": "d0e96e59",
   "metadata": {},
   "outputs": [
    {
     "name": "stdout",
     "output_type": "stream",
     "text": [
      "[0, 2, 4, 6, 8]\n",
      "<class 'list'>\n"
     ]
    }
   ],
   "source": [
    "# list() function\n",
    "list3 = list(range(0,10,2))\n",
    "print(list3)\n",
    "print(type(list3))"
   ]
  },
  {
   "cell_type": "code",
   "execution_count": 5,
   "id": "16acd95e",
   "metadata": {},
   "outputs": [
    {
     "name": "stdout",
     "output_type": "stream",
     "text": [
      "['P', 'y', 't', 'h', 'o', 'n']\n"
     ]
    }
   ],
   "source": [
    "str1 = \"Python\"\n",
    "list4 = list(str1)\n",
    "print(list4)"
   ]
  },
  {
   "cell_type": "code",
   "execution_count": 6,
   "id": "e2155081",
   "metadata": {},
   "outputs": [
    {
     "name": "stdout",
     "output_type": "stream",
     "text": [
      "['Python', 'is', 'very', 'easy']\n",
      "<class 'list'>\n"
     ]
    }
   ],
   "source": [
    "# split() function\n",
    "str2 = \"Python is very easy\"\n",
    "list5 = str2.split()\n",
    "print(list5)\n",
    "print(type(list5))"
   ]
  },
  {
   "cell_type": "code",
   "execution_count": 7,
   "id": "49745b1c",
   "metadata": {},
   "outputs": [],
   "source": [
    "# Nested List\n",
    "list6 = [2,4,[10,20]]"
   ]
  },
  {
   "cell_type": "code",
   "execution_count": 8,
   "id": "fde09916",
   "metadata": {},
   "outputs": [
    {
     "data": {
      "text/plain": [
       "'Python'"
      ]
     },
     "execution_count": 8,
     "metadata": {},
     "output_type": "execute_result"
    }
   ],
   "source": [
    "list5[0]"
   ]
  },
  {
   "cell_type": "code",
   "execution_count": 9,
   "id": "e00a9580",
   "metadata": {},
   "outputs": [
    {
     "data": {
      "text/plain": [
       "'easy'"
      ]
     },
     "execution_count": 9,
     "metadata": {},
     "output_type": "execute_result"
    }
   ],
   "source": [
    "list5[-1]"
   ]
  },
  {
   "cell_type": "code",
   "execution_count": 11,
   "id": "8c9db8be",
   "metadata": {},
   "outputs": [
    {
     "name": "stdout",
     "output_type": "stream",
     "text": [
      "[4, 6, 8]\n",
      "[5, 7, 9]\n",
      "[9, 7, 5]\n",
      "[5, 6, 7, 8, 9]\n"
     ]
    }
   ],
   "source": [
    "# Slice \n",
    "# list6 = list5[start:stop:step]\n",
    "list7= [2,3,4,5,6,7,8,9]\n",
    "print(list7[2:7:2])  # 4,6,8\n",
    "print(list7[3::2])  #5,7,9\n",
    "print(list7[8:2:-2]) #\n",
    "print(list7[3:50]) #4,5,6,7,8,9\n"
   ]
  },
  {
   "cell_type": "code",
   "execution_count": 12,
   "id": "d9c65776",
   "metadata": {},
   "outputs": [
    {
     "name": "stdout",
     "output_type": "stream",
     "text": [
      "[20, 30, 40, 50, 60]\n",
      "[20, 30, 660, 50, 60]\n"
     ]
    }
   ],
   "source": [
    "# list is a mutable\n",
    "list8= [20,30,40,50,60]\n",
    "print(list8)\n",
    "list8[2]=660\n",
    "print(list8)"
   ]
  },
  {
   "cell_type": "code",
   "execution_count": 13,
   "id": "41c25276",
   "metadata": {},
   "outputs": [
    {
     "name": "stdout",
     "output_type": "stream",
     "text": [
      "2\n",
      "3\n",
      "4\n",
      "5\n",
      "6\n",
      "7\n",
      "8\n",
      "9\n"
     ]
    }
   ],
   "source": [
    "# Traversing the elements of list\n",
    "# by using while loop \n",
    "list9= [2,3,4,5,6,7,8,9]\n",
    "i = 0\n",
    "while i<len(list9):\n",
    "    print(list9[i])\n",
    "    i=i+1"
   ]
  },
  {
   "cell_type": "code",
   "execution_count": 14,
   "id": "75476f40",
   "metadata": {},
   "outputs": [],
   "source": [
    "# by using for loop \n",
    "# write a program to find only even numbers from the list\n"
   ]
  },
  {
   "cell_type": "code",
   "execution_count": 4,
   "id": "d6d4cc76",
   "metadata": {},
   "outputs": [
    {
     "name": "stdout",
     "output_type": "stream",
     "text": [
      "3\n",
      "2\n"
     ]
    }
   ],
   "source": [
    "#Functions of list\n",
    "# len(), count(), index()\n",
    "list9= [2,3,4,5,6,7,8,9,5]\n",
    "print(list9.index(5))\n",
    "print(list9.count(5))"
   ]
  },
  {
   "cell_type": "code",
   "execution_count": 18,
   "id": "8cdcba28",
   "metadata": {},
   "outputs": [],
   "source": [
    "# Manipulation method of list\n",
    "# append(), insert(), extend(), remove(),pop(),"
   ]
  },
  {
   "cell_type": "code",
   "execution_count": 19,
   "id": "aef2e53a",
   "metadata": {},
   "outputs": [
    {
     "name": "stdout",
     "output_type": "stream",
     "text": [
      "['d', 'g', 'j']\n"
     ]
    }
   ],
   "source": [
    "# append(): add item at the end of the list\n",
    "list10= []\n",
    "list10.append(\"d\")\n",
    "list10.append(\"g\")\n",
    "list10.append(\"j\")\n",
    "print(list10)\n"
   ]
  },
  {
   "cell_type": "code",
   "execution_count": 20,
   "id": "4103eda3",
   "metadata": {},
   "outputs": [
    {
     "name": "stdout",
     "output_type": "stream",
     "text": [
      "['d', 900, 'g', 'j']\n"
     ]
    }
   ],
   "source": [
    "# insert() function: insert item at specified index position\n",
    "list10.insert(1,900)\n",
    "print(list10)"
   ]
  },
  {
   "cell_type": "code",
   "execution_count": 21,
   "id": "ecaf4b92",
   "metadata": {},
   "outputs": [
    {
     "name": "stdout",
     "output_type": "stream",
     "text": [
      "['afb', 'd', 900, 'g', 'j', 'test']\n"
     ]
    }
   ],
   "source": [
    "list10.insert(20,'test')\n",
    "list10.insert(-50,'afb')\n",
    "print(list10)"
   ]
  },
  {
   "cell_type": "code",
   "execution_count": 22,
   "id": "c8121c35",
   "metadata": {},
   "outputs": [
    {
     "name": "stdout",
     "output_type": "stream",
     "text": [
      "['Security weaver', 'Infosys', 'Microsoft', 'SW', 'Infy', 'MS']\n"
     ]
    }
   ],
   "source": [
    "# extend() function: add all items of one list to another list\n",
    "l1 = [\"Security weaver\", \"Infosys\", \"Microsoft\"]\n",
    "l2 = [\"SW\", \"Infy\", \"MS\"]\n",
    "l1.extend(l2)\n",
    "print(l1)\n"
   ]
  },
  {
   "cell_type": "code",
   "execution_count": 23,
   "id": "b71e626c",
   "metadata": {},
   "outputs": [
    {
     "name": "stdout",
     "output_type": "stream",
     "text": [
      "[30, 50, 60]\n"
     ]
    }
   ],
   "source": [
    "# remove() function: remove item from the list\n",
    "l3 = [30,40,50,60]\n",
    "l3.remove(40)\n",
    "print(l3)"
   ]
  },
  {
   "cell_type": "code",
   "execution_count": 6,
   "id": "5beb2147",
   "metadata": {},
   "outputs": [
    {
     "name": "stdout",
     "output_type": "stream",
     "text": [
      "[30, 50, 60, 20]\n"
     ]
    }
   ],
   "source": [
    "l4 = [30,20,50,60,20]\n",
    "l4.remove(20)\n",
    "print(l4)"
   ]
  },
  {
   "cell_type": "code",
   "execution_count": 26,
   "id": "a7ccf6c5",
   "metadata": {},
   "outputs": [
    {
     "name": "stdout",
     "output_type": "stream",
     "text": [
      "20\n",
      "60\n",
      "[30, 20, 50]\n"
     ]
    }
   ],
   "source": [
    "# pop(): remove and returns the last element of the list\n",
    "l4 = [30,20,50,60,20]\n",
    "print(l4.pop()) # 20\n",
    "print(l4.pop()) # 60\n",
    "print(l4)"
   ]
  },
  {
   "cell_type": "code",
   "execution_count": null,
   "id": "a2ed0bbf",
   "metadata": {},
   "outputs": [],
   "source": []
  },
  {
   "cell_type": "markdown",
   "id": "f56ffe88",
   "metadata": {},
   "source": [
    "# List_2.ipynb"
   ]
  },
  {
   "cell_type": "code",
   "execution_count": 1,
   "id": "91c9d245",
   "metadata": {},
   "outputs": [
    {
     "name": "stdout",
     "output_type": "stream",
     "text": [
      "[40, 30, 20, 10]\n"
     ]
    }
   ],
   "source": [
    "list1 = [10,20,30,40]\n",
    "list1.reverse()\n",
    "print(list1)"
   ]
  },
  {
   "cell_type": "code",
   "execution_count": 2,
   "id": "6dce0a1a",
   "metadata": {},
   "outputs": [
    {
     "name": "stdout",
     "output_type": "stream",
     "text": [
      "[4, 6, 23, 30, 78]\n"
     ]
    }
   ],
   "source": [
    "list2 = [30,6,23,78,4]\n",
    "list2.sort()\n",
    "print(list2)"
   ]
  },
  {
   "cell_type": "code",
   "execution_count": 3,
   "id": "31384536",
   "metadata": {},
   "outputs": [
    {
     "name": "stdout",
     "output_type": "stream",
     "text": [
      "['Banana', 'Orange', 'Papaya']\n"
     ]
    }
   ],
   "source": [
    "list3 = [\"Orange\", \"Banana\", \"Papaya\"]\n",
    "list3.sort()\n",
    "print(list3)"
   ]
  },
  {
   "cell_type": "code",
   "execution_count": 5,
   "id": "61f94670",
   "metadata": {},
   "outputs": [
    {
     "name": "stdout",
     "output_type": "stream",
     "text": [
      "[78, 30, 23, 6, 4]\n"
     ]
    }
   ],
   "source": [
    "list5 = [30,6,23,78,4]\n",
    "list5.sort(reverse = True)\n",
    "print(list5)"
   ]
  },
  {
   "cell_type": "code",
   "execution_count": 6,
   "id": "36c2475b",
   "metadata": {},
   "outputs": [
    {
     "name": "stdout",
     "output_type": "stream",
     "text": [
      "[20, 30, 40, 50]\n"
     ]
    }
   ],
   "source": [
    "l1 = [20,30]\n",
    "l2 = [40,50]\n",
    "l3 = l1 + l2\n",
    "print(l3)"
   ]
  },
  {
   "cell_type": "code",
   "execution_count": 7,
   "id": "50d58128",
   "metadata": {},
   "outputs": [
    {
     "name": "stdout",
     "output_type": "stream",
     "text": [
      "[10, 20, 10, 20]\n"
     ]
    }
   ],
   "source": [
    "l4 = [10,20]\n",
    "l5 = l4*2\n",
    "print(l5)"
   ]
  },
  {
   "cell_type": "code",
   "execution_count": 8,
   "id": "14efd2c9",
   "metadata": {},
   "outputs": [
    {
     "name": "stdout",
     "output_type": "stream",
     "text": [
      "True\n",
      "False\n",
      "True\n",
      "True\n"
     ]
    }
   ],
   "source": [
    "l6 = [\"Orange\", \"Papaya\"]\n",
    "l7 = [\"Orange\", \"Papaya\"]\n",
    "l8 = [\"Guava\", \"Apple\"]\n",
    "l9 = [\"ORANGE\", \"PAPAYA\"]\n",
    "print(l6 == l7) #True\n",
    "print(l6 == l8) #False\n",
    "print(l6 != l8) #True\n",
    "print(l6 != l9) #True"
   ]
  },
  {
   "cell_type": "code",
   "execution_count": 9,
   "id": "d418f455",
   "metadata": {},
   "outputs": [
    {
     "name": "stdout",
     "output_type": "stream",
     "text": [
      "True\n",
      "False\n",
      "False\n"
     ]
    }
   ],
   "source": [
    "l10 = [20,30,40]\n",
    "print(20 in l10) #True\n",
    "print(30 not in l10) #False\n",
    "print(60 in l10) #False"
   ]
  },
  {
   "cell_type": "code",
   "execution_count": 10,
   "id": "e2a2b0d1",
   "metadata": {},
   "outputs": [
    {
     "name": "stdout",
     "output_type": "stream",
     "text": [
      "[20, 30, 40]\n",
      "[]\n"
     ]
    }
   ],
   "source": [
    "# clear()\n",
    "l11 = [20,30,40]\n",
    "print(l11)\n",
    "l11.clear()\n",
    "print(l11)"
   ]
  },
  {
   "cell_type": "code",
   "execution_count": 11,
   "id": "0753f295",
   "metadata": {},
   "outputs": [
    {
     "name": "stdout",
     "output_type": "stream",
     "text": [
      "[10, 20, [30, 40]]\n",
      "20\n",
      "[30, 40]\n",
      "30\n",
      "40\n"
     ]
    }
   ],
   "source": [
    "# Nested list\n",
    "lt1 = [10,20,[30,40]]\n",
    "print(lt1)\n",
    "print(lt1[1])\n",
    "print(lt1[2])\n",
    "print(lt1[2][0])\n",
    "print(lt1[2][1])"
   ]
  },
  {
   "cell_type": "code",
   "execution_count": 13,
   "id": "e7482bd8",
   "metadata": {},
   "outputs": [],
   "source": [
    "# write a program to disply unique vowels present in the given word"
   ]
  },
  {
   "cell_type": "code",
   "execution_count": 14,
   "id": "4f1ef159",
   "metadata": {},
   "outputs": [
    {
     "name": "stdout",
     "output_type": "stream",
     "text": [
      "<class 'tuple'>\n"
     ]
    }
   ],
   "source": [
    "t1 = (10,20,30,40)\n",
    "print(type(t1))"
   ]
  },
  {
   "cell_type": "code",
   "execution_count": 15,
   "id": "1c9ae81d",
   "metadata": {},
   "outputs": [
    {
     "name": "stdout",
     "output_type": "stream",
     "text": [
      "<class 'tuple'>\n"
     ]
    }
   ],
   "source": [
    "# tuple ()\n",
    "l12 = [10,20,30]\n",
    "t2 = tuple(l12)\n",
    "print(type(t2))"
   ]
  },
  {
   "cell_type": "code",
   "execution_count": 18,
   "id": "d4164111",
   "metadata": {},
   "outputs": [
    {
     "name": "stdout",
     "output_type": "stream",
     "text": [
      "20\n",
      "10\n"
     ]
    }
   ],
   "source": [
    "# By using index , we can acces element\n",
    "print(t2[1])\n",
    "print(t2[-3])\n"
   ]
  },
  {
   "cell_type": "code",
   "execution_count": 19,
   "id": "b2043f8f",
   "metadata": {},
   "outputs": [
    {
     "name": "stdout",
     "output_type": "stream",
     "text": [
      "(10, 20)\n"
     ]
    }
   ],
   "source": [
    "# Slice\n",
    "print(t2[0:2])"
   ]
  },
  {
   "cell_type": "code",
   "execution_count": 20,
   "id": "3b66b322",
   "metadata": {},
   "outputs": [
    {
     "name": "stdout",
     "output_type": "stream",
     "text": [
      "(10, 20, 30, 40, 50, 60)\n"
     ]
    }
   ],
   "source": [
    "# +, * can be use\n",
    "t3 = (10,20,30,40)\n",
    "t4 = (50,60)\n",
    "t5 = t3 + t4\n",
    "print(t5)"
   ]
  },
  {
   "cell_type": "code",
   "execution_count": 21,
   "id": "d30c0bf2",
   "metadata": {},
   "outputs": [
    {
     "name": "stdout",
     "output_type": "stream",
     "text": [
      "(50, 60, 50, 60, 50, 60)\n"
     ]
    }
   ],
   "source": [
    "t6 = (50,60)\n",
    "t7 = t6*3\n",
    "print(t7)"
   ]
  },
  {
   "cell_type": "code",
   "execution_count": null,
   "id": "7a26c2b2",
   "metadata": {},
   "outputs": [],
   "source": [
    "# len(), count(),index(),sorted(), min(), max(), cmp()"
   ]
  },
  {
   "cell_type": "markdown",
   "id": "b006e17e",
   "metadata": {},
   "source": [
    "# Set.ipynb"
   ]
  },
  {
   "cell_type": "code",
   "execution_count": 2,
   "id": "75f73143",
   "metadata": {},
   "outputs": [
    {
     "name": "stdout",
     "output_type": "stream",
     "text": [
      "{40, 10, 20, 30}\n",
      "<class 'set'>\n"
     ]
    }
   ],
   "source": [
    "s1 = {10,20,30,40}\n",
    "print(s1)\n",
    "print(type(s1))"
   ]
  },
  {
   "cell_type": "code",
   "execution_count": 3,
   "id": "f70d394f",
   "metadata": {},
   "outputs": [],
   "source": [
    "# set()\n",
    "l1 = [10,20,30,40,10,20,10]\n",
    "s2 = set(l1)"
   ]
  },
  {
   "cell_type": "code",
   "execution_count": 4,
   "id": "ee8d3fdf",
   "metadata": {},
   "outputs": [
    {
     "name": "stdout",
     "output_type": "stream",
     "text": [
      "{40, 10, 20, 30}\n"
     ]
    }
   ],
   "source": [
    "print(s2) "
   ]
  },
  {
   "cell_type": "code",
   "execution_count": 5,
   "id": "f172ffdf",
   "metadata": {},
   "outputs": [
    {
     "name": "stdout",
     "output_type": "stream",
     "text": [
      "{0, 1, 2, 3, 4, 5, 6, 7, 8, 9}\n"
     ]
    }
   ],
   "source": [
    "s3 = set(range(10))\n",
    "print(s3)"
   ]
  },
  {
   "cell_type": "code",
   "execution_count": 6,
   "id": "5fca1013",
   "metadata": {},
   "outputs": [
    {
     "name": "stdout",
     "output_type": "stream",
     "text": [
      "{}\n",
      "<class 'dict'>\n"
     ]
    }
   ],
   "source": [
    "s4={}\n",
    "print(s4)\n",
    "print(type(s4))"
   ]
  },
  {
   "cell_type": "code",
   "execution_count": 7,
   "id": "70eb2945",
   "metadata": {},
   "outputs": [
    {
     "name": "stdout",
     "output_type": "stream",
     "text": [
      "set()\n",
      "<class 'set'>\n"
     ]
    }
   ],
   "source": [
    "s5=set()\n",
    "print(s5)\n",
    "print(type(s5))"
   ]
  },
  {
   "cell_type": "code",
   "execution_count": 8,
   "id": "2259f5fe",
   "metadata": {},
   "outputs": [
    {
     "name": "stdout",
     "output_type": "stream",
     "text": [
      "{40, 10, 50, 20, 30}\n"
     ]
    }
   ],
   "source": [
    "# add()\n",
    "s6 = {10,20,30,40}\n",
    "s6.add(50)\n",
    "print(s6)"
   ]
  },
  {
   "cell_type": "code",
   "execution_count": 10,
   "id": "042c06d0",
   "metadata": {},
   "outputs": [
    {
     "name": "stdout",
     "output_type": "stream",
     "text": [
      "{0, 1, 2, 3, 70, 40, 10, 50, 20, 60, 30}\n"
     ]
    }
   ],
   "source": [
    "# update()\n",
    "s7 = {10,20,30,40}\n",
    "l2=[50,60,70,20,30]\n",
    "s7.update(l2,range(4))\n",
    "print(s7)"
   ]
  },
  {
   "cell_type": "code",
   "execution_count": 16,
   "id": "449bcd7e",
   "metadata": {},
   "outputs": [
    {
     "name": "stdout",
     "output_type": "stream",
     "text": [
      "{40, 20, 30}\n"
     ]
    }
   ],
   "source": [
    "# copy()\n",
    "s8={20,30,40}\n",
    "s9=s8.copy()\n",
    "print(s9)"
   ]
  },
  {
   "cell_type": "code",
   "execution_count": 17,
   "id": "7a409ec4",
   "metadata": {},
   "outputs": [
    {
     "name": "stdout",
     "output_type": "stream",
     "text": [
      "{40, 50, 20, 30}\n",
      "{40, 20, 30}\n"
     ]
    }
   ],
   "source": [
    "s9.add(50)\n",
    "print(s9)\n",
    "print(s8)"
   ]
  },
  {
   "cell_type": "code",
   "execution_count": 18,
   "id": "2acc04e9",
   "metadata": {},
   "outputs": [
    {
     "name": "stdout",
     "output_type": "stream",
     "text": [
      "{20, 30}\n"
     ]
    }
   ],
   "source": [
    "#pop()\n",
    "s8.pop()\n",
    "print(s8)"
   ]
  },
  {
   "cell_type": "code",
   "execution_count": 19,
   "id": "4a849179",
   "metadata": {},
   "outputs": [
    {
     "name": "stdout",
     "output_type": "stream",
     "text": [
      "{40, 50, 20, 30}\n",
      "{40, 50, 30}\n"
     ]
    }
   ],
   "source": [
    "#remove(x)\n",
    "print(s9)\n",
    "s9.remove(20)\n",
    "print(s9)"
   ]
  },
  {
   "cell_type": "code",
   "execution_count": 20,
   "id": "895e5a36",
   "metadata": {},
   "outputs": [
    {
     "name": "stdout",
     "output_type": "stream",
     "text": [
      "{40, 50, 30}\n",
      "{40, 50}\n"
     ]
    }
   ],
   "source": [
    "# discard(x) - its same as remove(x), but discard function will not return any error in case if element does not find in the set\n",
    "print(s9)\n",
    "s9.discard(30)\n",
    "print(s9)"
   ]
  },
  {
   "cell_type": "code",
   "execution_count": 21,
   "id": "c9ebaae5",
   "metadata": {},
   "outputs": [
    {
     "name": "stdout",
     "output_type": "stream",
     "text": [
      "{40, 10, 20, 30}\n",
      "set()\n"
     ]
    }
   ],
   "source": [
    "#clear()\n",
    "s10 = {10,20,30,40}\n",
    "print(s10)\n",
    "s10.clear()\n",
    "print(s10)"
   ]
  },
  {
   "cell_type": "code",
   "execution_count": 22,
   "id": "c5e47b5f",
   "metadata": {},
   "outputs": [
    {
     "name": "stdout",
     "output_type": "stream",
     "text": [
      "{40, 10, 50, 20, 60, 30}\n"
     ]
    }
   ],
   "source": [
    "# union()\n",
    "x = {10,20,30,40}\n",
    "y = {30,40,50,60}\n",
    "print(x.union(y))"
   ]
  },
  {
   "cell_type": "code",
   "execution_count": 23,
   "id": "5613ee95",
   "metadata": {},
   "outputs": [
    {
     "name": "stdout",
     "output_type": "stream",
     "text": [
      "{40, 30}\n"
     ]
    }
   ],
   "source": [
    "# intersection()\n",
    "x1 = {10,20,30,40}\n",
    "y1 = {30,40,50,60} \n",
    "print(x1.intersection(y1))"
   ]
  },
  {
   "cell_type": "code",
   "execution_count": 25,
   "id": "dd32efa0",
   "metadata": {},
   "outputs": [
    {
     "name": "stdout",
     "output_type": "stream",
     "text": [
      "{10, 20}\n",
      "{50, 60}\n"
     ]
    }
   ],
   "source": [
    "# difference()\n",
    "x2 = {10,20,30,40}\n",
    "y2 = {30,40,50,60} \n",
    "print(x2.difference(y2))\n",
    "print(y2.difference(x2))"
   ]
  },
  {
   "cell_type": "code",
   "execution_count": 26,
   "id": "e4f6e2bf",
   "metadata": {},
   "outputs": [
    {
     "name": "stdout",
     "output_type": "stream",
     "text": [
      "{10, 50, 20, 60}\n"
     ]
    }
   ],
   "source": [
    "# symmetric_difference():  returns only those elements which are present in either x OR y but not in both\n",
    "x3 = {10,20,30,40}\n",
    "y3 = {30,40,50,60} \n",
    "print(x3.symmetric_difference(y3))"
   ]
  },
  {
   "cell_type": "code",
   "execution_count": 27,
   "id": "f755f838",
   "metadata": {},
   "outputs": [
    {
     "name": "stdout",
     "output_type": "stream",
     "text": [
      "{'o', 't', 'y', 'P', 'h', 'n'}\n",
      "True\n",
      "True\n",
      "False\n"
     ]
    }
   ],
   "source": [
    "x4 = set(\"Python\")\n",
    "print(x4)\n",
    "print('t' in x4) # True\n",
    "print('n' in x4) #True\n",
    "print('a' in x4) #False"
   ]
  },
  {
   "cell_type": "code",
   "execution_count": null,
   "id": "9b6db0d4",
   "metadata": {},
   "outputs": [],
   "source": [
    "# Write a program to print different vowel present in the given word using set()\n"
   ]
  },
  {
   "cell_type": "markdown",
   "id": "50ff5c13",
   "metadata": {},
   "source": [
    "# Dictionary.ipynb"
   ]
  },
  {
   "cell_type": "code",
   "execution_count": 1,
   "id": "83669faa",
   "metadata": {},
   "outputs": [
    {
     "name": "stdout",
     "output_type": "stream",
     "text": [
      "<class 'dict'>\n",
      "<class 'dict'>\n"
     ]
    }
   ],
   "source": [
    "d1 = {}\n",
    "d2 = dict()\n",
    "print(type(d1))\n",
    "print(type(d2))"
   ]
  },
  {
   "cell_type": "code",
   "execution_count": 2,
   "id": "56b49af5",
   "metadata": {},
   "outputs": [
    {
     "name": "stdout",
     "output_type": "stream",
     "text": [
      "{1: 'Python', 2: 'Java', 3: 'C#'}\n"
     ]
    }
   ],
   "source": [
    "d1[1]=\"Python\"\n",
    "d1[2]=\"Java\"\n",
    "d1[3]=\"C#\"\n",
    "print(d1)"
   ]
  },
  {
   "cell_type": "code",
   "execution_count": 3,
   "id": "2d2f4e40",
   "metadata": {},
   "outputs": [
    {
     "name": "stdout",
     "output_type": "stream",
     "text": [
      "Java\n"
     ]
    }
   ],
   "source": [
    "print(d1[2])"
   ]
  },
  {
   "cell_type": "code",
   "execution_count": 6,
   "id": "72025dac",
   "metadata": {},
   "outputs": [],
   "source": [
    "# Python 3\n",
    "if 10 in d1:\n",
    "    print(d1[10])"
   ]
  },
  {
   "cell_type": "code",
   "execution_count": 7,
   "id": "90cba647",
   "metadata": {},
   "outputs": [],
   "source": [
    "# write a program to enter name and percentage marks in a dictionary and display information on the screen"
   ]
  },
  {
   "cell_type": "code",
   "execution_count": 8,
   "id": "0c7884c3",
   "metadata": {},
   "outputs": [
    {
     "name": "stdout",
     "output_type": "stream",
     "text": [
      "{1: 'Python', 2: 'Javascript', 3: 'C#'}\n"
     ]
    }
   ],
   "source": [
    "# update dictionaries d[key] = value\n",
    "d1[2] = \"Javascript\"\n",
    "print(d1)"
   ]
  },
  {
   "cell_type": "code",
   "execution_count": 9,
   "id": "c1d82b59",
   "metadata": {},
   "outputs": [
    {
     "name": "stdout",
     "output_type": "stream",
     "text": [
      "{1: 'Python', 2: 'Javascript'}\n"
     ]
    }
   ],
   "source": [
    "# delete the element: del\n",
    "del d1[3]\n",
    "print(d1)\n"
   ]
  },
  {
   "cell_type": "code",
   "execution_count": 10,
   "id": "20154fb5",
   "metadata": {},
   "outputs": [
    {
     "name": "stdout",
     "output_type": "stream",
     "text": [
      "{}\n"
     ]
    }
   ],
   "source": [
    "# clear(): remove all element\n",
    "d1.clear()\n",
    "print(d1)\n"
   ]
  },
  {
   "cell_type": "code",
   "execution_count": 12,
   "id": "e1a1407c",
   "metadata": {},
   "outputs": [],
   "source": [
    "# len(), get(), pop(), popitem(), keys(), values(), items(), copy(), setdefault(), update()"
   ]
  },
  {
   "cell_type": "code",
   "execution_count": 15,
   "id": "0b43a0d2",
   "metadata": {},
   "outputs": [
    {
     "name": "stdout",
     "output_type": "stream",
     "text": [
      "4\n"
     ]
    }
   ],
   "source": [
    "d3 = {10:\"Python\", 20:\"Java\", 30:\"C#\", 40:\"Javascript\"}\n",
    "print(len(d3))"
   ]
  },
  {
   "cell_type": "code",
   "execution_count": 16,
   "id": "d4d8f3a0",
   "metadata": {},
   "outputs": [
    {
     "name": "stdout",
     "output_type": "stream",
     "text": [
      "C#\n"
     ]
    }
   ],
   "source": [
    "print(d3.get(30))"
   ]
  },
  {
   "cell_type": "code",
   "execution_count": 17,
   "id": "b5d6e455",
   "metadata": {},
   "outputs": [
    {
     "name": "stdout",
     "output_type": "stream",
     "text": [
      "None\n"
     ]
    }
   ],
   "source": [
    "print(d3.get(60))"
   ]
  },
  {
   "cell_type": "code",
   "execution_count": 18,
   "id": "9cef62c9",
   "metadata": {},
   "outputs": [
    {
     "name": "stdout",
     "output_type": "stream",
     "text": [
      "Javascript\n",
      "{10: 'Python', 20: 'Java', 30: 'C#'}\n"
     ]
    }
   ],
   "source": [
    "print(d3.pop(40))\n",
    "print(d3)"
   ]
  },
  {
   "cell_type": "code",
   "execution_count": 19,
   "id": "51882309",
   "metadata": {},
   "outputs": [
    {
     "name": "stdout",
     "output_type": "stream",
     "text": [
      "(30, 'C#')\n",
      "{10: 'Python', 20: 'Java'}\n"
     ]
    }
   ],
   "source": [
    "print(d3.popitem())  # remove an arbitrary item from the dictionary\n",
    "print(d3)"
   ]
  },
  {
   "cell_type": "code",
   "execution_count": 20,
   "id": "07348889",
   "metadata": {},
   "outputs": [
    {
     "name": "stdout",
     "output_type": "stream",
     "text": [
      "dict_keys([10, 20])\n"
     ]
    }
   ],
   "source": [
    "print(d3.keys())"
   ]
  },
  {
   "cell_type": "code",
   "execution_count": 21,
   "id": "f18fb154",
   "metadata": {},
   "outputs": [
    {
     "name": "stdout",
     "output_type": "stream",
     "text": [
      "dict_values(['Python', 'Java'])\n"
     ]
    }
   ],
   "source": [
    "print(d3.values())"
   ]
  },
  {
   "cell_type": "code",
   "execution_count": 23,
   "id": "44068832",
   "metadata": {},
   "outputs": [
    {
     "name": "stdout",
     "output_type": "stream",
     "text": [
      "10  ****  Python\n",
      "20  ****  Java\n"
     ]
    }
   ],
   "source": [
    "for k,v in d3.items():\n",
    "    print(k,\" **** \",v)"
   ]
  },
  {
   "cell_type": "code",
   "execution_count": 24,
   "id": "65fccbc7",
   "metadata": {},
   "outputs": [
    {
     "name": "stdout",
     "output_type": "stream",
     "text": [
      "{10: 'Python', 20: 'Java'}\n"
     ]
    }
   ],
   "source": [
    "d4 = d3.copy()\n",
    "print(d4)"
   ]
  },
  {
   "cell_type": "code",
   "execution_count": null,
   "id": "98254d66",
   "metadata": {},
   "outputs": [],
   "source": [
    "# write a program to find number of occurences of each letter present in the given string\n",
    "# write a program to find number of occurences of each vowel present int he given string"
   ]
  },
  {
   "cell_type": "markdown",
   "id": "520930d2",
   "metadata": {},
   "source": [
    "# Loop.ipynb"
   ]
  },
  {
   "cell_type": "code",
   "execution_count": 1,
   "id": "80119ad7",
   "metadata": {},
   "outputs": [
    {
     "name": "stdout",
     "output_type": "stream",
     "text": [
      "1\n",
      "2\n",
      "3\n",
      "4\n",
      "5\n",
      "6\n",
      "7\n",
      "8\n",
      "9\n",
      "10\n"
     ]
    }
   ],
   "source": [
    "# While loop\n",
    "a = 1\n",
    "while a <= 10:\n",
    "    print(a)\n",
    "    a = a+1"
   ]
  },
  {
   "cell_type": "code",
   "execution_count": 3,
   "id": "abbebb61",
   "metadata": {},
   "outputs": [
    {
     "name": "stdout",
     "output_type": "stream",
     "text": [
      "Enter number:20\n",
      "The sum: 20 numbers is: 210\n"
     ]
    }
   ],
   "source": [
    "num = int(input(\"Enter number:\"))\n",
    "sum = 0\n",
    "i = 1\n",
    "while i <= num:\n",
    "    sum = sum+i\n",
    "    i = i+1\n",
    "print(\"The sum:\",num,\"numbers is:\",sum)"
   ]
  },
  {
   "cell_type": "code",
   "execution_count": 4,
   "id": "815f2b23",
   "metadata": {},
   "outputs": [
    {
     "ename": "IndentationError",
     "evalue": "unexpected indent (402260741.py, line 3)",
     "output_type": "error",
     "traceback": [
      "\u001b[1;36m  Cell \u001b[1;32mIn[4], line 3\u001b[1;36m\u001b[0m\n\u001b[1;33m    i=i+1\u001b[0m\n\u001b[1;37m    ^\u001b[0m\n\u001b[1;31mIndentationError\u001b[0m\u001b[1;31m:\u001b[0m unexpected indent\n"
     ]
    }
   ],
   "source": [
    "i = 0\n",
    "#while True:\n",
    "    i=i+1\n",
    "    print(\"Hello\",i)"
   ]
  },
  {
   "cell_type": "code",
   "execution_count": 5,
   "id": "4279159e",
   "metadata": {},
   "outputs": [
    {
     "name": "stdout",
     "output_type": "stream",
     "text": [
      "i= 0  j= 0\n",
      "i= 0  j= 1\n",
      "i= 0  j= 2\n",
      "i= 0  j= 3\n",
      "i= 0  j= 4\n",
      "i= 1  j= 0\n",
      "i= 1  j= 1\n",
      "i= 1  j= 2\n",
      "i= 1  j= 3\n",
      "i= 1  j= 4\n",
      "i= 2  j= 0\n",
      "i= 2  j= 1\n",
      "i= 2  j= 2\n",
      "i= 2  j= 3\n",
      "i= 2  j= 4\n",
      "i= 3  j= 0\n",
      "i= 3  j= 1\n",
      "i= 3  j= 2\n",
      "i= 3  j= 3\n",
      "i= 3  j= 4\n"
     ]
    }
   ],
   "source": [
    "#Nested loops:\n",
    "for i in range(4):\n",
    "    for j in range(5):\n",
    "        print(\"i=\",i,\" j=\",j)"
   ]
  },
  {
   "cell_type": "code",
   "execution_count": 6,
   "id": "6a0fdf53",
   "metadata": {},
   "outputs": [],
   "source": [
    "# Write a program to display * in right angled triangle\n",
    "# Write a program to display * in Pyramid shape"
   ]
  },
  {
   "cell_type": "code",
   "execution_count": 7,
   "id": "6d11a16c",
   "metadata": {},
   "outputs": [
    {
     "name": "stdout",
     "output_type": "stream",
     "text": [
      "0\n",
      "1\n",
      "2\n",
      "3\n",
      "4\n",
      "5\n",
      "6\n",
      "7\n",
      "exit\n"
     ]
    }
   ],
   "source": [
    "#Transfer Statements\n",
    "#break, continue\n",
    "# Break\n",
    "for i in range(10):\n",
    "    if i ==8:\n",
    "        print(\"exit\")\n",
    "        break\n",
    "    print(i)"
   ]
  },
  {
   "cell_type": "code",
   "execution_count": 8,
   "id": "83b0a3ca",
   "metadata": {},
   "outputs": [
    {
     "name": "stdout",
     "output_type": "stream",
     "text": [
      "1\n",
      "3\n",
      "5\n",
      "7\n",
      "9\n"
     ]
    }
   ],
   "source": [
    "# continue\n",
    "for i in range(10):\n",
    "    if i%2==0:\n",
    "        continue\n",
    "    print(i)"
   ]
  },
  {
   "cell_type": "code",
   "execution_count": 9,
   "id": "109397a6",
   "metadata": {},
   "outputs": [
    {
     "name": "stdout",
     "output_type": "stream",
     "text": [
      "10\n",
      "20\n",
      "30\n",
      "40\n",
      "50\n",
      "All order processed successfully\n"
     ]
    }
   ],
   "source": [
    "# Loop with else block\n",
    "cart = [10,20,30,40,50]\n",
    "for i in cart:\n",
    "    if i >=500:\n",
    "        print(\"not able to process this order\")\n",
    "        break\n",
    "    print(i)\n",
    "else:\n",
    "    print(\"All order processed successfully\")"
   ]
  },
  {
   "cell_type": "code",
   "execution_count": 10,
   "id": "e502a1e1",
   "metadata": {},
   "outputs": [],
   "source": [
    "#pass \n",
    "def orderProcess():\n",
    "    pass"
   ]
  },
  {
   "cell_type": "code",
   "execution_count": 11,
   "id": "40b31fd1",
   "metadata": {},
   "outputs": [
    {
     "name": "stdout",
     "output_type": "stream",
     "text": [
      "20\n"
     ]
    }
   ],
   "source": [
    "# del\n",
    "a = 20\n",
    "print(a)\n",
    "del a\n"
   ]
  },
  {
   "cell_type": "code",
   "execution_count": 14,
   "id": "824b5737",
   "metadata": {},
   "outputs": [
    {
     "name": "stdout",
     "output_type": "stream",
     "text": [
      "None\n"
     ]
    }
   ],
   "source": [
    "x = \"python\"\n",
    "x = None\n",
    "print(x)"
   ]
  },
  {
   "cell_type": "code",
   "execution_count": null,
   "id": "11fb49cd",
   "metadata": {},
   "outputs": [],
   "source": []
  },
  {
   "cell_type": "markdown",
   "id": "e939371e",
   "metadata": {},
   "source": [
    "# Operators.ipynb"
   ]
  },
  {
   "cell_type": "code",
   "execution_count": 1,
   "id": "4c1e88cd",
   "metadata": {},
   "outputs": [],
   "source": [
    "# Escape Characters\n",
    "\n",
    "str1 = \"Python \\n Programming\""
   ]
  },
  {
   "cell_type": "code",
   "execution_count": 2,
   "id": "db5aad6f",
   "metadata": {},
   "outputs": [
    {
     "name": "stdout",
     "output_type": "stream",
     "text": [
      "Python \n",
      " Programming\n"
     ]
    }
   ],
   "source": [
    "print(str1)"
   ]
  },
  {
   "cell_type": "code",
   "execution_count": 4,
   "id": "b8f49745",
   "metadata": {},
   "outputs": [
    {
     "name": "stdout",
     "output_type": "stream",
     "text": [
      "This is a python programming \"Software Development\" which is used in ML\n"
     ]
    }
   ],
   "source": [
    "str3 = \"This is a python programming \\\"Software Development\\\" which is used in ML\"\n",
    "print(str3)"
   ]
  },
  {
   "cell_type": "code",
   "execution_count": 6,
   "id": "e06deb4a",
   "metadata": {},
   "outputs": [
    {
     "name": "stdout",
     "output_type": "stream",
     "text": [
      "Python4\n"
     ]
    }
   ],
   "source": [
    "str5 = \"Python\" + \"4\"\n",
    "print(str5)"
   ]
  },
  {
   "cell_type": "code",
   "execution_count": 7,
   "id": "9d2c48e1",
   "metadata": {},
   "outputs": [
    {
     "name": "stdout",
     "output_type": "stream",
     "text": [
      "PythonPythonPython\n"
     ]
    }
   ],
   "source": [
    "str6 = 3 * \"Python\"\n",
    "print(str6)"
   ]
  },
  {
   "cell_type": "code",
   "execution_count": 9,
   "id": "7a44ddc7",
   "metadata": {},
   "outputs": [
    {
     "name": "stdout",
     "output_type": "stream",
     "text": [
      "False\n",
      "True\n",
      "True\n",
      "False\n"
     ]
    }
   ],
   "source": [
    "print(True>True) #False\n",
    "print(True>=True) #True\n",
    "print(20>True) #True\n",
    "print(False>True) #False"
   ]
  },
  {
   "cell_type": "code",
   "execution_count": 10,
   "id": "c400dd35",
   "metadata": {},
   "outputs": [
    {
     "name": "stdout",
     "output_type": "stream",
     "text": [
      "a is not greater than b\n"
     ]
    }
   ],
   "source": [
    "a = 5\n",
    "b = 8\n",
    "if(a>b):\n",
    "    print(\"a is greater than b\")\n",
    "else:\n",
    "    print(\"a is not greater than b\")"
   ]
  },
  {
   "cell_type": "code",
   "execution_count": 12,
   "id": "c197a004",
   "metadata": {},
   "outputs": [
    {
     "name": "stdout",
     "output_type": "stream",
     "text": [
      "True\n",
      "False\n",
      "True\n"
     ]
    }
   ],
   "source": [
    "print(20<30<40) # True\n",
    "print(10<20<30>50) #False\n",
    "print(10<20<50>30) #True"
   ]
  },
  {
   "cell_type": "code",
   "execution_count": 14,
   "id": "b1740e37",
   "metadata": {},
   "outputs": [
    {
     "name": "stdout",
     "output_type": "stream",
     "text": [
      "False\n"
     ]
    }
   ],
   "source": [
    "print(20 == 30)"
   ]
  },
  {
   "cell_type": "code",
   "execution_count": 15,
   "id": "7e9f0f63",
   "metadata": {},
   "outputs": [
    {
     "name": "stdout",
     "output_type": "stream",
     "text": [
      "False\n",
      "True\n"
     ]
    }
   ],
   "source": [
    "print(1==2==3==4) # False\n",
    "print(1==1==1==1) # True"
   ]
  },
  {
   "cell_type": "code",
   "execution_count": 16,
   "id": "ac4aaa53",
   "metadata": {},
   "outputs": [
    {
     "name": "stdout",
     "output_type": "stream",
     "text": [
      "False\n",
      "True\n",
      "True\n"
     ]
    }
   ],
   "source": [
    "print(True and False)  #False\n",
    "print(True or False )  #True\n",
    "print( not False) #True"
   ]
  },
  {
   "cell_type": "code",
   "execution_count": 17,
   "id": "cac87330",
   "metadata": {},
   "outputs": [
    {
     "name": "stdout",
     "output_type": "stream",
     "text": [
      "0\n",
      "22\n"
     ]
    }
   ],
   "source": [
    "print(True and 0)  #False\n",
    "print(22 or False )  #True"
   ]
  },
  {
   "cell_type": "code",
   "execution_count": 18,
   "id": "2357daf3",
   "metadata": {},
   "outputs": [
    {
     "name": "stdout",
     "output_type": "stream",
     "text": [
      "Hello\n"
     ]
    }
   ],
   "source": [
    "if(24):\n",
    "    print(\"Hello\")"
   ]
  },
  {
   "cell_type": "code",
   "execution_count": 19,
   "id": "d80085bf",
   "metadata": {},
   "outputs": [],
   "source": [
    "if(0):\n",
    "    print(\"Hello\")"
   ]
  },
  {
   "cell_type": "code",
   "execution_count": 22,
   "id": "bdbdf695",
   "metadata": {},
   "outputs": [
    {
     "name": "stdout",
     "output_type": "stream",
     "text": [
      "50\n"
     ]
    }
   ],
   "source": [
    "a = 30\n",
    "b = 20\n",
    "x = 40 if a<b else 50\n",
    "print(x)"
   ]
  },
  {
   "cell_type": "code",
   "execution_count": null,
   "id": "c357d60e",
   "metadata": {},
   "outputs": [],
   "source": []
  },
  {
   "cell_type": "markdown",
   "id": "7323e338",
   "metadata": {},
   "source": [
    "# Operators_2.ipynb"
   ]
  },
  {
   "cell_type": "code",
   "execution_count": 10,
   "id": "7639b4e5",
   "metadata": {},
   "outputs": [
    {
     "name": "stdout",
     "output_type": "stream",
     "text": [
      "True\n"
     ]
    }
   ],
   "source": [
    "# range is from -5 to 256\n",
    "a = 210\n",
    "b = 210\n",
    "print(a is b)"
   ]
  },
  {
   "cell_type": "code",
   "execution_count": 7,
   "id": "6e0fe661",
   "metadata": {},
   "outputs": [
    {
     "name": "stdout",
     "output_type": "stream",
     "text": [
      "False\n"
     ]
    }
   ],
   "source": [
    "a = 270\n",
    "b = 270\n",
    "print(a is b)"
   ]
  },
  {
   "cell_type": "code",
   "execution_count": 11,
   "id": "fb7904ac",
   "metadata": {},
   "outputs": [
    {
     "name": "stdout",
     "output_type": "stream",
     "text": [
      "140728490110280\n"
     ]
    }
   ],
   "source": [
    "print(id(a))"
   ]
  },
  {
   "cell_type": "code",
   "execution_count": 12,
   "id": "c8cb1433",
   "metadata": {},
   "outputs": [
    {
     "name": "stdout",
     "output_type": "stream",
     "text": [
      "140728490110280\n"
     ]
    }
   ],
   "source": [
    "print(id(b))"
   ]
  },
  {
   "cell_type": "code",
   "execution_count": 13,
   "id": "d2f0392f",
   "metadata": {},
   "outputs": [
    {
     "name": "stdout",
     "output_type": "stream",
     "text": [
      "True\n",
      "False\n",
      "True\n"
     ]
    }
   ],
   "source": [
    "list1 = [\"Python\", \"Java\", \"C#\", \"Javascript\"]\n",
    "print(\"Java\" in list1) #True\n",
    "print(\"C#\" not in list1) #False\n",
    "print(\"Javascript\" in list1) #True"
   ]
  },
  {
   "cell_type": "code",
   "execution_count": 15,
   "id": "6e5313c4",
   "metadata": {},
   "outputs": [
    {
     "name": "stdout",
     "output_type": "stream",
     "text": [
      "4.0\n"
     ]
    }
   ],
   "source": [
    "import math\n",
    "print(math.sqrt(16))"
   ]
  },
  {
   "cell_type": "code",
   "execution_count": 16,
   "id": "1637742a",
   "metadata": {},
   "outputs": [
    {
     "name": "stdout",
     "output_type": "stream",
     "text": [
      "4.0\n"
     ]
    }
   ],
   "source": [
    "import math as m\n",
    "print(m.sqrt(16))"
   ]
  },
  {
   "cell_type": "code",
   "execution_count": 17,
   "id": "5d745a9a",
   "metadata": {},
   "outputs": [
    {
     "name": "stdout",
     "output_type": "stream",
     "text": [
      "4.0\n"
     ]
    }
   ],
   "source": [
    "from math import sqrt,pi\n",
    "print(sqrt(16))"
   ]
  },
  {
   "cell_type": "code",
   "execution_count": 18,
   "id": "f8b2763d",
   "metadata": {},
   "outputs": [],
   "source": [
    "# Write a program to find area of Circle"
   ]
  },
  {
   "cell_type": "code",
   "execution_count": 20,
   "id": "560ce9aa",
   "metadata": {},
   "outputs": [
    {
     "name": "stdout",
     "output_type": "stream",
     "text": [
      "Enter value10\n",
      "<class 'str'>\n"
     ]
    }
   ],
   "source": [
    "# Dynamic input from the keyboard\n",
    "# Python 2 : raw_input() and input()\n",
    "# Python 3: input()\n",
    "a = input(\"Enter value\")\n",
    "print(type(a))"
   ]
  },
  {
   "cell_type": "code",
   "execution_count": 21,
   "id": "bfb32f0e",
   "metadata": {},
   "outputs": [],
   "source": [
    "# Write a program to enter employee detail from the keyboard"
   ]
  },
  {
   "cell_type": "code",
   "execution_count": 22,
   "id": "1d52bb4c",
   "metadata": {},
   "outputs": [
    {
     "name": "stdout",
     "output_type": "stream",
     "text": [
      "24.0\n"
     ]
    }
   ],
   "source": [
    "a = eval(\"20 + 2*4/2\")\n",
    "print(a)"
   ]
  },
  {
   "cell_type": "code",
   "execution_count": 23,
   "id": "84f038c8",
   "metadata": {},
   "outputs": [
    {
     "name": "stdout",
     "output_type": "stream",
     "text": [
      "Hello \n",
      " World\n"
     ]
    }
   ],
   "source": [
    "print(\"Hello \\n World\")"
   ]
  },
  {
   "cell_type": "code",
   "execution_count": 24,
   "id": "288e4536",
   "metadata": {},
   "outputs": [
    {
     "name": "stdout",
     "output_type": "stream",
     "text": [
      "Hello \t World\n"
     ]
    }
   ],
   "source": [
    "print(\"Hello \\t World\")"
   ]
  },
  {
   "cell_type": "code",
   "execution_count": 25,
   "id": "f352372b",
   "metadata": {},
   "outputs": [
    {
     "name": "stdout",
     "output_type": "stream",
     "text": [
      "HelloHelloHelloHelloHello\n"
     ]
    }
   ],
   "source": [
    "print(\"Hello\" * 5)"
   ]
  },
  {
   "cell_type": "code",
   "execution_count": 26,
   "id": "b405df94",
   "metadata": {},
   "outputs": [
    {
     "name": "stdout",
     "output_type": "stream",
     "text": [
      "HelloWorld\n"
     ]
    }
   ],
   "source": [
    "print(\"Hello\" + \"World\")"
   ]
  },
  {
   "cell_type": "code",
   "execution_count": 28,
   "id": "4ff9830e",
   "metadata": {},
   "outputs": [
    {
     "name": "stdout",
     "output_type": "stream",
     "text": [
      "9\n"
     ]
    }
   ],
   "source": [
    "print(4 + 5)"
   ]
  },
  {
   "cell_type": "code",
   "execution_count": 30,
   "id": "90dc4336",
   "metadata": {},
   "outputs": [
    {
     "name": "stdout",
     "output_type": "stream",
     "text": [
      "The Values are:  2 4 7\n"
     ]
    }
   ],
   "source": [
    "a,b,c = 2,4,7\n",
    "print(\"The Values are: \",a,b,c)"
   ]
  },
  {
   "cell_type": "code",
   "execution_count": 31,
   "id": "81e69e2a",
   "metadata": {},
   "outputs": [
    {
     "name": "stdout",
     "output_type": "stream",
     "text": [
      "The Values are: ,2,4,7\n"
     ]
    }
   ],
   "source": [
    "a,b,c = 2,4,7\n",
    "print(\"The Values are: \",a,b,c,sep=\",\")"
   ]
  },
  {
   "cell_type": "code",
   "execution_count": 32,
   "id": "5959c8b6",
   "metadata": {},
   "outputs": [
    {
     "name": "stdout",
     "output_type": "stream",
     "text": [
      "Hello Python "
     ]
    }
   ],
   "source": [
    "print(\"Hello\", end=' ')\n",
    "print(\"Python\", end=' ')"
   ]
  },
  {
   "cell_type": "code",
   "execution_count": 33,
   "id": "f4a54770",
   "metadata": {},
   "outputs": [
    {
     "name": "stdout",
     "output_type": "stream",
     "text": [
      "Language  Python  Experience is  4  Company is  SW\n"
     ]
    }
   ],
   "source": [
    "lang = \"Python\"\n",
    "exp = 4\n",
    "company = 'SW'\n",
    "print(\"Language \",lang,\" Experience is \",exp,\" Company is \", company)"
   ]
  },
  {
   "cell_type": "code",
   "execution_count": 35,
   "id": "dba29960",
   "metadata": {},
   "outputs": [
    {
     "name": "stdout",
     "output_type": "stream",
     "text": [
      "Company is sw and salary is 10000.500000 and experience is 5 years\n"
     ]
    }
   ],
   "source": [
    "# %i = int, %d = int, %f = float, %s = string\n",
    "exp = 5\n",
    "comp = 'sw'\n",
    "sal = 10000.50\n",
    "print(\"Company is %s and salary is %f and experience is %d years\" %(comp, sal, exp))"
   ]
  },
  {
   "cell_type": "code",
   "execution_count": 36,
   "id": "dda0db71",
   "metadata": {},
   "outputs": [
    {
     "name": "stdout",
     "output_type": "stream",
     "text": [
      "Enter company namesw\n",
      "Top fortune 500 company\n",
      "Mid level company\n"
     ]
    }
   ],
   "source": [
    "# Conditional statement\n",
    "\n",
    "company_name = input(\"Enter company name\")\n",
    "if company_name == \"sw\":\n",
    "    print(\"Top fortune 500 company\")\n",
    "print(\"Mid level company\")"
   ]
  },
  {
   "cell_type": "code",
   "execution_count": 37,
   "id": "19cdfada",
   "metadata": {},
   "outputs": [
    {
     "name": "stdout",
     "output_type": "stream",
     "text": [
      "Enter company namefacebook\n",
      "Mid level company\n"
     ]
    }
   ],
   "source": [
    "company_name1 = input(\"Enter company name\")\n",
    "if company_name1 == \"sw\":\n",
    "    print(\"Top fortune 500 company\")\n",
    "else:\n",
    "    print(\"Mid level company\")"
   ]
  },
  {
   "cell_type": "code",
   "execution_count": 39,
   "id": "00b96395",
   "metadata": {},
   "outputs": [
    {
     "name": "stdout",
     "output_type": "stream",
     "text": [
      "Enter company namefacebook\n",
      "Top fortune 100 company\n"
     ]
    }
   ],
   "source": [
    "company_name2 = input(\"Enter company name\")\n",
    "if company_name2 == \"sw\":\n",
    "    print(\"Top fortune 500 company\")\n",
    "elif company_name2 == \"facebook\":\n",
    "    print(\"Top fortune 100 company\")\n",
    "else:\n",
    "    print(\"Mid level company\")"
   ]
  },
  {
   "cell_type": "code",
   "execution_count": null,
   "id": "b4ea0cd7",
   "metadata": {},
   "outputs": [],
   "source": [
    "# Write a program to find biggest number of given 2 numbers \n",
    "# Write a program to find biggest number of given 3 numbers\n",
    "# Write a prgram to check whether the given number is in between 20 to 50\n",
    "# Write a program to take a single digit number from the keyboard and print its english word"
   ]
  },
  {
   "cell_type": "markdown",
   "id": "6743e58b",
   "metadata": {},
   "source": [
    "# Function.ipynb"
   ]
  },
  {
   "cell_type": "code",
   "execution_count": 2,
   "id": "83538d2d",
   "metadata": {},
   "outputs": [
    {
     "name": "stdout",
     "output_type": "stream",
     "text": [
      "Hello Good Morning\n"
     ]
    }
   ],
   "source": [
    "def helloTest():\n",
    "    print(\"Hello Good Morning\")\n",
    "helloTest()"
   ]
  },
  {
   "cell_type": "code",
   "execution_count": 4,
   "id": "2af6b675",
   "metadata": {},
   "outputs": [
    {
     "name": "stdout",
     "output_type": "stream",
     "text": [
      "Hello Anand  Good Morning\n"
     ]
    }
   ],
   "source": [
    "def helloPass(name):\n",
    "    print(\"Hello\",name,\" Good Morning\")\n",
    "helloPass(\"Anand\")"
   ]
  },
  {
   "cell_type": "code",
   "execution_count": 5,
   "id": "680908f3",
   "metadata": {},
   "outputs": [
    {
     "name": "stdout",
     "output_type": "stream",
     "text": [
      "The square of  4 is 16\n",
      "The square of  8 is 64\n"
     ]
    }
   ],
   "source": [
    "def squareNumber(number):\n",
    "    print(\"The square of \", number, \"is\", number*number)\n",
    "squareNumber(4)\n",
    "squareNumber(8)"
   ]
  },
  {
   "cell_type": "code",
   "execution_count": 6,
   "id": "4ae7d197",
   "metadata": {},
   "outputs": [
    {
     "name": "stdout",
     "output_type": "stream",
     "text": [
      "25\n"
     ]
    }
   ],
   "source": [
    "def squareNum(number):\n",
    "    result = number * number\n",
    "    return result\n",
    "resultOfNum = squareNum(5)\n",
    "print(resultOfNum)"
   ]
  },
  {
   "cell_type": "code",
   "execution_count": 7,
   "id": "591390d9",
   "metadata": {},
   "outputs": [],
   "source": [
    "# Write a function to accept 2 numbers as input and return Sum\n",
    "# Write a function to check whether the given number is even or odd?\n",
    "# Write a function to find factorial of given number"
   ]
  },
  {
   "cell_type": "code",
   "execution_count": 8,
   "id": "4f5c9b69",
   "metadata": {},
   "outputs": [
    {
     "name": "stdout",
     "output_type": "stream",
     "text": [
      "Multiple:  200\n",
      "Division:  2.0\n"
     ]
    }
   ],
   "source": [
    "def mul_div(operand1, operand2):\n",
    "    mul = operand1*operand2\n",
    "    div = operand1/operand2\n",
    "    return mul, div\n",
    "m, d = mul_div(20,10)\n",
    "print(\"Multiple: \",m)\n",
    "print(\"Division: \",d)"
   ]
  },
  {
   "cell_type": "code",
   "execution_count": 9,
   "id": "ca981a68",
   "metadata": {},
   "outputs": [
    {
     "name": "stdout",
     "output_type": "stream",
     "text": [
      "Hello Pardeep Good Morning\n",
      "Hello Dyal Good Morning\n"
     ]
    }
   ],
   "source": [
    "def wish(name, msg):\n",
    "    print(\"Hello\", name, msg)\n",
    "wish(name=\"Pardeep\", msg=\"Good Morning\")\n",
    "wish(msg=\"Good Morning\", name = \"Dyal\")"
   ]
  },
  {
   "cell_type": "code",
   "execution_count": 10,
   "id": "5332b90c",
   "metadata": {},
   "outputs": [
    {
     "name": "stdout",
     "output_type": "stream",
     "text": [
      "Hello Anand  Good Morning\n",
      "Hello Guest  Good Morning\n"
     ]
    }
   ],
   "source": [
    "def helloPass2(name=\"Guest\"):\n",
    "    print(\"Hello\",name,\" Good Morning\")\n",
    "helloPass2(\"Anand\")\n",
    "helloPass2()"
   ]
  },
  {
   "cell_type": "code",
   "execution_count": 11,
   "id": "6193d198",
   "metadata": {},
   "outputs": [
    {
     "name": "stdout",
     "output_type": "stream",
     "text": [
      "Total Sum:  10\n",
      "Total Sum:  30\n",
      "Total Sum:  0\n"
     ]
    }
   ],
   "source": [
    "def add(*n):\n",
    "    total = 0\n",
    "    for n1 in n:\n",
    "        total = total+n1\n",
    "    print(\"Total Sum: \", total)\n",
    "\n",
    "add(10)\n",
    "add(10,20)\n",
    "add()"
   ]
  },
  {
   "cell_type": "code",
   "execution_count": null,
   "id": "14d4ad08",
   "metadata": {},
   "outputs": [],
   "source": []
  },
  {
   "cell_type": "markdown",
   "id": "b5c7efb5",
   "metadata": {},
   "source": [
    "# Function_2.ipynb"
   ]
  },
  {
   "cell_type": "code",
   "execution_count": 1,
   "id": "946db107",
   "metadata": {},
   "outputs": [
    {
     "name": "stdout",
     "output_type": "stream",
     "text": [
      "20\n",
      "20\n"
     ]
    }
   ],
   "source": [
    "# Global Variables:\n",
    "x = 20\n",
    "def f1():\n",
    "    print(x)\n",
    "\n",
    "def f2():\n",
    "    print(x)\n",
    "\n",
    "f1()\n",
    "f2()"
   ]
  },
  {
   "cell_type": "code",
   "execution_count": 4,
   "id": "cd2aee77",
   "metadata": {},
   "outputs": [
    {
     "name": "stdout",
     "output_type": "stream",
     "text": [
      "100\n",
      "100\n"
     ]
    }
   ],
   "source": [
    "# Global keyword\n",
    "#a = 40\n",
    "def f5():\n",
    "    global a\n",
    "    a = 100\n",
    "    print(a)\n",
    "def f6():\n",
    "    print(a)\n",
    "    \n",
    "f5()\n",
    "f6()"
   ]
  },
  {
   "cell_type": "code",
   "execution_count": 5,
   "id": "480a1210",
   "metadata": {},
   "outputs": [
    {
     "name": "stdout",
     "output_type": "stream",
     "text": [
      "100\n",
      "30\n"
     ]
    }
   ],
   "source": [
    "x = 30  #Global Variable\n",
    "def f7():\n",
    "    x = 100 # local variable\n",
    "    print(x)\n",
    "    print(globals()['x'])\n",
    "f7()"
   ]
  },
  {
   "cell_type": "code",
   "execution_count": 6,
   "id": "4b6ec03f",
   "metadata": {},
   "outputs": [
    {
     "name": "stdout",
     "output_type": "stream",
     "text": [
      "Factorial of 5 is : 120\n"
     ]
    }
   ],
   "source": [
    "# factorial:\n",
    "def factorial(n):\n",
    "    if n==0:\n",
    "        result=1\n",
    "    else:\n",
    "        result=n*factorial(n-1)\n",
    "    return result\n",
    "\n",
    "print(\"Factorial of 5 is :\",factorial(5))\n",
    "\n"
   ]
  },
  {
   "cell_type": "code",
   "execution_count": 10,
   "id": "afc98395",
   "metadata": {},
   "outputs": [
    {
     "name": "stdout",
     "output_type": "stream",
     "text": [
      "square of 5 is:  25\n",
      "square of 6 is:  36\n"
     ]
    }
   ],
   "source": [
    "# lambda function\n",
    "s = lambda n:n*n\n",
    "print(\"square of 5 is: \",s(5))\n",
    "print(\"square of 6 is: \",s(6))"
   ]
  },
  {
   "cell_type": "code",
   "execution_count": 11,
   "id": "403994f9",
   "metadata": {},
   "outputs": [],
   "source": [
    "# write a program to find biggest number from the given values using lambda function"
   ]
  },
  {
   "cell_type": "code",
   "execution_count": 12,
   "id": "30c8e8df",
   "metadata": {},
   "outputs": [
    {
     "name": "stdout",
     "output_type": "stream",
     "text": [
      "[0, 10, 20, 30]\n"
     ]
    }
   ],
   "source": [
    "# without lambda function using filter\n",
    "def isEven(x):\n",
    "    if x%2==0:\n",
    "        return True\n",
    "    else:\n",
    "        return False\n",
    "lst1 = [0,5,10,15,20,25,30]\n",
    "lst2 = list(filter(isEven,lst1))\n",
    "print(lst2)"
   ]
  },
  {
   "cell_type": "code",
   "execution_count": 13,
   "id": "032229e0",
   "metadata": {},
   "outputs": [
    {
     "name": "stdout",
     "output_type": "stream",
     "text": [
      "[0, 10, 20, 30]\n",
      "[5, 15, 25]\n"
     ]
    }
   ],
   "source": [
    "# with lambda function\n",
    "lst3 = [0,5,10,15,20,25,30]\n",
    "lst4 = list(filter(lambda x:x%2==0,lst3))\n",
    "print(lst4)\n",
    "lst5 = list(filter(lambda x:x%2!=0,lst3))\n",
    "print(lst5)"
   ]
  },
  {
   "cell_type": "code",
   "execution_count": null,
   "id": "25f5bc91",
   "metadata": {},
   "outputs": [],
   "source": []
  },
  {
   "cell_type": "markdown",
   "id": "2dd60c4a",
   "metadata": {},
   "source": [
    "# Function_3.ipynb"
   ]
  },
  {
   "cell_type": "code",
   "execution_count": 2,
   "id": "836b58c0",
   "metadata": {},
   "outputs": [
    {
     "name": "stdout",
     "output_type": "stream",
     "text": [
      "150\n"
     ]
    }
   ],
   "source": [
    "#reduce\n",
    "from functools import*\n",
    "lst1 = [10,20,30,40,50]\n",
    "result=reduce(lambda x,y:x+y,lst1)\n",
    "print(result)"
   ]
  },
  {
   "cell_type": "code",
   "execution_count": 4,
   "id": "c525eaf9",
   "metadata": {},
   "outputs": [
    {
     "name": "stdout",
     "output_type": "stream",
     "text": [
      "2048341646272\n",
      "2048341646272\n",
      "Program Language Name:  Java\n",
      "Program Language Name:  Python\n",
      "Program Language Name:  C#\n"
     ]
    }
   ],
   "source": [
    "# Function Alias\n",
    "def progLangName(progName):\n",
    "    print(\"Program Language Name: \",progName)\n",
    "\n",
    "techLangName = progLangName\n",
    "print(id(progLangName))\n",
    "print(id(techLangName))\n",
    "\n",
    "techLangName(\"Java\")\n",
    "progLangName(\"Python\")\n",
    "\n",
    "del progLangName\n",
    "techLangName(\"C#\")"
   ]
  },
  {
   "cell_type": "code",
   "execution_count": 5,
   "id": "64f25934",
   "metadata": {},
   "outputs": [
    {
     "name": "stdout",
     "output_type": "stream",
     "text": [
      "upper function started\n",
      "upper function is calling lower function\n",
      "lower function execution\n"
     ]
    }
   ],
   "source": [
    "#Nested Function:\n",
    "def upperFunc():\n",
    "    print(\"upper function started\")\n",
    "    def lowerFunc():\n",
    "        print(\"lower function execution\")\n",
    "    print(\"upper function is calling lower function\")\n",
    "    lowerFunc()\n",
    "upperFunc()"
   ]
  },
  {
   "cell_type": "code",
   "execution_count": 6,
   "id": "27dbc58b",
   "metadata": {},
   "outputs": [
    {
     "name": "stdout",
     "output_type": "stream",
     "text": [
      "30\n"
     ]
    }
   ],
   "source": [
    "def sum():\n",
    "    result = 10+20\n",
    "    return result\n",
    "total = sum()\n",
    "print(total)"
   ]
  },
  {
   "cell_type": "code",
   "execution_count": 7,
   "id": "27fde549",
   "metadata": {},
   "outputs": [
    {
     "name": "stdout",
     "output_type": "stream",
     "text": [
      "upper function started\n",
      "upper function is calling lower function\n",
      "lower function execution\n",
      "lower function execution\n"
     ]
    }
   ],
   "source": [
    "# Function can return another function\n",
    "def upperFunc1():\n",
    "    print(\"upper function started\")\n",
    "    def lowerFunc1():\n",
    "        print(\"lower function execution\")\n",
    "    print(\"upper function is calling lower function\")\n",
    "    return lowerFunc1\n",
    "f1 = upperFunc1()\n",
    "f1()\n",
    "f1()"
   ]
  },
  {
   "cell_type": "code",
   "execution_count": null,
   "id": "6b21aa84",
   "metadata": {},
   "outputs": [],
   "source": []
  },
  {
   "cell_type": "markdown",
   "id": "0e7132d4",
   "metadata": {},
   "source": [
    "# Decorator Function.ipynb"
   ]
  },
  {
   "cell_type": "code",
   "execution_count": 1,
   "id": "f44f5d42",
   "metadata": {},
   "outputs": [
    {
     "name": "stdout",
     "output_type": "stream",
     "text": [
      "Hello  Anand  Good Morning\n",
      "Hello  Dyal  Good Morning\n"
     ]
    }
   ],
   "source": []
  },
  {
   "cell_type": "code",
   "execution_count": 3,
   "id": "05134caa",
   "metadata": {},
   "outputs": [
    {
     "name": "stdout",
     "output_type": "stream",
     "text": [
      "Hello  Anand  Good Morning\n",
      "Hello Dyal Awesome Morning\n"
     ]
    }
   ],
   "source": [
    "def decor(func):\n",
    "    def inner(name):\n",
    "        if name == \"Dyal\":\n",
    "            print(\"Hello Dyal Awesome Morning\")\n",
    "        else:\n",
    "            func(name)\n",
    "    return inner\n",
    "\n",
    "@decor\n",
    "def wish(name):\n",
    "    print(\"Hello \", name, \" Good Morning\")\n",
    "    \n",
    "wish(\"Anand\")\n",
    "wish(\"Dyal\")\n",
    "        "
   ]
  },
  {
   "cell_type": "code",
   "execution_count": 4,
   "id": "c16bcd89",
   "metadata": {},
   "outputs": [
    {
     "name": "stdout",
     "output_type": "stream",
     "text": [
      "400\n"
     ]
    }
   ],
   "source": [
    "def decor1(func):\n",
    "    def inner():\n",
    "        x = func()\n",
    "        return x * x\n",
    "    return inner\n",
    "\n",
    "def decor(func):\n",
    "    def inner():\n",
    "        x = func()\n",
    "        return 2 * x\n",
    "    return inner\n",
    "\n",
    "\n",
    "@decor1\n",
    "@decor\n",
    "def num():\n",
    "    return 10\n",
    "\n",
    "print(num())"
   ]
  },
  {
   "cell_type": "code",
   "execution_count": null,
   "id": "ad6140da",
   "metadata": {},
   "outputs": [],
   "source": []
  },
  {
   "cell_type": "markdown",
   "id": "d0d97dda",
   "metadata": {},
   "source": [
    "# Module.ipynb"
   ]
  },
  {
   "cell_type": "code",
   "execution_count": 1,
   "id": "14e685aa",
   "metadata": {},
   "outputs": [
    {
     "name": "stdout",
     "output_type": "stream",
     "text": [
      "['In', 'Out', '_', '__', '___', '__builtin__', '__builtins__', '__doc__', '__loader__', '__name__', '__package__', '__spec__', '_dh', '_i', '_i1', '_ih', '_ii', '_iii', '_oh', 'a', 'b', 'exit', 'f1', 'get_ipython', 'open', 'quit']\n"
     ]
    }
   ],
   "source": [
    "# dir()\n",
    "a=10\n",
    "b=20\n",
    "def f1():\n",
    "    print(\"hello\")\n",
    "print(dir())"
   ]
  },
  {
   "cell_type": "code",
   "execution_count": 2,
   "id": "b15ce1df",
   "metadata": {},
   "outputs": [
    {
     "name": "stdout",
     "output_type": "stream",
     "text": [
      "['DirEntry', 'EX_OK', 'F_OK', 'GenericAlias', 'Mapping', 'MutableMapping', 'O_APPEND', 'O_BINARY', 'O_CREAT', 'O_EXCL', 'O_NOINHERIT', 'O_RANDOM', 'O_RDONLY', 'O_RDWR', 'O_SEQUENTIAL', 'O_SHORT_LIVED', 'O_TEMPORARY', 'O_TEXT', 'O_TRUNC', 'O_WRONLY', 'P_DETACH', 'P_NOWAIT', 'P_NOWAITO', 'P_OVERLAY', 'P_WAIT', 'PathLike', 'R_OK', 'SEEK_CUR', 'SEEK_END', 'SEEK_SET', 'TMP_MAX', 'W_OK', 'X_OK', '_AddedDllDirectory', '_Environ', '__all__', '__builtins__', '__doc__', '__file__', '__loader__', '__name__', '__package__', '__spec__', '_check_methods', '_execvpe', '_exists', '_exit', '_fspath', '_get_exports_list', '_walk', '_wrap_close', 'abc', 'abort', 'access', 'add_dll_directory', 'altsep', 'chdir', 'chmod', 'close', 'closerange', 'cpu_count', 'curdir', 'defpath', 'device_encoding', 'devnull', 'dup', 'dup2', 'environ', 'error', 'execl', 'execle', 'execlp', 'execlpe', 'execv', 'execve', 'execvp', 'execvpe', 'extsep', 'fdopen', 'fsdecode', 'fsencode', 'fspath', 'fstat', 'fsync', 'ftruncate', 'get_exec_path', 'get_handle_inheritable', 'get_inheritable', 'get_terminal_size', 'getcwd', 'getcwdb', 'getenv', 'getlogin', 'getpid', 'getppid', 'isatty', 'kill', 'linesep', 'link', 'listdir', 'lseek', 'lstat', 'makedirs', 'mkdir', 'name', 'open', 'pardir', 'path', 'pathsep', 'pipe', 'popen', 'putenv', 'read', 'readlink', 'remove', 'removedirs', 'rename', 'renames', 'replace', 'rmdir', 'scandir', 'sep', 'set_handle_inheritable', 'set_inheritable', 'spawnl', 'spawnle', 'spawnv', 'spawnve', 'st', 'startfile', 'stat', 'stat_result', 'statvfs_result', 'strerror', 'supports_bytes_environ', 'supports_dir_fd', 'supports_effective_ids', 'supports_fd', 'supports_follow_symlinks', 'symlink', 'sys', 'system', 'terminal_size', 'times', 'times_result', 'truncate', 'umask', 'uname_result', 'unlink', 'unsetenv', 'urandom', 'utime', 'waitpid', 'waitstatus_to_exitcode', 'walk', 'write']\n"
     ]
    }
   ],
   "source": [
    "import os\n",
    "print(dir(os))"
   ]
  },
  {
   "cell_type": "code",
   "execution_count": 3,
   "id": "3d5cfb16",
   "metadata": {},
   "outputs": [
    {
     "data": {
      "text/plain": [
       "'nt'"
      ]
     },
     "execution_count": 3,
     "metadata": {},
     "output_type": "execute_result"
    }
   ],
   "source": [
    "os.name"
   ]
  },
  {
   "cell_type": "code",
   "execution_count": 4,
   "id": "99e33145",
   "metadata": {},
   "outputs": [
    {
     "data": {
      "text/plain": [
       "'C:\\\\Users\\\\Lovekesh\\\\Desktop\\\\Python\\\\Morning Batch 17th_June'"
      ]
     },
     "execution_count": 4,
     "metadata": {},
     "output_type": "execute_result"
    }
   ],
   "source": [
    "os.getcwd()"
   ]
  },
  {
   "cell_type": "code",
   "execution_count": null,
   "id": "1c66331b",
   "metadata": {},
   "outputs": [],
   "source": []
  },
  {
   "cell_type": "markdown",
   "id": "f667f873",
   "metadata": {},
   "source": [
    "# Math_Module.ipynb"
   ]
  },
  {
   "cell_type": "code",
   "execution_count": 1,
   "id": "9f949182",
   "metadata": {},
   "outputs": [
    {
     "name": "stdout",
     "output_type": "stream",
     "text": [
      "2.0\n",
      "11\n",
      "10\n",
      "10.6\n",
      "10.6\n"
     ]
    }
   ],
   "source": [
    "from math import *\n",
    "print(sqrt(4))\n",
    "print(ceil(10.1))\n",
    "print(floor(10.1))\n",
    "print(fabs(-10.6))\n",
    "print(fabs(10.6))"
   ]
  },
  {
   "cell_type": "code",
   "execution_count": 2,
   "id": "c12c2189",
   "metadata": {},
   "outputs": [
    {
     "name": "stdout",
     "output_type": "stream",
     "text": [
      "Help on built-in module math:\n",
      "\n",
      "NAME\n",
      "    math\n",
      "\n",
      "DESCRIPTION\n",
      "    This module provides access to the mathematical functions\n",
      "    defined by the C standard.\n",
      "\n",
      "FUNCTIONS\n",
      "    acos(x, /)\n",
      "        Return the arc cosine (measured in radians) of x.\n",
      "        \n",
      "        The result is between 0 and pi.\n",
      "    \n",
      "    acosh(x, /)\n",
      "        Return the inverse hyperbolic cosine of x.\n",
      "    \n",
      "    asin(x, /)\n",
      "        Return the arc sine (measured in radians) of x.\n",
      "        \n",
      "        The result is between -pi/2 and pi/2.\n",
      "    \n",
      "    asinh(x, /)\n",
      "        Return the inverse hyperbolic sine of x.\n",
      "    \n",
      "    atan(x, /)\n",
      "        Return the arc tangent (measured in radians) of x.\n",
      "        \n",
      "        The result is between -pi/2 and pi/2.\n",
      "    \n",
      "    atan2(y, x, /)\n",
      "        Return the arc tangent (measured in radians) of y/x.\n",
      "        \n",
      "        Unlike atan(y/x), the signs of both x and y are considered.\n",
      "    \n",
      "    atanh(x, /)\n",
      "        Return the inverse hyperbolic tangent of x.\n",
      "    \n",
      "    cbrt(x, /)\n",
      "        Return the cube root of x.\n",
      "    \n",
      "    ceil(x, /)\n",
      "        Return the ceiling of x as an Integral.\n",
      "        \n",
      "        This is the smallest integer >= x.\n",
      "    \n",
      "    comb(n, k, /)\n",
      "        Number of ways to choose k items from n items without repetition and without order.\n",
      "        \n",
      "        Evaluates to n! / (k! * (n - k)!) when k <= n and evaluates\n",
      "        to zero when k > n.\n",
      "        \n",
      "        Also called the binomial coefficient because it is equivalent\n",
      "        to the coefficient of k-th term in polynomial expansion of the\n",
      "        expression (1 + x)**n.\n",
      "        \n",
      "        Raises TypeError if either of the arguments are not integers.\n",
      "        Raises ValueError if either of the arguments are negative.\n",
      "    \n",
      "    copysign(x, y, /)\n",
      "        Return a float with the magnitude (absolute value) of x but the sign of y.\n",
      "        \n",
      "        On platforms that support signed zeros, copysign(1.0, -0.0)\n",
      "        returns -1.0.\n",
      "    \n",
      "    cos(x, /)\n",
      "        Return the cosine of x (measured in radians).\n",
      "    \n",
      "    cosh(x, /)\n",
      "        Return the hyperbolic cosine of x.\n",
      "    \n",
      "    degrees(x, /)\n",
      "        Convert angle x from radians to degrees.\n",
      "    \n",
      "    dist(p, q, /)\n",
      "        Return the Euclidean distance between two points p and q.\n",
      "        \n",
      "        The points should be specified as sequences (or iterables) of\n",
      "        coordinates.  Both inputs must have the same dimension.\n",
      "        \n",
      "        Roughly equivalent to:\n",
      "            sqrt(sum((px - qx) ** 2.0 for px, qx in zip(p, q)))\n",
      "    \n",
      "    erf(x, /)\n",
      "        Error function at x.\n",
      "    \n",
      "    erfc(x, /)\n",
      "        Complementary error function at x.\n",
      "    \n",
      "    exp(x, /)\n",
      "        Return e raised to the power of x.\n",
      "    \n",
      "    exp2(x, /)\n",
      "        Return 2 raised to the power of x.\n",
      "    \n",
      "    expm1(x, /)\n",
      "        Return exp(x)-1.\n",
      "        \n",
      "        This function avoids the loss of precision involved in the direct evaluation of exp(x)-1 for small x.\n",
      "    \n",
      "    fabs(x, /)\n",
      "        Return the absolute value of the float x.\n",
      "    \n",
      "    factorial(n, /)\n",
      "        Find n!.\n",
      "        \n",
      "        Raise a ValueError if x is negative or non-integral.\n",
      "    \n",
      "    floor(x, /)\n",
      "        Return the floor of x as an Integral.\n",
      "        \n",
      "        This is the largest integer <= x.\n",
      "    \n",
      "    fmod(x, y, /)\n",
      "        Return fmod(x, y), according to platform C.\n",
      "        \n",
      "        x % y may differ.\n",
      "    \n",
      "    frexp(x, /)\n",
      "        Return the mantissa and exponent of x, as pair (m, e).\n",
      "        \n",
      "        m is a float and e is an int, such that x = m * 2.**e.\n",
      "        If x is 0, m and e are both 0.  Else 0.5 <= abs(m) < 1.0.\n",
      "    \n",
      "    fsum(seq, /)\n",
      "        Return an accurate floating point sum of values in the iterable seq.\n",
      "        \n",
      "        Assumes IEEE-754 floating point arithmetic.\n",
      "    \n",
      "    gamma(x, /)\n",
      "        Gamma function at x.\n",
      "    \n",
      "    gcd(*integers)\n",
      "        Greatest Common Divisor.\n",
      "    \n",
      "    hypot(...)\n",
      "        hypot(*coordinates) -> value\n",
      "        \n",
      "        Multidimensional Euclidean distance from the origin to a point.\n",
      "        \n",
      "        Roughly equivalent to:\n",
      "            sqrt(sum(x**2 for x in coordinates))\n",
      "        \n",
      "        For a two dimensional point (x, y), gives the hypotenuse\n",
      "        using the Pythagorean theorem:  sqrt(x*x + y*y).\n",
      "        \n",
      "        For example, the hypotenuse of a 3/4/5 right triangle is:\n",
      "        \n",
      "            >>> hypot(3.0, 4.0)\n",
      "            5.0\n",
      "    \n",
      "    isclose(a, b, *, rel_tol=1e-09, abs_tol=0.0)\n",
      "        Determine whether two floating point numbers are close in value.\n",
      "        \n",
      "          rel_tol\n",
      "            maximum difference for being considered \"close\", relative to the\n",
      "            magnitude of the input values\n",
      "          abs_tol\n",
      "            maximum difference for being considered \"close\", regardless of the\n",
      "            magnitude of the input values\n",
      "        \n",
      "        Return True if a is close in value to b, and False otherwise.\n",
      "        \n",
      "        For the values to be considered close, the difference between them\n",
      "        must be smaller than at least one of the tolerances.\n",
      "        \n",
      "        -inf, inf and NaN behave similarly to the IEEE 754 Standard.  That\n",
      "        is, NaN is not close to anything, even itself.  inf and -inf are\n",
      "        only close to themselves.\n",
      "    \n",
      "    isfinite(x, /)\n",
      "        Return True if x is neither an infinity nor a NaN, and False otherwise.\n",
      "    \n",
      "    isinf(x, /)\n",
      "        Return True if x is a positive or negative infinity, and False otherwise.\n",
      "    \n",
      "    isnan(x, /)\n",
      "        Return True if x is a NaN (not a number), and False otherwise.\n",
      "    \n",
      "    isqrt(n, /)\n",
      "        Return the integer part of the square root of the input.\n",
      "    \n",
      "    lcm(*integers)\n",
      "        Least Common Multiple.\n",
      "    \n",
      "    ldexp(x, i, /)\n",
      "        Return x * (2**i).\n",
      "        \n",
      "        This is essentially the inverse of frexp().\n",
      "    \n",
      "    lgamma(x, /)\n",
      "        Natural logarithm of absolute value of Gamma function at x.\n",
      "    \n",
      "    log(...)\n",
      "        log(x, [base=math.e])\n",
      "        Return the logarithm of x to the given base.\n",
      "        \n",
      "        If the base not specified, returns the natural logarithm (base e) of x.\n",
      "    \n",
      "    log10(x, /)\n",
      "        Return the base 10 logarithm of x.\n",
      "    \n",
      "    log1p(x, /)\n",
      "        Return the natural logarithm of 1+x (base e).\n",
      "        \n",
      "        The result is computed in a way which is accurate for x near zero.\n",
      "    \n",
      "    log2(x, /)\n",
      "        Return the base 2 logarithm of x.\n",
      "    \n",
      "    modf(x, /)\n",
      "        Return the fractional and integer parts of x.\n",
      "        \n",
      "        Both results carry the sign of x and are floats.\n",
      "    \n",
      "    nextafter(x, y, /)\n",
      "        Return the next floating-point value after x towards y.\n",
      "    \n",
      "    perm(n, k=None, /)\n",
      "        Number of ways to choose k items from n items without repetition and with order.\n",
      "        \n",
      "        Evaluates to n! / (n - k)! when k <= n and evaluates\n",
      "        to zero when k > n.\n",
      "        \n",
      "        If k is not specified or is None, then k defaults to n\n",
      "        and the function returns n!.\n",
      "        \n",
      "        Raises TypeError if either of the arguments are not integers.\n",
      "        Raises ValueError if either of the arguments are negative.\n",
      "    \n",
      "    pow(x, y, /)\n",
      "        Return x**y (x to the power of y).\n",
      "    \n",
      "    prod(iterable, /, *, start=1)\n",
      "        Calculate the product of all the elements in the input iterable.\n",
      "        \n",
      "        The default start value for the product is 1.\n",
      "        \n",
      "        When the iterable is empty, return the start value.  This function is\n",
      "        intended specifically for use with numeric values and may reject\n",
      "        non-numeric types.\n",
      "    \n",
      "    radians(x, /)\n",
      "        Convert angle x from degrees to radians.\n",
      "    \n",
      "    remainder(x, y, /)\n",
      "        Difference between x and the closest integer multiple of y.\n",
      "        \n",
      "        Return x - n*y where n*y is the closest integer multiple of y.\n",
      "        In the case where x is exactly halfway between two multiples of\n",
      "        y, the nearest even value of n is used. The result is always exact.\n",
      "    \n",
      "    sin(x, /)\n",
      "        Return the sine of x (measured in radians).\n",
      "    \n",
      "    sinh(x, /)\n",
      "        Return the hyperbolic sine of x.\n",
      "    \n",
      "    sqrt(x, /)\n",
      "        Return the square root of x.\n",
      "    \n",
      "    tan(x, /)\n",
      "        Return the tangent of x (measured in radians).\n",
      "    \n",
      "    tanh(x, /)\n",
      "        Return the hyperbolic tangent of x.\n",
      "    \n",
      "    trunc(x, /)\n",
      "        Truncates the Real x to the nearest Integral toward 0.\n",
      "        \n",
      "        Uses the __trunc__ magic method.\n",
      "    \n",
      "    ulp(x, /)\n",
      "        Return the value of the least significant bit of the float x.\n",
      "\n",
      "DATA\n",
      "    e = 2.718281828459045\n",
      "    inf = inf\n",
      "    nan = nan\n",
      "    pi = 3.141592653589793\n",
      "    tau = 6.283185307179586\n",
      "\n",
      "FILE\n",
      "    (built-in)\n",
      "\n",
      "\n"
     ]
    }
   ],
   "source": [
    "import math\n",
    "help(math)"
   ]
  },
  {
   "cell_type": "code",
   "execution_count": 3,
   "id": "cf2bd432",
   "metadata": {},
   "outputs": [
    {
     "name": "stdout",
     "output_type": "stream",
     "text": [
      "0.25632350608843246\n",
      "0.44184635070949607\n",
      "0.20297880562776904\n",
      "0.9896958739856454\n",
      "0.8210177758495013\n",
      "0.5235993310305406\n",
      "0.6595108207641227\n",
      "0.1494604504335929\n",
      "0.8035434776077812\n",
      "0.9810814284131135\n"
     ]
    }
   ],
   "source": [
    "from random import *\n",
    "for i in range(10):\n",
    "    print(random())"
   ]
  },
  {
   "cell_type": "code",
   "execution_count": 4,
   "id": "18b73345",
   "metadata": {},
   "outputs": [
    {
     "name": "stdout",
     "output_type": "stream",
     "text": [
      "87\n",
      "88\n",
      "97\n",
      "6\n",
      "29\n",
      "52\n",
      "36\n",
      "75\n",
      "68\n",
      "12\n"
     ]
    }
   ],
   "source": [
    "for i in range(10):\n",
    "    print(randint(1,100))"
   ]
  },
  {
   "cell_type": "code",
   "execution_count": 5,
   "id": "4c434e51",
   "metadata": {},
   "outputs": [
    {
     "name": "stdout",
     "output_type": "stream",
     "text": [
      "6.845779001555498\n",
      "8.46188686746029\n",
      "2.737545629194191\n",
      "9.938074727947171\n",
      "3.215329330220155\n",
      "2.2707285021712216\n",
      "9.122668865596498\n",
      "4.3779304549511195\n",
      "4.045996335074388\n",
      "3.8188114459760762\n"
     ]
    }
   ],
   "source": [
    "for i in range(10):\n",
    "    print(uniform(1,10))"
   ]
  },
  {
   "cell_type": "code",
   "execution_count": 8,
   "id": "c82e6d9e",
   "metadata": {},
   "outputs": [
    {
     "name": "stdout",
     "output_type": "stream",
     "text": [
      "8\n",
      "8\n",
      "8\n",
      "4\n",
      "2\n",
      "0\n",
      "6\n",
      "5\n",
      "0\n",
      "6\n",
      "*********************\n",
      "8\n",
      "13\n",
      "12\n",
      "3\n",
      "9\n",
      "9\n",
      "6\n",
      "3\n",
      "7\n",
      "8\n"
     ]
    }
   ],
   "source": [
    "for i in range(10):\n",
    "    print(randrange(10))\n",
    "print(\"*********************\")\n",
    "for i in range(10):\n",
    "    print(randrange(2,15))"
   ]
  },
  {
   "cell_type": "code",
   "execution_count": 9,
   "id": "22ed2f07",
   "metadata": {},
   "outputs": [
    {
     "name": "stdout",
     "output_type": "stream",
     "text": [
      "Php\n",
      "Java\n",
      "JavaScript\n",
      "Python\n",
      "JavaScript\n",
      "C#\n",
      "Python\n",
      "C#\n",
      "Python\n",
      "Php\n"
     ]
    }
   ],
   "source": [
    "list=[\"Python\", \"Java\", \"C#\", \"Ruby\", \"JavaScript\", \"Php\"]\n",
    "for i in range(10):\n",
    "    print(choice(list))"
   ]
  },
  {
   "cell_type": "code",
   "execution_count": null,
   "id": "82b50c3a",
   "metadata": {},
   "outputs": [],
   "source": []
  },
  {
   "cell_type": "markdown",
   "id": "70f1a0dd",
   "metadata": {},
   "source": [
    "# Directory.ipynb"
   ]
  },
  {
   "cell_type": "code",
   "execution_count": 1,
   "id": "640b6eb7",
   "metadata": {},
   "outputs": [
    {
     "name": "stdout",
     "output_type": "stream",
     "text": [
      "Current working directory:  C:\\Users\\Lovekesh\\Desktop\\Python\\Morning Batch 17th_June\n"
     ]
    }
   ],
   "source": [
    "import os\n",
    "cwd = os.getcwd()\n",
    "print(\"Current working directory: \", cwd)"
   ]
  },
  {
   "cell_type": "code",
   "execution_count": 2,
   "id": "a84fa4ae",
   "metadata": {},
   "outputs": [],
   "source": [
    "os.mkdir(\"MachineLearning\")"
   ]
  },
  {
   "cell_type": "code",
   "execution_count": 3,
   "id": "71f13cc7",
   "metadata": {},
   "outputs": [],
   "source": [
    "os.mkdir(\"MachineLearning/DeepLearning\")"
   ]
  },
  {
   "cell_type": "code",
   "execution_count": 4,
   "id": "254c9a00",
   "metadata": {},
   "outputs": [],
   "source": [
    "os.makedirs(\"sub1/sub2/sub3\")"
   ]
  },
  {
   "cell_type": "code",
   "execution_count": 5,
   "id": "fde652ee",
   "metadata": {},
   "outputs": [],
   "source": [
    "os.rmdir(\"sub1/sub2/sub3\")"
   ]
  },
  {
   "cell_type": "code",
   "execution_count": 6,
   "id": "d66518a5",
   "metadata": {},
   "outputs": [],
   "source": [
    "os.removedirs(\"sub1/sub2\")"
   ]
  },
  {
   "cell_type": "code",
   "execution_count": 7,
   "id": "47541a83",
   "metadata": {},
   "outputs": [],
   "source": [
    "os.rename(\"MachineLearning/DeepLearning\", \"MachineLearning/AI\")"
   ]
  },
  {
   "cell_type": "code",
   "execution_count": 8,
   "id": "609de907",
   "metadata": {},
   "outputs": [
    {
     "name": "stdout",
     "output_type": "stream",
     "text": [
      "['.ipynb_checkpoints', 'barchart.jpg', 'Class.ipynb', 'Class2.ipynb', 'Decorator Function.ipynb', 'Dictionary.ipynb', 'Directory.ipynb', 'Error Handling.ipynb', 'File Handling.ipynb', 'Function.ipynb', 'Function_2.ipynb', 'Function_3.ipynb', 'Generator and Assert.ipynb', 'Inner Class.ipynb', 'Keyword and Int.ipynb', 'List,Range,Tuple,Set,Dict,Range.ipynb', 'List.ipynb', 'List_2.ipynb', 'Loop.ipynb', 'MachineLearning', 'Math_Module.ipynb', 'Methods.ipynb', 'Module.ipynb', 'newBarchart.jpg', 'Notes', 'Number and Data type Conversion.ipynb', 'Operators.ipynb', 'Operators_2.ipynb', 'Set.ipynb', 'String.ipynb', 'String_2.ipynb', 'text.txt', 'text2.txt']\n"
     ]
    }
   ],
   "source": [
    "print(os.listdir(\".\"))"
   ]
  },
  {
   "cell_type": "code",
   "execution_count": 10,
   "id": "dd4753de",
   "metadata": {},
   "outputs": [
    {
     "name": "stdout",
     "output_type": "stream",
     "text": [
      "os.stat_result(st_mode=33206, st_ino=38562071809890247, st_dev=2024004268, st_nlink=1, st_uid=0, st_gid=0, st_size=18, st_atime=1723512618, st_mtime=1723512618, st_ctime=1723512610)\n"
     ]
    }
   ],
   "source": [
    "stats = os.stat(\"text2.txt\")\n",
    "print(stats)"
   ]
  },
  {
   "cell_type": "code",
   "execution_count": 11,
   "id": "e313434d",
   "metadata": {},
   "outputs": [
    {
     "name": "stdout",
     "output_type": "stream",
     "text": [
      "File Size in Bytes:  18\n",
      "File Last Accessed Time:  2024-08-13 07:00:18.899271\n",
      "File Last Modified Time:  2024-08-13 07:00:18.899271\n"
     ]
    }
   ],
   "source": [
    "from datetime import *\n",
    "print(\"File Size in Bytes: \", stats.st_size)\n",
    "print(\"File Last Accessed Time: \",datetime.fromtimestamp(stats.st_atime))\n",
    "print(\"File Last Modified Time: \",datetime.fromtimestamp(stats.st_mtime))"
   ]
  },
  {
   "cell_type": "code",
   "execution_count": null,
   "id": "cf7a380c",
   "metadata": {},
   "outputs": [],
   "source": []
  },
  {
   "cell_type": "markdown",
   "id": "4c118f92",
   "metadata": {},
   "source": [
    "# Error Handling.ipynb"
   ]
  },
  {
   "cell_type": "code",
   "execution_count": 2,
   "id": "74587361",
   "metadata": {},
   "outputs": [
    {
     "name": "stdout",
     "output_type": "stream",
     "text": [
      "Try block start\n",
      "5.0\n",
      "Try block end\n"
     ]
    }
   ],
   "source": [
    "print(\"Try block start\")\n",
    "try:\n",
    "    print(10/0)\n",
    "except ZeroDivisionError:\n",
    "    print(10/2)\n",
    "print(\"Try block end\")"
   ]
  },
  {
   "cell_type": "code",
   "execution_count": 3,
   "id": "2aa3f509",
   "metadata": {},
   "outputs": [
    {
     "name": "stdout",
     "output_type": "stream",
     "text": [
      "Try block start\n",
      "Exception raised and its description is:  division by zero\n",
      "Try block end\n"
     ]
    }
   ],
   "source": [
    "print(\"Try block start\")\n",
    "try:\n",
    "    print(10/0)\n",
    "except ZeroDivisionError as msg:\n",
    "    print(\"Exception raised and its description is: \",msg)\n",
    "print(\"Try block end\")"
   ]
  },
  {
   "cell_type": "code",
   "execution_count": 5,
   "id": "3906fbef",
   "metadata": {},
   "outputs": [
    {
     "name": "stdout",
     "output_type": "stream",
     "text": [
      "Enter First Number: 20\n",
      "Enter Second Number: a\n",
      "please provide int value only\n"
     ]
    }
   ],
   "source": [
    "try:\n",
    "    x = int(input(\"Enter First Number: \"))\n",
    "    y = int(input(\"Enter Second Number: \"))\n",
    "    print(x/y)\n",
    "except ZeroDivisionError:\n",
    "    print(\"Can not Divide by Zero\")\n",
    "except ValueError:\n",
    "    print(\"please provide int value only\")"
   ]
  },
  {
   "cell_type": "code",
   "execution_count": 7,
   "id": "3e424498",
   "metadata": {},
   "outputs": [
    {
     "name": "stdout",
     "output_type": "stream",
     "text": [
      "Enter First Number: 20\n",
      "Enter Second Number: e\n",
      "Please provide valid numbers only and error is:  invalid literal for int() with base 10: 'e'\n"
     ]
    }
   ],
   "source": [
    "try:\n",
    "    x = int(input(\"Enter First Number: \"))\n",
    "    y = int(input(\"Enter Second Number: \"))\n",
    "    print(x/y)\n",
    "except (ZeroDivisionError,ValueError) as msg:\n",
    "    print(\"Please provide valid numbers only and error is: \",msg)\n"
   ]
  },
  {
   "cell_type": "code",
   "execution_count": 11,
   "id": "3796bf36",
   "metadata": {},
   "outputs": [
    {
     "name": "stdin",
     "output_type": "stream",
     "text": [
      "Enter First Number:  10\n",
      "Enter Second Number:  0\n"
     ]
    },
    {
     "name": "stdout",
     "output_type": "stream",
     "text": [
      "Default Except: Please provide valid input only\n"
     ]
    }
   ],
   "source": [
    "# Default except Block:\n",
    "try:\n",
    "    x = int(input(\"Enter First Number: \"))\n",
    "    y = int(input(\"Enter Second Number: \"))\n",
    "    print(x/y)\n",
    "except:\n",
    "    print(\"Default Except: Please provide valid input only\")\n"
   ]
  },
  {
   "cell_type": "code",
   "execution_count": 13,
   "id": "28cf9d31",
   "metadata": {},
   "outputs": [
    {
     "name": "stdout",
     "output_type": "stream",
     "text": [
      "try start\n",
      "except\n",
      "finally\n"
     ]
    }
   ],
   "source": [
    "try:\n",
    "    print(\"try start\")\n",
    "    print(10/0)\n",
    "    print(\"try end\")\n",
    "except:\n",
    "    print(\"except\")\n",
    "finally:\n",
    "    print(\"finally\")"
   ]
  },
  {
   "cell_type": "code",
   "execution_count": 2,
   "id": "1cd8afe9",
   "metadata": {},
   "outputs": [
    {
     "name": "stdout",
     "output_type": "stream",
     "text": [
      "try\n",
      "except\n",
      "finally\n"
     ]
    }
   ],
   "source": [
    "# else block\n",
    "try:\n",
    "    print(\"try\")\n",
    "    print(10/0)\n",
    "except:\n",
    "    print(\"except\")\n",
    "else:\n",
    "    print(\"else\")\n",
    "finally:\n",
    "    print(\"finally\")"
   ]
  },
  {
   "cell_type": "code",
   "execution_count": 5,
   "id": "5890de59",
   "metadata": {},
   "outputs": [
    {
     "name": "stdout",
     "output_type": "stream",
     "text": [
      "enter age70\n"
     ]
    },
    {
     "ename": "TooOldException",
     "evalue": "Please wait you will get appointment soon",
     "output_type": "error",
     "traceback": [
      "\u001b[1;31m---------------------------------------------------------------------------\u001b[0m",
      "\u001b[1;31mTooOldException\u001b[0m                           Traceback (most recent call last)",
      "Cell \u001b[1;32mIn[5], line 11\u001b[0m\n\u001b[0;32m      9\u001b[0m age \u001b[38;5;241m=\u001b[39m \u001b[38;5;28mint\u001b[39m(\u001b[38;5;28minput\u001b[39m(\u001b[38;5;124m\"\u001b[39m\u001b[38;5;124menter age\u001b[39m\u001b[38;5;124m\"\u001b[39m))\n\u001b[0;32m     10\u001b[0m \u001b[38;5;28;01mif\u001b[39;00m age\u001b[38;5;241m>\u001b[39m\u001b[38;5;241m60\u001b[39m:\n\u001b[1;32m---> 11\u001b[0m     \u001b[38;5;28;01mraise\u001b[39;00m TooOldException(\u001b[38;5;124m\"\u001b[39m\u001b[38;5;124mPlease wait you will get appointment soon\u001b[39m\u001b[38;5;124m\"\u001b[39m)\n\u001b[0;32m     12\u001b[0m \u001b[38;5;28;01melif\u001b[39;00m age\u001b[38;5;241m<\u001b[39m\u001b[38;5;241m18\u001b[39m:\n\u001b[0;32m     13\u001b[0m     \u001b[38;5;28;01mraise\u001b[39;00m TooYoungException(\u001b[38;5;124m\"\u001b[39m\u001b[38;5;124mYou will get appointment soon but after elders\u001b[39m\u001b[38;5;124m\"\u001b[39m)\n",
      "\u001b[1;31mTooOldException\u001b[0m: Please wait you will get appointment soon"
     ]
    }
   ],
   "source": [
    "class TooYoungException(Exception):\n",
    "    def __init__(self,arg):\n",
    "        self.msg = arg\n",
    "        \n",
    "class TooOldException(Exception):\n",
    "    def __init__(self,arg):\n",
    "        self.msg = arg\n",
    "        \n",
    "age = int(input(\"enter age\"))\n",
    "if age>60:\n",
    "    raise TooOldException(\"Please wait you will get appointment soon\")\n",
    "elif age<18:\n",
    "    raise TooYoungException(\"You will get appointment soon but after elders\")\n",
    "else:\n",
    "    print(\"You will get appointment soon but after elders and younger\")"
   ]
  },
  {
   "cell_type": "code",
   "execution_count": null,
   "id": "1f31d8a6",
   "metadata": {},
   "outputs": [],
   "source": []
  },
  {
   "cell_type": "markdown",
   "id": "c8324491",
   "metadata": {},
   "source": [
    "# File Handling.ipynb"
   ]
  },
  {
   "cell_type": "code",
   "execution_count": 2,
   "id": "321b5511",
   "metadata": {},
   "outputs": [],
   "source": [
    "# write data to text file\n",
    "f = open(\"text.txt\", 'w')\n",
    "f.write(\"Python\\n\")\n",
    "f.write(\"Java\\n\")\n",
    "f.write(\"C#\\n\")\n",
    "print(\"Successfully data written in the file\")\n",
    "f.close()"
   ]
  },
  {
   "cell_type": "code",
   "execution_count": 3,
   "id": "4a26e552",
   "metadata": {},
   "outputs": [],
   "source": [
    "# append the data  f = open(\"text.txt\", \"a\")\n",
    "f = open(\"text.txt\", \"w\")\n",
    "list = [\"Pradeep\\n\", \"Dyal\\n\", \"Karan\"]\n",
    "f.writelines(list)\n",
    "print(\"All lines written to the file successfully\")\n",
    "f.close()"
   ]
  },
  {
   "cell_type": "code",
   "execution_count": 1,
   "id": "cae2a29a",
   "metadata": {},
   "outputs": [
    {
     "name": "stdout",
     "output_type": "stream",
     "text": [
      "Pradeep\n",
      "Dyal\n",
      "Karan\n"
     ]
    }
   ],
   "source": [
    "# Reading data from text files\n",
    "f1 = open(\"text.txt\",'r')\n",
    "data = f1.read()\n",
    "print(data)\n",
    "f1.close()"
   ]
  },
  {
   "cell_type": "code",
   "execution_count": 2,
   "id": "aaa7c91e",
   "metadata": {},
   "outputs": [
    {
     "name": "stdout",
     "output_type": "stream",
     "text": [
      "Prade\n"
     ]
    }
   ],
   "source": [
    "f2 = open(\"text.txt\",'r')\n",
    "data = f2.read(5)\n",
    "print(data)\n",
    "f2.close()"
   ]
  },
  {
   "cell_type": "code",
   "execution_count": 4,
   "id": "c7ad76a3",
   "metadata": {},
   "outputs": [
    {
     "name": "stdout",
     "output_type": "stream",
     "text": [
      "Pradeep\n",
      "Dyal\n",
      "Karan"
     ]
    }
   ],
   "source": [
    "# read all lines\n",
    "f3 = open(\"text.txt\", 'r')\n",
    "line1 = f3.readline()\n",
    "print(line1, end='')\n",
    "line2 = f3.readline()\n",
    "print(line2, end='')\n",
    "line3 = f3.readline()\n",
    "print(line3, end='')\n",
    "f3.close()"
   ]
  },
  {
   "cell_type": "code",
   "execution_count": 7,
   "id": "e5742c84",
   "metadata": {},
   "outputs": [
    {
     "name": "stdout",
     "output_type": "stream",
     "text": [
      "['Pradeep\\n', 'Dyal\\n', 'Karan']\n",
      "Pradeep\n",
      "Dyal\n",
      "Karan"
     ]
    }
   ],
   "source": [
    "# read all lines\n",
    "f4 = open(\"text.txt\", 'r')\n",
    "lines = f4.readlines()\n",
    "print(lines)\n",
    "for line in lines:\n",
    "    print(line, end='')\n",
    "f4.close()"
   ]
  },
  {
   "cell_type": "code",
   "execution_count": 9,
   "id": "001dea21",
   "metadata": {},
   "outputs": [
    {
     "name": "stdout",
     "output_type": "stream",
     "text": [
      "File closed:  False\n",
      "File closed after with completed:  True\n"
     ]
    }
   ],
   "source": [
    "# with statement\n",
    "with open(\"text2.txt\", \"w\") as f5:\n",
    "    f5.write(\"Python\\n\")\n",
    "    f5.write(\"Java\\n\")\n",
    "    f5.write(\"C#\\n\")\n",
    "    print(\"File closed: \", f5.closed)\n",
    "print(\"File closed after with completed: \", f5.closed)"
   ]
  },
  {
   "cell_type": "code",
   "execution_count": 3,
   "id": "3e84ac28",
   "metadata": {},
   "outputs": [
    {
     "name": "stdout",
     "output_type": "stream",
     "text": [
      "Enter file Name:text.txt\n",
      "File exists: text.txt\n",
      "The content of the file is:\n",
      "Pradeep\n",
      "Dyal\n",
      "Karan\n"
     ]
    }
   ],
   "source": [
    "import os, sys\n",
    "fname = input(\"Enter file Name:\")\n",
    "if os.path.isfile(fname):\n",
    "    print(\"File exists:\", fname)\n",
    "    f=open(fname,\"r\")\n",
    "else:\n",
    "    print(\"File does not exist:\", fname)\n",
    "    sys.exit(0)\n",
    "print(\"The content of the file is:\")\n",
    "data=f.read()\n",
    "print(data)"
   ]
  },
  {
   "cell_type": "code",
   "execution_count": 4,
   "id": "a1c096d7",
   "metadata": {},
   "outputs": [],
   "source": [
    "# program to print the number of lines, words and characters present in the given File eg. I am a programmer words: 4 char: 14"
   ]
  },
  {
   "cell_type": "code",
   "execution_count": 6,
   "id": "51656f7c",
   "metadata": {},
   "outputs": [
    {
     "name": "stdout",
     "output_type": "stream",
     "text": [
      "New Image is created with the name : newBarchart.jpg\n"
     ]
    }
   ],
   "source": [
    "# Binary file handling\n",
    "f6 = open(\"barchart.jpg\", \"rb\")\n",
    "f7 = open(\"newBarchart.jpg\", \"wb\")\n",
    "bytes = f6.read()\n",
    "f7.write(bytes)\n",
    "print(\"New Image is created with the name : newBarchart.jpg\")"
   ]
  },
  {
   "cell_type": "code",
   "execution_count": null,
   "id": "e9f28ed0",
   "metadata": {},
   "outputs": [],
   "source": []
  },
  {
   "cell_type": "markdown",
   "id": "958f2259",
   "metadata": {},
   "source": [
    "# Generator and Assert.ipynb"
   ]
  },
  {
   "cell_type": "code",
   "execution_count": 6,
   "id": "d18ce583",
   "metadata": {},
   "outputs": [
    {
     "name": "stdout",
     "output_type": "stream",
     "text": [
      "<class 'generator'>\n",
      "A\n",
      "B\n",
      "C\n"
     ]
    }
   ],
   "source": [
    "#Generator function\n",
    "def mygen():\n",
    "    yield 'A'\n",
    "    yield 'B'\n",
    "    yield 'C'\n",
    "    \n",
    "g = mygen()\n",
    "print(type(g))\n",
    "print(next(g))\n",
    "print(next(g))\n",
    "print(next(g))"
   ]
  },
  {
   "cell_type": "code",
   "execution_count": 9,
   "id": "21695fc0",
   "metadata": {},
   "outputs": [
    {
     "name": "stdout",
     "output_type": "stream",
     "text": [
      "4\n",
      "27\n",
      "256\n"
     ]
    }
   ],
   "source": [
    "# Assert\n",
    "def square1(x):\n",
    "    return x * x\n",
    "assert square1(2)==4,\"The square of 2 should be 4\"\n",
    "assert square1(3)==9,\"The square of 3 should be 9\"\n",
    "assert square1(4)==16,\"The square of 4 should be 16\"\n",
    "print(square1(2))\n",
    "print(square1(3))\n",
    "print(square1(4))"
   ]
  },
  {
   "cell_type": "code",
   "execution_count": null,
   "id": "0bf433aa",
   "metadata": {},
   "outputs": [],
   "source": []
  },
  {
   "cell_type": "markdown",
   "id": "d6a04679",
   "metadata": {},
   "source": [
    "# Inner Class.ipynb"
   ]
  },
  {
   "cell_type": "code",
   "execution_count": 6,
   "id": "ead3255f",
   "metadata": {},
   "outputs": [
    {
     "name": "stdout",
     "output_type": "stream",
     "text": [
      "outer class object creation\n",
      "inner class object creation\n",
      "inner class method\n"
     ]
    }
   ],
   "source": [
    "class Outer:\n",
    "    def __init__(self):\n",
    "        print(\"outer class object creation\")\n",
    "    class inner:\n",
    "        def __init__(self):\n",
    "            print(\"inner class object creation\")\n",
    "        def m1(self):\n",
    "            print(\"inner class method\")\n",
    "\n",
    "# ot = Outer().inner().m1()\n",
    "# inne = ot.inner()\n",
    "# inne.m1()\n",
    "\n",
    "ot1 = Outer().inner().m1()\n"
   ]
  },
  {
   "cell_type": "code",
   "execution_count": 7,
   "id": "5be1a1f6",
   "metadata": {},
   "outputs": [
    {
     "name": "stdout",
     "output_type": "stream",
     "text": [
      "True\n",
      "False\n",
      "True\n"
     ]
    }
   ],
   "source": [
    "# Garbage Collector\n",
    "import gc\n",
    "print(gc.isenabled())\n",
    "gc.disable()\n",
    "print(gc.isenabled())\n",
    "gc.enable()\n",
    "print(gc.isenabled())"
   ]
  },
  {
   "cell_type": "code",
   "execution_count": 9,
   "id": "d0cb9534",
   "metadata": {},
   "outputs": [
    {
     "name": "stdout",
     "output_type": "stream",
     "text": [
      "Object initial\n",
      "Performing clean up activitiies\n",
      "End of app\n"
     ]
    }
   ],
   "source": [
    "# Destructor\n",
    "import time\n",
    "class Test:\n",
    "    def __init__(self):\n",
    "        print(\"Object initial\")\n",
    "    def __del__(self):\n",
    "        print(\"Performing clean up activitiies\")\n",
    "\n",
    "t1 = Test()\n",
    "t1 = None\n",
    "time.sleep(5)\n",
    "print(\"End of app\")"
   ]
  },
  {
   "cell_type": "code",
   "execution_count": null,
   "id": "b838ab7c",
   "metadata": {},
   "outputs": [],
   "source": []
  },
  {
   "cell_type": "markdown",
   "id": "4fb1dd7f",
   "metadata": {},
   "source": [
    "# Methods.ipynb"
   ]
  },
  {
   "cell_type": "code",
   "execution_count": 3,
   "id": "f0acc31d",
   "metadata": {},
   "outputs": [
    {
     "name": "stdout",
     "output_type": "stream",
     "text": [
      "Enter number of students:2\n",
      "Enter Name:Pradeep\n",
      "Enter Marks85\n",
      "Hi Pradeep\n",
      "Your Marks are : 85\n",
      "You got First Grade\n",
      "\n",
      "Enter Name:Xyz\n",
      "Enter Marks30\n",
      "Hi Xyz\n",
      "Your Marks are : 30\n",
      "You are Failed\n",
      "\n"
     ]
    }
   ],
   "source": [
    "class Student:\n",
    "    def __init__(self,name,marks):\n",
    "        self.name = name\n",
    "        self.marks = marks\n",
    "    def display(self):\n",
    "        print('Hi', self.name)\n",
    "        print('Your Marks are :',self.marks)\n",
    "    def grade(self):\n",
    "        if self.marks >=60:\n",
    "            print(\"You got First Grade\")\n",
    "        elif self.marks>=50:\n",
    "            print(\"You got Second Grade\")\n",
    "        elif self.marks>=35:\n",
    "            print('Your got Third Grade')\n",
    "        else:\n",
    "            print('You are Failed')\n",
    "\n",
    "n = int(input('Enter number of students:'))\n",
    "for i in range(n):\n",
    "    name = input(\"Enter Name:\")\n",
    "    marks = int(input('Enter Marks'))\n",
    "    s= Student(name,marks)\n",
    "    s.display()\n",
    "    s.grade()\n",
    "    print()"
   ]
  },
  {
   "cell_type": "code",
   "execution_count": 4,
   "id": "3847e458",
   "metadata": {},
   "outputs": [
    {
     "name": "stdout",
     "output_type": "stream",
     "text": [
      "Enter number of students:2\n",
      "Enter Name:Anand\n",
      "Enter Marks90\n",
      "Hi Anand\n",
      "Your marks are:  90\n",
      "\n",
      "Enter Name:Karan\n",
      "Enter Marks85\n",
      "Hi Karan\n",
      "Your marks are:  85\n",
      "\n"
     ]
    }
   ],
   "source": [
    "class Student1:\n",
    "    def setName(self,name):\n",
    "        self.name = name\n",
    "    def getName(self):\n",
    "        return self.name\n",
    "    def setMarks(self, marks):\n",
    "        self.marks = marks\n",
    "    def getMarks(self):\n",
    "        return self.marks\n",
    "    \n",
    "n = int(input('Enter number of students:'))\n",
    "for i in range(n):\n",
    "    s = Student1()\n",
    "    name = input('Enter Name:')\n",
    "    s.setName(name)\n",
    "    marks = int(input('Enter Marks'))\n",
    "    s.setMarks(marks)\n",
    "    \n",
    "    print('Hi', s.getName())\n",
    "    print('Your marks are: ',s.getMarks())\n",
    "    print()"
   ]
  },
  {
   "cell_type": "code",
   "execution_count": 1,
   "id": "8132f65f",
   "metadata": {},
   "outputs": [
    {
     "name": "stdout",
     "output_type": "stream",
     "text": [
      "Dog walks with 4 legs....\n",
      "Cat walks with 4 legs....\n"
     ]
    }
   ],
   "source": [
    "class Animal:\n",
    "    legs = 4\n",
    "    @classmethod\n",
    "    def walk(cls,name):\n",
    "        print('{} walks with {} legs....'.format(name,cls.legs))\n",
    "Animal.walk('Dog')\n",
    "Animal.walk('Cat')"
   ]
  },
  {
   "cell_type": "code",
   "execution_count": 2,
   "id": "0a57f450",
   "metadata": {},
   "outputs": [],
   "source": [
    "# Program to track the number of Objects created for a class"
   ]
  },
  {
   "cell_type": "code",
   "execution_count": 3,
   "id": "5a688fea",
   "metadata": {},
   "outputs": [
    {
     "name": "stdout",
     "output_type": "stream",
     "text": [
      "The Sum:  30\n",
      "The Product:  200\n",
      "The average:  15.0\n"
     ]
    }
   ],
   "source": [
    "class LyMachMath:\n",
    "    @staticmethod\n",
    "    def add(x,y):\n",
    "        print('The Sum: ',x+y)\n",
    "    @staticmethod\n",
    "    def product(x,y):\n",
    "        print('The Product: ',x*y)\n",
    "    @staticmethod\n",
    "    def average(x,y):\n",
    "        print('The average: ',(x+y)/2)\n",
    "        \n",
    "LyMachMath.add(10,20)\n",
    "LyMachMath.product(10,20)\n",
    "LyMachMath.average(10,20)"
   ]
  },
  {
   "cell_type": "markdown",
   "id": "f56c4057",
   "metadata": {},
   "source": [
    "# Oops.ipynb"
   ]
  },
  {
   "cell_type": "code",
   "execution_count": 2,
   "id": "cffa522f",
   "metadata": {},
   "outputs": [
    {
     "name": "stdout",
     "output_type": "stream",
     "text": [
      "Eat Veg Biryani and Drink Milk\n",
      "Coding Python is very easy\n",
      "Employee Name:  Anand\n",
      "Employee Age:  24\n",
      "Employee Number:  101\n",
      "Employee Salary:  100000\n",
      "Employee Car Info \n",
      "\tCar Name:Fortuner \n",
      "\t Model:2.5V \n",
      "\t Color:Black\n"
     ]
    }
   ],
   "source": [
    "#Make multiple classes and their objects\n",
    "class Car:\n",
    "    def __init__(self,name,model,color):\n",
    "        self.name=name\n",
    "        self.model=model\n",
    "        self.color=color\n",
    "    def getInfo(self):\n",
    "        print(\"\\tCar Name:{} \\n\\t Model:{} \\n\\t Color:{}\".format(self.name,self.model,self.color))\n",
    "        \n",
    "class Person:\n",
    "    def __init__(self,name,age):\n",
    "        self.name=name\n",
    "        self.age=age\n",
    "    def eatndrink(self):\n",
    "        print(\"Eat Veg Biryani and Drink Milk\")\n",
    "        \n",
    "class Employee(Person):\n",
    "    def __init__(self,name,age,eno,sal,car):\n",
    "        super().__init__(name,age)\n",
    "        self.eno=eno\n",
    "        self.sal=sal\n",
    "        self.car=car\n",
    "    def work(self):\n",
    "        print(\"Coding Python is very easy\")\n",
    "    def empinfo(self):\n",
    "        print(\"Employee Name: \",self.name)\n",
    "        print(\"Employee Age: \",self.age)\n",
    "        print(\"Employee Number: \",self.eno)\n",
    "        print(\"Employee Salary: \",self.sal)\n",
    "        print(\"Employee Car Info \")\n",
    "        self.car.getInfo()\n",
    "        \n",
    "c1 = Car(\"Fortuner\", \"2.5V\",\"Black\")\n",
    "e1 = Employee('Anand',24,101,100000,c1)\n",
    "e1.eatndrink()\n",
    "e1.work()\n",
    "e1.empinfo()\n",
    "    \n",
    "    "
   ]
  },
  {
   "cell_type": "code",
   "execution_count": 3,
   "id": "388b7a4d",
   "metadata": {},
   "outputs": [
    {
     "name": "stdout",
     "output_type": "stream",
     "text": [
      "Lymach\n",
      "Pradeep\n"
     ]
    }
   ],
   "source": [
    "class Student:\n",
    "    collegeName='Lymach'\n",
    "    def __init__(self,name):\n",
    "        self.name=name\n",
    "print(Student.collegeName) #Aggregation\n",
    "s = Student('Pradeep')\n",
    "print(s.name)  #Composition\n",
    "# The relation between object and its instance variables is always be a Composition where as the relation between object and static\n",
    "# variables is Aggregation."
   ]
  },
  {
   "cell_type": "code",
   "execution_count": 1,
   "id": "7f2852a0",
   "metadata": {},
   "outputs": [
    {
     "name": "stdout",
     "output_type": "stream",
     "text": [
      "2679349080336\n",
      "2679349080336\n"
     ]
    }
   ],
   "source": [
    "class P1:\n",
    "    def __init__(self):\n",
    "        print(id(self))\n",
    "class C1(P1):\n",
    "    pass\n",
    "c1 = C1()\n",
    "print(id(c1))"
   ]
  },
  {
   "cell_type": "code",
   "execution_count": 3,
   "id": "0962d71b",
   "metadata": {},
   "outputs": [
    {
     "name": "stdout",
     "output_type": "stream",
     "text": [
      "Name=Anand\n",
      " Age = 24\n",
      " Rollno=101\n",
      " Marks=94\n"
     ]
    }
   ],
   "source": [
    "class Person1:\n",
    "    def __init__(self,name,age):\n",
    "        self.name = name\n",
    "        self.age = age\n",
    "class Student1(Person1):\n",
    "    def __init__(self,name,age,rollno,marks):\n",
    "        super().__init__(name,age)\n",
    "        self.rollno = rollno\n",
    "        self.marks = marks\n",
    "    def __str__(self):\n",
    "        return 'Name={}\\n Age = {}\\n Rollno={}\\n Marks={}'.format(self.name,self.age,self.rollno,self.marks)\n",
    "\n",
    "s2 = Student1('Anand',24,101,94)\n",
    "print(s2)\n",
    "    "
   ]
  },
  {
   "cell_type": "code",
   "execution_count": 4,
   "id": "c319c0b9",
   "metadata": {},
   "outputs": [
    {
     "name": "stdout",
     "output_type": "stream",
     "text": [
      "Sub Child Method\n",
      "Child Method\n",
      "Parend Method\n"
     ]
    }
   ],
   "source": [
    "# Multi level inheritance\n",
    "class P2:\n",
    "    def m1(self):\n",
    "        print(\"Parend Method\")\n",
    "class C2(P2):\n",
    "    def m2(self):\n",
    "        print(\"Child Method\")\n",
    "class C3(C2):\n",
    "    def m3(self):\n",
    "        print(\"Sub Child Method\")\n",
    "\n",
    "c3 = C3()\n",
    "c3.m3()\n",
    "c3.m2()\n",
    "c3.m1()\n"
   ]
  },
  {
   "cell_type": "code",
   "execution_count": 7,
   "id": "45332ba6",
   "metadata": {},
   "outputs": [
    {
     "name": "stdout",
     "output_type": "stream",
     "text": [
      "Child1 Method\n",
      "Parent Method\n",
      "Child2 Method\n",
      "Parent Method\n"
     ]
    }
   ],
   "source": [
    "# Hierarchical Inheritance\n",
    "class P3:\n",
    "    def m3(self):\n",
    "        print(\"Parent Method\")\n",
    "class C4(P3):\n",
    "    def m4(self):\n",
    "        print(\"Child1 Method\")\n",
    "class C5(P3):\n",
    "    def m5(self):\n",
    "        print(\"Child2 Method\")\n",
    "\n",
    "c4 = C4()\n",
    "c4.m4()\n",
    "c4.m3()\n",
    "c5 = C5()\n",
    "c5.m5()\n",
    "c5.m3()"
   ]
  },
  {
   "cell_type": "code",
   "execution_count": 9,
   "id": "4e9be0a2",
   "metadata": {},
   "outputs": [
    {
     "name": "stdout",
     "output_type": "stream",
     "text": [
      "Parent5 Method\n"
     ]
    }
   ],
   "source": [
    "#Pefrom multiple inheritance\n",
    "class P4:\n",
    "    def m4(self):\n",
    "        print(\"Parent4 Method\")\n",
    "class P5:\n",
    "    def m4(self):\n",
    "        print(\"Parent5 Method\")\n",
    "class C6(P5,P4):\n",
    "    def m6(self):\n",
    "        print(\"Child2 Method\")\n",
    "\n",
    "c6 = C6()\n",
    "c6.m4()"
   ]
  },
  {
   "cell_type": "code",
   "execution_count": null,
   "id": "6c65b2de",
   "metadata": {},
   "outputs": [],
   "source": []
  }
 ],
 "metadata": {
  "kernelspec": {
   "display_name": "Python 3 (ipykernel)",
   "language": "python",
   "name": "python3"
  },
  "language_info": {
   "codemirror_mode": {
    "name": "ipython",
    "version": 3
   },
   "file_extension": ".py",
   "mimetype": "text/x-python",
   "name": "python",
   "nbconvert_exporter": "python",
   "pygments_lexer": "ipython3",
   "version": "3.12.7"
  }
 },
 "nbformat": 4,
 "nbformat_minor": 5
}
