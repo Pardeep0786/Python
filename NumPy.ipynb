{
 "cells": [
  {
   "cell_type": "code",
   "execution_count": 2,
   "id": "5de15a79-b007-44ca-aef5-44db8eb923f5",
   "metadata": {},
   "outputs": [
    {
     "name": "stdout",
     "output_type": "stream",
     "text": [
      "[1 2 3 4]\n"
     ]
    }
   ],
   "source": [
    "import numpy as np \n",
    "arr = np.array([1,2,3,4])\n",
    "print(arr)"
   ]
  },
  {
   "cell_type": "code",
   "execution_count": 3,
   "id": "6f2ba64b-066b-413d-aaf1-08fa60e50101",
   "metadata": {},
   "outputs": [
    {
     "name": "stdout",
     "output_type": "stream",
     "text": [
      "1.26.4\n"
     ]
    }
   ],
   "source": [
    "#To check the version of numpy\n",
    "print(np.__version__)"
   ]
  },
  {
   "cell_type": "code",
   "execution_count": 5,
   "id": "8c7cce4b-25c2-4e4d-bd9c-036f42383dc9",
   "metadata": {},
   "outputs": [
    {
     "name": "stdout",
     "output_type": "stream",
     "text": [
      "42\n"
     ]
    }
   ],
   "source": [
    "#0-D array\n",
    "arr1 = np.array(42)\n",
    "print(arr1)"
   ]
  },
  {
   "cell_type": "code",
   "execution_count": 7,
   "id": "94cd8bbc-113c-47e8-b8c4-c3825eb0c3de",
   "metadata": {},
   "outputs": [
    {
     "name": "stdout",
     "output_type": "stream",
     "text": [
      "[1 2 3 4]\n"
     ]
    }
   ],
   "source": [
    "#1-D array\n",
    "arr2 = np.array((1, 2, 3, 4))\n",
    "print(arr2)"
   ]
  },
  {
   "cell_type": "code",
   "execution_count": 9,
   "id": "27c917c0-ce6e-4040-abe6-d7000d5f83e0",
   "metadata": {},
   "outputs": [
    {
     "name": "stdout",
     "output_type": "stream",
     "text": [
      "[[1 2 3]\n",
      " [4 5 6]]\n"
     ]
    }
   ],
   "source": [
    "#2-D array\n",
    "arr3 = np.array([[1, 2, 3], [4, 5, 6]])\n",
    "print(arr3)"
   ]
  },
  {
   "cell_type": "code",
   "execution_count": 11,
   "id": "f07f6660-e2b8-4492-95d0-452d2997f10b",
   "metadata": {},
   "outputs": [
    {
     "name": "stdout",
     "output_type": "stream",
     "text": [
      "[[[1 2 3]\n",
      "  [4 5 6]]\n",
      "\n",
      " [[1 2 3]\n",
      "  [4 5 6]]]\n"
     ]
    }
   ],
   "source": [
    "#3-D array\n",
    "arr4 = np.array([[[1, 2, 3], [4, 5, 6]], [[1, 2, 3], [4, 5, 6]]])\n",
    "print(arr4)"
   ]
  },
  {
   "cell_type": "code",
   "execution_count": 13,
   "id": "31572fd1-3431-47d8-aad6-c51e5805648a",
   "metadata": {},
   "outputs": [
    {
     "name": "stdout",
     "output_type": "stream",
     "text": [
      "[[[[[1 2 3 4]]]]]\n",
      "5\n"
     ]
    }
   ],
   "source": [
    "#Create ndmin array\n",
    "arr = np.array([1,2,3,4], ndmin = 5)\n",
    "print(arr)\n",
    "print(arr.ndim)"
   ]
  },
  {
   "cell_type": "code",
   "execution_count": 15,
   "id": "5986d2d0-e883-4c88-a7d9-33338aa33fb1",
   "metadata": {},
   "outputs": [
    {
     "name": "stdout",
     "output_type": "stream",
     "text": [
      "0th index of arr = 1\n",
      "1st index of arr = 2\n",
      "Sum of 2nd arr and 4th arr =  8\n"
     ]
    }
   ],
   "source": [
    "#Access the element of the array through numpy indexing \n",
    "arr = np.array([1, 2, 3, 4, 5, 6, 7])\n",
    "print('0th index of arr =',arr[0])\n",
    "print('1st index of arr =',arr[1])\n",
    "print('Sum of 2nd arr and 4th arr = ',arr[2] + arr[4])"
   ]
  },
  {
   "cell_type": "code",
   "execution_count": 17,
   "id": "0061a63e-8704-4724-a77a-b7dd61413df2",
   "metadata": {},
   "outputs": [
    {
     "name": "stdout",
     "output_type": "stream",
     "text": [
      "Element of first row and second column =  4\n"
     ]
    }
   ],
   "source": [
    "#Access the element of 2-D array\n",
    "arr = np.array([[1, 4, 5], [6, 8, 2]])\n",
    "print('Element of first row and second column = ',arr[0,1])"
   ]
  },
  {
   "cell_type": "code",
   "execution_count": 19,
   "id": "ae55f802-3673-49c2-9269-2c216f0981c8",
   "metadata": {},
   "outputs": [
    {
     "name": "stdout",
     "output_type": "stream",
     "text": [
      "8\n"
     ]
    }
   ],
   "source": [
    "#Access the element of 3-D array\n",
    "arr = np.array([[[1,2,3], [4,5,6]], [[7,8,9], [10,11,12]]])\n",
    "print(arr[1,0,1])"
   ]
  },
  {
   "cell_type": "code",
   "execution_count": 26,
   "id": "ee6d63e5-a9a9-4321-8a27-6fa9bedc4cd5",
   "metadata": {},
   "outputs": [
    {
     "name": "stdout",
     "output_type": "stream",
     "text": [
      "[5 2 8]\n",
      "[1 5 2]\n",
      "[2 8 6 3 7]\n",
      "[6 3]\n",
      "[5 2 8 6]\n",
      "[1 2 6]\n"
     ]
    }
   ],
   "source": [
    "#Slicing in one dimensional array\n",
    "arr = np.array([1, 5, 2, 8, 6, 3, 7])\n",
    "print(arr[1:4])\n",
    "print(arr[:3])\n",
    "print(arr[2:])\n",
    "print(arr[-3:-1])\n",
    "print(arr[1:5:1])\n",
    "print(arr[0:6:2])"
   ]
  },
  {
   "cell_type": "code",
   "execution_count": 38,
   "id": "910ec450-5796-4e18-84e4-b4d1f0cdf782",
   "metadata": {},
   "outputs": [
    {
     "name": "stdout",
     "output_type": "stream",
     "text": [
      "[2 7]\n",
      "[7 8 9]\n",
      "[3 8]\n",
      "********\n",
      "[[2 3 4]\n",
      " [7 8 9]]\n",
      "\n"
     ]
    }
   ],
   "source": [
    "#Slicing in 2-D array\n",
    "arr = np.array([[1, 2, 3, 4, 5], [6, 7, 8, 9, 10]])\n",
    "print(arr[0:2, 1])\n",
    "print(arr[1, 1:4])\n",
    "print(arr[0:2, 2])\n",
    "print(\"********\")\n",
    "print(arr[0:2, 1:4])\n",
    "print()"
   ]
  },
  {
   "cell_type": "code",
   "execution_count": 40,
   "id": "cd493f98-a2c9-4ee5-a49c-1a8ecaa0d32d",
   "metadata": {},
   "outputs": [
    {
     "name": "stdout",
     "output_type": "stream",
     "text": [
      "int32\n"
     ]
    }
   ],
   "source": [
    "#Check the datatype of given array\n",
    "arr = np.array([1, 5, 3, 8])\n",
    "print(arr.dtype)"
   ]
  },
  {
   "cell_type": "code",
   "execution_count": 44,
   "id": "127b209e-1eef-4f97-8856-064ec493dd68",
   "metadata": {},
   "outputs": [
    {
     "name": "stdout",
     "output_type": "stream",
     "text": [
      "<U9\n"
     ]
    }
   ],
   "source": [
    "#To check the datatype of string's\n",
    "arr = np.array([\"Apple\", \"Banana\", \"Pineapple\"])\n",
    "print(arr.dtype)"
   ]
  },
  {
   "cell_type": "code",
   "execution_count": 46,
   "id": "617d07a5-d2b2-4334-9c96-5437347b0cc9",
   "metadata": {},
   "outputs": [
    {
     "name": "stdout",
     "output_type": "stream",
     "text": [
      "float64\n"
     ]
    }
   ],
   "source": [
    "#To check the datatype of decimal point value's\n",
    "arr = np.array([1.2, 5.2, 7.1])\n",
    "print(arr.dtype)"
   ]
  },
  {
   "cell_type": "code",
   "execution_count": 48,
   "id": "7ba45e92-6ebe-4247-8943-902cb37a84c4",
   "metadata": {},
   "outputs": [
    {
     "name": "stdout",
     "output_type": "stream",
     "text": [
      "[b'1' b'5' b'3' b'8']\n",
      "|S1\n"
     ]
    }
   ],
   "source": [
    "#Convert the datatype from intiger to string\n",
    "arr = np.array([1, 5, 3, 8], dtype = 'S')\n",
    "print(arr)\n",
    "print(arr.dtype)"
   ]
  },
  {
   "cell_type": "code",
   "execution_count": 56,
   "id": "6a9657d3-bfd8-4961-9c1c-99ea16b20b86",
   "metadata": {},
   "outputs": [
    {
     "name": "stdout",
     "output_type": "stream",
     "text": [
      "[1 5 3 8]\n",
      "int32\n"
     ]
    }
   ],
   "source": [
    "#Convert the datatype from float to intiger\n",
    "arr = np.array([1.5, 5.6, 3.2, 8.8], dtype = 'i4')\n",
    "print(arr)\n",
    "print(arr.dtype)"
   ]
  },
  {
   "cell_type": "code",
   "execution_count": 60,
   "id": "b635bca2-0554-48a8-b59a-fff119c7590c",
   "metadata": {},
   "outputs": [
    {
     "name": "stdout",
     "output_type": "stream",
     "text": [
      "[1.5 5.6 3.2 8.8]\n",
      "[1 5 3 8]\n"
     ]
    }
   ],
   "source": [
    "#Change the datatype through astype() method from float to intiger\n",
    "arr = np.array([1.5, 5.6, 3.2, 8.8])\n",
    "newarr = arr.astype('i')\n",
    "print(arr)\n",
    "print(newarr)"
   ]
  },
  {
   "cell_type": "code",
   "execution_count": 68,
   "id": "97ee20d7-2999-458f-8533-7cb54ec5b416",
   "metadata": {},
   "outputs": [
    {
     "name": "stdout",
     "output_type": "stream",
     "text": [
      "[1 0 2]\n",
      "[1 0 2]\n"
     ]
    }
   ],
   "source": [
    "#Change the datatype through astype() method from intiger to boolean\n",
    "arr = np.array([1, 0, 2])\n",
    "newarr = arr.astype('b')\n",
    "print(arr)\n",
    "print(newarr)"
   ]
  },
  {
   "cell_type": "code",
   "execution_count": 5,
   "id": "99cdc48e-d63d-4ec7-b581-65cac8ac1829",
   "metadata": {},
   "outputs": [
    {
     "name": "stdout",
     "output_type": "stream",
     "text": [
      "[1 2 5 7 9]\n",
      "[42  2  5  7  9]\n"
     ]
    }
   ],
   "source": [
    "#Create the copy of array, and change the original array\n",
    "arr = np.array([1, 2, 5, 7, 9])\n",
    "x = arr.copy()\n",
    "arr[0] = 42\n",
    "print(x)\n",
    "print(arr)"
   ]
  },
  {
   "cell_type": "code",
   "execution_count": 11,
   "id": "db35cfda-e281-4aa1-8e12-cfd1341c62b4",
   "metadata": {},
   "outputs": [
    {
     "name": "stdout",
     "output_type": "stream",
     "text": [
      "[42  2  5  7  9]\n",
      "[42  2  5  7  9]\n"
     ]
    }
   ],
   "source": [
    "#Create the view of the orginal array and make change's into original array\n",
    "arr = np.array([1, 2, 5, 7, 9])\n",
    "x = arr.view()\n",
    "arr[0] = 42\n",
    "print(arr)\n",
    "print(x)"
   ]
  },
  {
   "cell_type": "code",
   "execution_count": 9,
   "id": "c950954f-46ee-4c00-874b-325eb9b3b9b3",
   "metadata": {},
   "outputs": [
    {
     "name": "stdout",
     "output_type": "stream",
     "text": [
      "[42  2  5  7  9]\n",
      "[42  2  5  7  9]\n"
     ]
    }
   ],
   "source": [
    "#Create the view of the original array and make change in original array\n",
    "arr = np.array([1, 2, 5, 7, 9])\n",
    "x = arr.view()\n",
    "x[0] = 42\n",
    "print(x)\n",
    "print(arr)"
   ]
  },
  {
   "cell_type": "code",
   "execution_count": 13,
   "id": "ac01bd06-5e53-4b76-88c6-085a73ec32b3",
   "metadata": {},
   "outputs": [
    {
     "name": "stdout",
     "output_type": "stream",
     "text": [
      "[1 5 8 3 9]\n",
      "None\n"
     ]
    }
   ],
   "source": [
    "#Print the value of the base attribute to check if an array owns it's data or not\n",
    "arr = np.array([1, 5, 8, 3, 9])\n",
    "x = arr.view()\n",
    "y = arr.copy()\n",
    "print(x.base)\n",
    "print(y.base)"
   ]
  },
  {
   "cell_type": "code",
   "execution_count": 17,
   "id": "0b5d577c-82b9-4e3f-b6ef-47b2cb6c70c7",
   "metadata": {},
   "outputs": [
    {
     "name": "stdout",
     "output_type": "stream",
     "text": [
      "(5,)\n"
     ]
    }
   ],
   "source": [
    "#To check the shape of the array\n",
    "arr = np.array([1, 6, 5, 2, 7])\n",
    "print(arr.shape)"
   ]
  },
  {
   "cell_type": "code",
   "execution_count": 19,
   "id": "8ff8c6c1-92dc-4b3c-994c-02af1a287d6f",
   "metadata": {},
   "outputs": [
    {
     "name": "stdout",
     "output_type": "stream",
     "text": [
      "(2, 4)\n"
     ]
    }
   ],
   "source": [
    "#To check the shape of the 2-D array\n",
    "arr = np.array([[1, 2, 5, 3], [4, 5, 8, 6]])\n",
    "print(arr.shape)"
   ]
  },
  {
   "cell_type": "code",
   "execution_count": 23,
   "id": "abb52055-4be7-44ac-ba5d-de0473bf3a9d",
   "metadata": {},
   "outputs": [
    {
     "name": "stdout",
     "output_type": "stream",
     "text": [
      "(1, 1, 1, 1, 4)\n"
     ]
    }
   ],
   "source": [
    "#Create the shape of the 5-D array through ndmin\n",
    "arr = np.array([1, 2, 3, 4], ndmin = 5)\n",
    "print(arr.shape)"
   ]
  },
  {
   "cell_type": "code",
   "execution_count": 27,
   "id": "8d4038cb-2e86-4d72-b4e1-1fd6f5a00145",
   "metadata": {},
   "outputs": [
    {
     "name": "stdout",
     "output_type": "stream",
     "text": [
      "[[ 1  2  3]\n",
      " [ 4  5  6]\n",
      " [ 7  8  9]\n",
      " [10 11 12]]\n"
     ]
    }
   ],
   "source": [
    "#Reshape the array from 1-D to 2-D\n",
    "arr = np.array([1, 2, 3, 4, 5, 6, 7, 8, 9, 10, 11, 12])\n",
    "newarr = arr.reshape(4,3)\n",
    "print(newarr)"
   ]
  },
  {
   "cell_type": "code",
   "execution_count": 33,
   "id": "ab6478fc-3447-411c-b5ca-79aa090efd52",
   "metadata": {},
   "outputs": [
    {
     "name": "stdout",
     "output_type": "stream",
     "text": [
      "[[[ 1  2]\n",
      "  [ 3  4]]\n",
      "\n",
      " [[ 5  6]\n",
      "  [ 7  8]]\n",
      "\n",
      " [[ 9 10]\n",
      "  [11 12]]]\n"
     ]
    }
   ],
   "source": [
    "#Reshape the array from 2-D to 3-D\n",
    "arr = np.array([1, 2, 3, 4, 5, 6, 7, 8, 9, 10, 11, 12])\n",
    "newarr = arr.reshape(3, 2, 2)      #first element is for matrics, 2nd for row's and 3rd for column's\n",
    "print(newarr)"
   ]
  },
  {
   "cell_type": "code",
   "execution_count": 35,
   "id": "37966427-c2cd-4557-9002-d1eb0bddc1db",
   "metadata": {},
   "outputs": [
    {
     "name": "stdout",
     "output_type": "stream",
     "text": [
      "[1 2 3 4 5 6 7 8]\n"
     ]
    }
   ],
   "source": [
    "#To check returned array is a copy or view\n",
    "arr = np.array([1, 2, 3, 4, 5, 6, 7, 8])\n",
    "print(arr.reshape(2,4).base)"
   ]
  },
  {
   "cell_type": "code",
   "execution_count": 37,
   "id": "c8e70307-f108-43cf-8798-7aa1420144ba",
   "metadata": {},
   "outputs": [
    {
     "name": "stdout",
     "output_type": "stream",
     "text": [
      "[[[1 2]\n",
      "  [3 4]]\n",
      "\n",
      " [[5 6]\n",
      "  [7 8]]]\n"
     ]
    }
   ],
   "source": [
    "#Convert 1D array with 8 elements to 3D array with 2x2 elements\n",
    "arr = np.array([1, 2, 3, 4, 5, 6, 7, 8])\n",
    "newarr = arr.reshape(2, 2, -1)\n",
    "print(newarr)"
   ]
  },
  {
   "cell_type": "code",
   "execution_count": 41,
   "id": "6e2529b2-8da6-4ebe-b482-31e15612eade",
   "metadata": {},
   "outputs": [
    {
     "name": "stdout",
     "output_type": "stream",
     "text": [
      "[1 2 3 4 5 6 7 8]\n"
     ]
    }
   ],
   "source": [
    "#Convert the array into 1-D array\n",
    "arr = np.array([[1, 2, 3, 4], [5, 6, 7, 8]])\n",
    "print(arr.reshape(-1))"
   ]
  },
  {
   "cell_type": "code",
   "execution_count": 43,
   "id": "4f4e32af-989c-4b64-9af7-062a573b6b57",
   "metadata": {},
   "outputs": [
    {
     "name": "stdout",
     "output_type": "stream",
     "text": [
      "1\n",
      "2\n",
      "3\n",
      "4\n",
      "5\n",
      "6\n",
      "7\n",
      "8\n"
     ]
    }
   ],
   "source": [
    "#Iterate the each element of 1-D array \n",
    "arr = np.array([1, 2, 3, 4, 5, 6, 7, 8])\n",
    "for x in arr:\n",
    "    print(x)"
   ]
  },
  {
   "cell_type": "code",
   "execution_count": 45,
   "id": "55145dcc-d41a-4240-8e70-8ea8b64fb34a",
   "metadata": {},
   "outputs": [
    {
     "name": "stdout",
     "output_type": "stream",
     "text": [
      "[1 2 3 4]\n",
      "[5 6 7 8]\n"
     ]
    }
   ],
   "source": [
    "#Iterate the each element of 2-D array \n",
    "arr = np.array([[1, 2, 3, 4], [5, 6, 7, 8]])\n",
    "for x in arr:\n",
    "    print(x)"
   ]
  },
  {
   "cell_type": "code",
   "execution_count": 47,
   "id": "47dd8a98-e36f-420f-af98-62a8dba61ae4",
   "metadata": {},
   "outputs": [
    {
     "name": "stdout",
     "output_type": "stream",
     "text": [
      "1\n",
      "2\n",
      "3\n",
      "4\n",
      "5\n",
      "6\n",
      "7\n",
      "8\n"
     ]
    }
   ],
   "source": [
    "#Iterate on each scalar element of the 2-D array \n",
    "arr = np.array([[1, 2, 3, 4], [5, 6, 7, 8]])\n",
    "for x in arr:\n",
    "    for y in x:\n",
    "        print(y)\n",
    "    "
   ]
  },
  {
   "cell_type": "code",
   "execution_count": 49,
   "id": "3e3305e9-8534-4c6d-8fb9-d2efa6cb16e1",
   "metadata": {},
   "outputs": [
    {
     "name": "stdout",
     "output_type": "stream",
     "text": [
      "[[1 2 3]\n",
      " [4 5 6]]\n",
      "[[ 7  8  9]\n",
      " [10 11 12]]\n"
     ]
    }
   ],
   "source": [
    "#Iterate the each element of 3-D array\n",
    "arr = np.array([[[1, 2, 3], [4, 5, 6]], [[7, 8, 9], [10, 11, 12]]])\n",
    "for x in arr:\n",
    "    print(x)"
   ]
  },
  {
   "cell_type": "code",
   "execution_count": 55,
   "id": "00cd12cc-f5d6-4fd0-897c-9f8f9e1bfc25",
   "metadata": {},
   "outputs": [
    {
     "name": "stdout",
     "output_type": "stream",
     "text": [
      "1\n",
      "2\n",
      "3\n",
      "4\n",
      "5\n",
      "6\n",
      "7\n",
      "8\n",
      "9\n",
      "10\n",
      "11\n",
      "12\n"
     ]
    }
   ],
   "source": [
    "#Iterate on each scalar element of the 3-D array\n",
    "arr = np.array([[[1, 2, 3], [4, 5, 6]], [[7, 8, 9], [10, 11, 12]]])\n",
    "for x in arr:\n",
    "    for y in x:\n",
    "        for z in y:\n",
    "            print(z)\n",
    "     "
   ]
  },
  {
   "cell_type": "code",
   "execution_count": 57,
   "id": "5efa3376-d819-4da9-938d-8341ecefb6be",
   "metadata": {},
   "outputs": [
    {
     "name": "stdout",
     "output_type": "stream",
     "text": [
      "1\n",
      "2\n",
      "3\n",
      "4\n",
      "5\n",
      "6\n",
      "7\n",
      "8\n"
     ]
    }
   ],
   "source": [
    "#Iterate on each scalar element of the 3-D array through nditer() method\n",
    "arr = np.array([[[1, 2], [3, 4]], [[5,6], [7, 8]]])\n",
    "for x in np.nditer(arr):\n",
    "    print(x)"
   ]
  },
  {
   "cell_type": "code",
   "execution_count": 67,
   "id": "417a4459-ddb4-44d0-b471-3c2be4cce4d9",
   "metadata": {},
   "outputs": [
    {
     "name": "stdout",
     "output_type": "stream",
     "text": [
      "b'1'\n",
      "b'2'\n",
      "b'3'\n",
      "b'4'\n"
     ]
    }
   ],
   "source": [
    "#Iterate through the array as a string\n",
    "arr = np.array([1, 2, 3, 4])\n",
    "for x in np.nditer(arr, flags = ['buffered'], op_dtypes = ['S']):\n",
    "    print(x)"
   ]
  },
  {
   "cell_type": "code",
   "execution_count": 69,
   "id": "cd3582b2-47e4-4b60-9ab7-d12335f67b8b",
   "metadata": {},
   "outputs": [
    {
     "name": "stdout",
     "output_type": "stream",
     "text": [
      "[1 3]\n",
      "[5 7]\n"
     ]
    }
   ],
   "source": [
    "#Iterate through every scalar element of the 2D array skipping 1 element\n",
    "arr = np.array([[1, 2, 3, 4], [5, 6, 7, 8]])\n",
    "for x in arr[:, ::2]:\n",
    "    print(x)\n",
    "    "
   ]
  },
  {
   "cell_type": "code",
   "execution_count": 75,
   "id": "c1623efd-3760-44b2-947c-3f4bf39d7534",
   "metadata": {},
   "outputs": [
    {
     "name": "stdout",
     "output_type": "stream",
     "text": [
      "(0, 0) 1\n",
      "(0, 1) 2\n",
      "(0, 2) 3\n",
      "(0, 3) 4\n",
      "(1, 0) 5\n",
      "(1, 1) 6\n",
      "(1, 2) 7\n",
      "(1, 3) 8\n"
     ]
    }
   ],
   "source": [
    "#Print every scalar element of the 2D array and it's index also\n",
    "arr = np.array([[1, 2, 3, 4], [5, 6, 7, 8]])\n",
    "for indx,x in np.ndenumerate(arr):\n",
    "    print(indx,x)"
   ]
  },
  {
   "cell_type": "code",
   "execution_count": 79,
   "id": "f9977977-e6cb-4ad2-90a5-badd91843f1c",
   "metadata": {},
   "outputs": [
    {
     "name": "stdout",
     "output_type": "stream",
     "text": [
      "[1 2 3 4 5 6 7 8]\n"
     ]
    }
   ],
   "source": [
    "#Join two array\n",
    "arr1 = np.array([1, 2, 3, 4])\n",
    "arr2 = np.array([5, 6, 7, 8])\n",
    "x = np.concatenate((arr1, arr2))\n",
    "print(x)"
   ]
  },
  {
   "cell_type": "code",
   "execution_count": 11,
   "id": "acf67bde-88e1-4b0a-9ad6-4f0d8aa567b2",
   "metadata": {},
   "outputs": [
    {
     "name": "stdout",
     "output_type": "stream",
     "text": [
      "[[ 1  2  3  7  8  9]\n",
      " [ 4  5  6 10 11 12]]\n"
     ]
    }
   ],
   "source": [
    "#Join 2-D array\n",
    "arr1 = np.array([[1, 2, 3], [4, 5, 6]])\n",
    "arr2 = np.array([[7, 8, 9], [10, 11, 12]])\n",
    "y = np.concatenate((arr1, arr2), axis = 1)\n",
    "print(y)"
   ]
  },
  {
   "cell_type": "code",
   "execution_count": 27,
   "id": "e3f73a21-77dc-46f1-9ca1-0bfeaaa91711",
   "metadata": {},
   "outputs": [
    {
     "name": "stdout",
     "output_type": "stream",
     "text": [
      "[[1 2 3 4]\n",
      " [5 6 7 8]]\n"
     ]
    }
   ],
   "source": [
    "#join the two array with the help of stack()\n",
    "arr1 = np.array([1, 2, 3, 4])\n",
    "arr2 = np.array([5, 6, 7, 8])\n",
    "x = np.stack((arr1, arr2))\n",
    "print(x)"
   ]
  },
  {
   "cell_type": "code",
   "execution_count": 21,
   "id": "9267132e-d8f3-484e-abff-43666996558c",
   "metadata": {},
   "outputs": [
    {
     "name": "stdout",
     "output_type": "stream",
     "text": [
      "[1 2 3 4 5 6 7 8]\n"
     ]
    }
   ],
   "source": [
    "#hstack() for join the array allong with row's\n",
    "arr1 = np.array([1, 2, 3, 4])\n",
    "arr2 = np.array([5, 6, 7, 8])\n",
    "x = np.hstack((arr1, arr2))\n",
    "print(x)"
   ]
  },
  {
   "cell_type": "code",
   "execution_count": 23,
   "id": "41e6fc5c-32de-4401-910f-8c2155139664",
   "metadata": {},
   "outputs": [
    {
     "name": "stdout",
     "output_type": "stream",
     "text": [
      "[[1 2 3 4]\n",
      " [5 6 7 8]]\n"
     ]
    }
   ],
   "source": [
    "#vstack() for join the array along with column's\n",
    "arr1 = np.array([1, 2, 3, 4])\n",
    "arr2 = np.array([5, 6, 7, 8])\n",
    "x = np.vstack((arr1, arr2))\n",
    "print(x)"
   ]
  },
  {
   "cell_type": "code",
   "execution_count": 25,
   "id": "0b655355-d12f-424a-89df-63dbe44dec9f",
   "metadata": {},
   "outputs": [
    {
     "name": "stdout",
     "output_type": "stream",
     "text": [
      "[[[1 5]\n",
      "  [2 6]\n",
      "  [3 7]\n",
      "  [4 8]]]\n"
     ]
    }
   ],
   "source": [
    "#dstack() for join the array along with height \n",
    "arr1 = np.array([1, 2, 3, 4])\n",
    "arr2 = np.array([5, 6, 7, 8])\n",
    "x = np.dstack((arr1, arr2))\n",
    "print(x)"
   ]
  },
  {
   "cell_type": "code",
   "execution_count": 29,
   "id": "5749057f-0bb8-483c-a340-bab413917086",
   "metadata": {},
   "outputs": [
    {
     "name": "stdout",
     "output_type": "stream",
     "text": [
      "[array([1, 2]), array([3, 4]), array([5])]\n"
     ]
    }
   ],
   "source": [
    "#split the array\n",
    "arr = np.array([1, 2, 3, 4, 5])\n",
    "x = np.array_split(arr, 3)\n",
    "print(x)"
   ]
  },
  {
   "cell_type": "code",
   "execution_count": 33,
   "id": "08380976-b785-44f8-bdb2-21c27c528c02",
   "metadata": {},
   "outputs": [
    {
     "name": "stdout",
     "output_type": "stream",
     "text": [
      "[array([1, 2]), array([3, 4]), array([5]), array([6])]\n"
     ]
    }
   ],
   "source": [
    "#split the array into 4-parts\n",
    "arr = np.array([1, 2, 3, 4, 5, 6])\n",
    "y = np.array_split(arr, 4)\n",
    "print(y)"
   ]
  },
  {
   "cell_type": "code",
   "execution_count": 35,
   "id": "bc0dcc1d-4591-41e8-a737-6cc6a920bbd1",
   "metadata": {},
   "outputs": [
    {
     "name": "stdout",
     "output_type": "stream",
     "text": [
      "[1 2]\n",
      "[3 4]\n",
      "[5]\n"
     ]
    }
   ],
   "source": [
    "#Access the element of spliting array\n",
    "arr = np.array([1, 2, 3, 4, 5, 6])\n",
    "newarr = np.array_split(arr, 4)\n",
    "print(newarr[0])\n",
    "print(newarr[1])\n",
    "print(newarr[2])"
   ]
  },
  {
   "cell_type": "code",
   "execution_count": 39,
   "id": "a8b01825-f627-408f-9d91-8f410db371fa",
   "metadata": {
    "scrolled": true
   },
   "outputs": [
    {
     "name": "stdout",
     "output_type": "stream",
     "text": [
      "[array([[ 1,  2,  9],\n",
      "       [ 3,  4, 10]]), array([[ 5,  6, 11]]), array([[ 7,  8, 12]])]\n"
     ]
    }
   ],
   "source": [
    "#split 2-D arra\n",
    "arr = np.array([[1, 2, 9], [3, 4, 10], [5, 6, 11], [7, 8, 12]])\n",
    "newarr = np.array_split(arr, 3)\n",
    "print(newarr)"
   ]
  },
  {
   "cell_type": "code",
   "execution_count": 41,
   "id": "e065360f-8c50-41ec-a707-be4bf2f7650a",
   "metadata": {},
   "outputs": [
    {
     "name": "stdout",
     "output_type": "stream",
     "text": [
      "[array([[1],\n",
      "       [3],\n",
      "       [5],\n",
      "       [7]]), array([[2],\n",
      "       [4],\n",
      "       [6],\n",
      "       [8]]), array([[ 9],\n",
      "       [10],\n",
      "       [11],\n",
      "       [12]])]\n"
     ]
    }
   ],
   "source": [
    "#hsplit() \n",
    "arr = np.array([[1, 2, 9], [3, 4, 10], [5, 6, 11], [7, 8, 12]])\n",
    "newarr = np.hsplit(arr, 3)\n",
    "print(newarr)"
   ]
  },
  {
   "cell_type": "code",
   "execution_count": 57,
   "id": "da9026ca-14cb-4b4d-8953-f06522758a1a",
   "metadata": {},
   "outputs": [
    {
     "name": "stdout",
     "output_type": "stream",
     "text": [
      "(array([3, 5, 6], dtype=int64),)\n"
     ]
    }
   ],
   "source": [
    "#searching in the array\n",
    "arr = np.array([1, 2, 3, 4, 5, 4, 4])\n",
    "x = np.where(arr == 4)\n",
    "print(x)"
   ]
  },
  {
   "cell_type": "code",
   "execution_count": 61,
   "id": "e6359233-6f19-4b11-b37c-462295cd2156",
   "metadata": {},
   "outputs": [
    {
     "name": "stdout",
     "output_type": "stream",
     "text": [
      "(array([1, 3, 5, 6], dtype=int64),)\n"
     ]
    }
   ],
   "source": [
    "#Access the index of even element from the array\n",
    "arr = np.array([1, 2, 3, 4, 5, 4, 4])\n",
    "x = np.where(arr%2 == 0)\n",
    "print(x)"
   ]
  },
  {
   "cell_type": "code",
   "execution_count": 63,
   "id": "9700354c-7210-43ae-88d5-c3fe0e98b413",
   "metadata": {},
   "outputs": [
    {
     "name": "stdout",
     "output_type": "stream",
     "text": [
      "(array([0, 2, 4], dtype=int64),)\n"
     ]
    }
   ],
   "source": [
    "#Access the index of odd element from the array\n",
    "arr = np.array([1, 2, 3, 4, 5, 4, 4])\n",
    "x = np.where(arr%2 != 0)\n",
    "print(x)"
   ]
  },
  {
   "cell_type": "code",
   "execution_count": 67,
   "id": "3b23160e-7caf-45cf-9fd5-cd9d651c606a",
   "metadata": {},
   "outputs": [
    {
     "name": "stdout",
     "output_type": "stream",
     "text": [
      "1\n"
     ]
    }
   ],
   "source": [
    "#Find the index where the value 7 can inserted from left side\n",
    "arr = np.array([6, 7, 8, 9])\n",
    "x = np.searchsorted(arr, 7)\n",
    "print(x)"
   ]
  },
  {
   "cell_type": "code",
   "execution_count": 69,
   "id": "a59e4250-e1f3-4a8f-889d-656e4f281b94",
   "metadata": {},
   "outputs": [
    {
     "name": "stdout",
     "output_type": "stream",
     "text": [
      "2\n"
     ]
    }
   ],
   "source": [
    "#Find the index where the value 7 can inserted from right side \n",
    "arr = np.array([6, 7, 8, 9])\n",
    "x = np.searchsorted(arr, 7, side = 'right')\n",
    "print(x)"
   ]
  },
  {
   "cell_type": "code",
   "execution_count": 75,
   "id": "f439e938-5cef-4f54-8430-b621a94d0e63",
   "metadata": {},
   "outputs": [
    {
     "name": "stdout",
     "output_type": "stream",
     "text": [
      "[0 1 3 4]\n"
     ]
    }
   ],
   "source": [
    "#sort the array\n",
    "arr = np.array([0, 3, 4, 1])\n",
    "sortedarr = np.sort(arr)\n",
    "print(sortedarr)"
   ]
  },
  {
   "cell_type": "code",
   "execution_count": 79,
   "id": "959c4ce1-21b3-41d7-93dc-c9baa063db5e",
   "metadata": {},
   "outputs": [
    {
     "name": "stdout",
     "output_type": "stream",
     "text": [
      "['Apple' 'Banana' 'Cherry']\n"
     ]
    }
   ],
   "source": [
    "#sort the string type array\n",
    "arr = np.array(['Cherry', 'Banana', 'Apple'])\n",
    "print(np.sort(arr))"
   ]
  },
  {
   "cell_type": "code",
   "execution_count": 81,
   "id": "b67e1e03-8868-43f2-89b9-a88b7450ec51",
   "metadata": {},
   "outputs": [
    {
     "name": "stdout",
     "output_type": "stream",
     "text": [
      "[False  True  True]\n"
     ]
    }
   ],
   "source": [
    "#sort a boolean array\n",
    "arr = np.array([True, False, True])\n",
    "print(np.sort(arr))"
   ]
  },
  {
   "cell_type": "code",
   "execution_count": 83,
   "id": "10f981dc-c795-40a7-a65a-b24a68a09d34",
   "metadata": {},
   "outputs": [
    {
     "name": "stdout",
     "output_type": "stream",
     "text": [
      "[[1 2 3]\n",
      " [4 5 6]]\n"
     ]
    }
   ],
   "source": [
    "#sorting 2-D array\n",
    "arr = np.array([[5, 2, 3], [1, 5, 4]])\n",
    "print(np.sort(arr))"
   ]
  },
  {
   "cell_type": "code",
   "execution_count": 85,
   "id": "e6e445cf-5df0-49cf-906d-360cdd247257",
   "metadata": {},
   "outputs": [
    {
     "name": "stdout",
     "output_type": "stream",
     "text": [
      "[42 45 22]\n"
     ]
    }
   ],
   "source": [
    "#filtering the array \n",
    "arr = np.array([42, 45, 52, 22])\n",
    "x = [True, True, False, True]\n",
    "newarr = arr[x]\n",
    "print(newarr)"
   ]
  },
  {
   "cell_type": "code",
   "execution_count": 89,
   "id": "271ff5b8-a4fc-4eb7-a30f-426a2bd3b3eb",
   "metadata": {},
   "outputs": [
    {
     "name": "stdout",
     "output_type": "stream",
     "text": [
      "[42 45 52 22]\n",
      "[45 52]\n"
     ]
    }
   ],
   "source": [
    "#Create a filter array that will return only values higher than 42\n",
    "arr = np.array([42, 45, 52, 22])\n",
    "filter_arr = []\n",
    "for element in arr:\n",
    "    if element > 42:\n",
    "        filter_arr.append(True)\n",
    "    else:\n",
    "        filter_arr.append(False)\n",
    "\n",
    "newarr = arr[filter_arr]\n",
    "print(arr)\n",
    "print(newarr)"
   ]
  },
  {
   "cell_type": "code",
   "execution_count": 91,
   "id": "b5616169-ca7c-423e-9553-6625ba976b86",
   "metadata": {},
   "outputs": [
    {
     "name": "stdout",
     "output_type": "stream",
     "text": [
      "[42 45 52 22]\n",
      "[42 52 22]\n"
     ]
    }
   ],
   "source": [
    "#Create a filter array that will return only even elements from the original array\n",
    "arr = np.array([42, 45, 52, 22])\n",
    "filter_arr = []\n",
    "for element in arr:\n",
    "    if element % 2 == 0:\n",
    "        filter_arr.append(True)\n",
    "    else:\n",
    "        filter_arr.append(False)\n",
    "\n",
    "newarr = arr[filter_arr]\n",
    "print(arr)\n",
    "print(newarr)"
   ]
  },
  {
   "cell_type": "code",
   "execution_count": 93,
   "id": "866f366e-739e-42aa-97ba-65275a1a180a",
   "metadata": {},
   "outputs": [
    {
     "name": "stdout",
     "output_type": "stream",
     "text": [
      "[42 55]\n"
     ]
    }
   ],
   "source": [
    "#Create direct array that will return only values higher than 40\n",
    "arr = np.array([42, 55, 40, 22])\n",
    "filter_arr = arr > 40\n",
    "print(arr[filter_arr])"
   ]
  },
  {
   "cell_type": "code",
   "execution_count": 95,
   "id": "d0de5b47-21c7-4fae-8ffd-0f04f9b71c50",
   "metadata": {},
   "outputs": [
    {
     "name": "stdout",
     "output_type": "stream",
     "text": [
      "[42 40 22]\n"
     ]
    }
   ],
   "source": [
    "#Create direct array that will return only even numbers\n",
    "arr = np.array([42, 55, 40, 22])\n",
    "filter_arr = arr % 2 == 0\n",
    "print(arr[filter_arr])"
   ]
  },
  {
   "cell_type": "code",
   "execution_count": 12,
   "id": "9d238b88-3050-4b5a-a1a8-e2230294a986",
   "metadata": {},
   "outputs": [
    {
     "name": "stdout",
     "output_type": "stream",
     "text": [
      "48\n"
     ]
    }
   ],
   "source": [
    "#Introduction to random number's\n",
    "from numpy import random\n",
    "#Generate random number between 1 to 100\n",
    "x = random.randint(100)\n",
    "print(x)"
   ]
  },
  {
   "cell_type": "code",
   "execution_count": 28,
   "id": "2bbdcaca-2eee-4238-86f6-d3eacab2d323",
   "metadata": {},
   "outputs": [
    {
     "name": "stdout",
     "output_type": "stream",
     "text": [
      "[0.59377077 0.57093128 0.79600303 0.4982355  0.77443399 0.04490556\n",
      " 0.72011871 0.5264532  0.05987756 0.93447138]\n"
     ]
    }
   ],
   "source": [
    "#To generate the float number the rand keyword is used \n",
    "x = random.rand(10)\n",
    "print(x)"
   ]
  },
  {
   "cell_type": "code",
   "execution_count": 65,
   "id": "0281d355-7202-4274-a219-09bd1c1862d4",
   "metadata": {},
   "outputs": [
    {
     "name": "stdout",
     "output_type": "stream",
     "text": [
      "[60 27  4 62 26 51 62 91 87 84 30 47 57 70 95 22 99  0 82 92 38 84 48 17\n",
      " 72 26 80 21 29 90 52 79  7 43 28  8 29 48 39 41  8 11 88 49 91 21 67 56\n",
      " 97  1  5 99 42 59 35 40 39 24 19 16 57 89 98 66 30 35 19 83  4 53 72  2\n",
      "  1 94 79 63 58 49 64 75 25 98 52 21 99 35 73 64 41 94 85  8 72 77 21 23\n",
      " 21 30 99 65]\n"
     ]
    }
   ],
   "source": [
    "#Generate a list of number in which include numbers from 1 to 100\n",
    "x = random.randint(100, size = 100)\n",
    "print(x)"
   ]
  },
  {
   "cell_type": "code",
   "execution_count": 36,
   "id": "6a1ed95b-9436-4e64-947c-d3398f107d3b",
   "metadata": {},
   "outputs": [
    {
     "name": "stdout",
     "output_type": "stream",
     "text": [
      "[[85 77 12  1 38]\n",
      " [79 23 17 41 50]\n",
      " [ 4 68 74 69 12]]\n"
     ]
    }
   ],
   "source": [
    "#Generate a 2-D array with the help of random number, range from 1 to 100\n",
    "x = random.randint(100, size=(3, 5))\n",
    "print(x)"
   ]
  },
  {
   "cell_type": "code",
   "execution_count": 46,
   "id": "d4da5a1a-2518-4fc3-8499-1c2a6e4f7834",
   "metadata": {},
   "outputs": [
    {
     "name": "stdout",
     "output_type": "stream",
     "text": [
      "[[0.26141984 0.08467281 0.40468795 0.68712726 0.9076515 ]\n",
      " [0.76343989 0.61518245 0.61803344 0.07563309 0.5769826 ]\n",
      " [0.87165887 0.12680434 0.19312309 0.26629184 0.24821857]]\n"
     ]
    }
   ],
   "source": [
    "#To genearate the 2-D array with float numbers \n",
    "y = random.rand(3, 5)\n",
    "print(y)"
   ]
  },
  {
   "cell_type": "code",
   "execution_count": 48,
   "id": "12e68a68-c5e3-4575-9cf8-4d9b3ad97b88",
   "metadata": {},
   "outputs": [
    {
     "name": "stdout",
     "output_type": "stream",
     "text": [
      "5\n"
     ]
    }
   ],
   "source": [
    "#Access the random value from the given list using choice keyword \n",
    "z = random.choice([2, 5, 8, 3, 4])\n",
    "print(z)"
   ]
  },
  {
   "cell_type": "code",
   "execution_count": 53,
   "id": "cc5156a7-9e68-4e54-92cd-ff886d20a8df",
   "metadata": {},
   "outputs": [
    {
     "name": "stdout",
     "output_type": "stream",
     "text": [
      "[[4 4 4 4 5]\n",
      " [5 4 2 5 4]\n",
      " [4 4 5 5 3]]\n"
     ]
    }
   ],
   "source": [
    "#Generate 2-D array from the given list using choice keyword \n",
    "x = random.choice([4, 5, 2, 3, 4], size = (3, 5))\n",
    "print(x)"
   ]
  },
  {
   "cell_type": "code",
   "execution_count": 91,
   "id": "22aacf1b-5d65-47d8-ad58-faf44d34d8bd",
   "metadata": {},
   "outputs": [
    {
     "name": "stdout",
     "output_type": "stream",
     "text": [
      "[7 3 7 7 3 5 7 7 7 5 5 7 7 7 7 5 7 3 7 5 7 7 7 5 7 7 7 7 7 7 7 7 7 7 7 3 7\n",
      " 7 7 3 7 7 7 7 7 7 7 3 7 5 3 5 7 7 7 7 7 3 7 7 7 5 7 7 5 5 7 5 7 7 7 7 7 3\n",
      " 5 7 7 7 7 7 7 5 3 7 3 7 7 7 3 7 5 7 3 7 7 5 7 7 3 7]\n"
     ]
    }
   ],
   "source": [
    "#Data distribution through probability \n",
    "x = random.choice([3, 5, 7, 9], p=[0.1, 0.2, 0.7, 0.0], size=(100))\n",
    "print(x)\n",
    "#Note: The sum of all probability should be 1."
   ]
  },
  {
   "cell_type": "code",
   "execution_count": 98,
   "id": "6a150f93-b5fa-488a-a912-81f4dfa2a358",
   "metadata": {},
   "outputs": [
    {
     "name": "stdout",
     "output_type": "stream",
     "text": [
      "[[5 7 7 7 7]\n",
      " [7 5 3 7 7]\n",
      " [7 7 5 7 7]]\n"
     ]
    }
   ],
   "source": [
    "#return 2-D array from the same example\n",
    "x = random.choice([3, 5, 7, 9], p = [0.1, 0.2, 0.7, 0.0], size = (3, 5))\n",
    "print(x)"
   ]
  },
  {
   "cell_type": "code",
   "execution_count": 108,
   "id": "dfa5f0dc-6b9f-49af-85ec-5af69d1ac69d",
   "metadata": {},
   "outputs": [
    {
     "name": "stdout",
     "output_type": "stream",
     "text": [
      "None\n"
     ]
    }
   ],
   "source": [
    "#Randomly shuffle elements of following array\n",
    "arr = np.array([1, 2, 3, 4, 5])\n",
    "x = random.shuffle(arr)\n",
    "print(x)"
   ]
  },
  {
   "cell_type": "code",
   "execution_count": 112,
   "id": "50e4c6e9-fb5a-4d24-a7b9-cc05b3fa1062",
   "metadata": {},
   "outputs": [
    {
     "name": "stdout",
     "output_type": "stream",
     "text": [
      "[5 1 4 3 2]\n"
     ]
    }
   ],
   "source": [
    "#Generate a random permutation of elements of following array\n",
    "arr = np.array([2, 5, 1, 4, 3])\n",
    "x = random.permutation(arr)\n",
    "print(x)"
   ]
  },
  {
   "cell_type": "code",
   "execution_count": 6,
   "id": "92cd52ef-3f51-4a78-9784-03ac439b1721",
   "metadata": {},
   "outputs": [
    {
     "data": {
      "image/png": "[encoded data removed]",
      "text/plain": [
       "<Figure size 640x480 with 1 Axes>"
      ]
     },
     "metadata": {},
     "output_type": "display_data"
    }
   ],
   "source": [
    "import matplotlib.pyplot as plt\n",
    "import seaborn as sns\n",
    "import warnings \n",
    "warnings.filterwarnings('ignore')\n",
    "sns.distplot([0, 1, 2, 3, 4, 5])\n",
    "plt.show()"
   ]
  },
  {
   "cell_type": "code",
   "execution_count": 126,
   "id": "40a26349-6991-4c46-a7f7-b62ce06fe5aa",
   "metadata": {},
   "outputs": [
    {
     "data": {
      "image/png": "[encoded data removed]",
      "text/plain": [
       "<Figure size 640x480 with 1 Axes>"
      ]
     },
     "metadata": {},
     "output_type": "display_data"
    }
   ],
   "source": [
    "#Create a distribution plot with hist\n",
    "sns.distplot([12, 45, 21, 42, 22])\n",
    "plt.show()"
   ]
  },
  {
   "cell_type": "code",
   "execution_count": 128,
   "id": "3f2ae3eb-eeeb-4308-a99b-7d7807aea0c1",
   "metadata": {},
   "outputs": [
    {
     "data": {
      "image/png": "[encoded data removed]",
      "text/plain": [
       "<Figure size 640x480 with 1 Axes>"
      ]
     },
     "metadata": {},
     "output_type": "display_data"
    }
   ],
   "source": [
    "#Create a distribution plot without hist\n",
    "sns.distplot([0, 1, 2, 3, 4, 5], hist = False)\n",
    "plt.show()"
   ]
  },
  {
   "cell_type": "code",
   "execution_count": 130,
   "id": "cedfdcdc-bf5f-4ed7-be35-887813b15c9f",
   "metadata": {},
   "outputs": [
    {
     "name": "stdout",
     "output_type": "stream",
     "text": [
      "[[ 1.30810364 -0.13801354  2.70895398]\n",
      " [-1.57442249  0.52668759  0.53625798]]\n"
     ]
    }
   ],
   "source": [
    "#Create random varibales\n",
    "x = random.normal(size = (2, 3))\n",
    "print(x)"
   ]
  },
  {
   "cell_type": "code",
   "execution_count": 132,
   "id": "22eb3015-a1a8-4b4a-9dee-e836dcfd63ae",
   "metadata": {},
   "outputs": [
    {
     "name": "stdout",
     "output_type": "stream",
     "text": [
      "[[ 1.18793732 -1.04369711  2.56561344]\n",
      " [ 2.95128466  1.28511838  2.24910581]]\n"
     ]
    }
   ],
   "source": [
    "#Noraml distribution\n",
    "x = random.normal(loc = 1, scale = 2, size = (2, 3))\n",
    "print(x)"
   ]
  },
  {
   "cell_type": "code",
   "execution_count": 158,
   "id": "331c54ee-abe5-47b8-8237-5840ba69f5ef",
   "metadata": {},
   "outputs": [
    {
     "data": {
      "image/png": "[encoded data removed]",
      "text/plain": [
       "<Figure size 640x480 with 1 Axes>"
      ]
     },
     "metadata": {},
     "output_type": "display_data"
    }
   ],
   "source": [
    "#Plot of normal distribution\n",
    "sns.distplot(random.normal(size = 1000), hist = False)\n",
    "plt.show()"
   ]
  },
  {
   "cell_type": "code",
   "execution_count": 154,
   "id": "47d648fd-54c5-4773-b83d-77a56e57b986",
   "metadata": {},
   "outputs": [
    {
     "name": "stdout",
     "output_type": "stream",
     "text": [
      "[4 6 3 3 8 3 4 5 4 8]\n"
     ]
    }
   ],
   "source": [
    "#Binomial Distribution\n",
    "x = random.binomial(n = 10, p = 0.5, size = 10)\n",
    "print(x)"
   ]
  },
  {
   "cell_type": "code",
   "execution_count": 168,
   "id": "3761dfcf-ebac-4a5d-9cc6-6f4fc5951b7c",
   "metadata": {},
   "outputs": [
    {
     "data": {
      "image/png": "[encoded data removed]",
      "text/plain": [
       "<Figure size 640x480 with 1 Axes>"
      ]
     },
     "metadata": {},
     "output_type": "display_data"
    }
   ],
   "source": [
    "#Create a bar chart of binomial distribution\n",
    "sns.distplot(random.binomial(n = 10, p = 0.5, size = 1000), hist = True, kde = False)\n",
    "plt.show()"
   ]
  },
  {
   "cell_type": "code",
   "execution_count": 176,
   "id": "15c088aa-7a6a-47f8-9473-556458ca9335",
   "metadata": {},
   "outputs": [
    {
     "data": {
      "image/png": "[encoded data removed]",
      "text/plain": [
       "<Figure size 640x480 with 1 Axes>"
      ]
     },
     "metadata": {},
     "output_type": "display_data"
    }
   ],
   "source": [
    "#Create a plot of normal distribution and binomial distribution\n",
    "sns.distplot(random.normal(loc = 50, scale = 5, size = 1000), hist = False, label = 'noraml')\n",
    "sns.distplot(random.binomial(n = 100, p = 0.5, size = 1000), hist = False, label = 'binomial')\n",
    "plt.show()"
   ]
  },
  {
   "cell_type": "code",
   "execution_count": 17,
   "id": "748580ea-6bb1-48b2-95b2-234aa61c38e4",
   "metadata": {},
   "outputs": [
    {
     "name": "stdout",
     "output_type": "stream",
     "text": [
      "[3 1 0 3 2 0 2 3 1 3]\n"
     ]
    }
   ],
   "source": [
    "#Poison Distribution\n",
    "x = random.poisson(lam = 2, size = 10)\n",
    "print(x)"
   ]
  },
  {
   "cell_type": "code",
   "execution_count": 21,
   "id": "94bb5290-5739-47de-8d65-b0fb3efb84ce",
   "metadata": {},
   "outputs": [
    {
     "data": {
      "image/png": "[encoded data removed]",
      "text/plain": [
       "<Figure size 640x480 with 1 Axes>"
      ]
     },
     "metadata": {},
     "output_type": "display_data"
    }
   ],
   "source": [
    "#visualization of poisson\n",
    "sns.distplot(random.poisson(lam = 2, size = 1000), kde = False)\n",
    "plt.show()"
   ]
  },
  {
   "cell_type": "code",
   "execution_count": 25,
   "id": "24d62cd3-f3e7-43d5-9a79-0df5e52f71c5",
   "metadata": {},
   "outputs": [
    {
     "data": {
      "image/png": "[encoded data removed]",
      "text/plain": [
       "<Figure size 640x480 with 1 Axes>"
      ]
     },
     "metadata": {},
     "output_type": "display_data"
    }
   ],
   "source": [
    "#Difference Between Normal and Poisson Distribution\n",
    "sns.distplot(random.normal(loc = 50, scale = 7, size = 1000), hist = False, label = 'Normal')\n",
    "sns.distplot(random.poisson(lam = 50, size = 1000), hist = False, label = 'Poisson')\n",
    "plt.show()"
   ]
  },
  {
   "cell_type": "code",
   "execution_count": 29,
   "id": "c9c2c458-5ec7-4c24-baa5-4e7af2b45771",
   "metadata": {},
   "outputs": [
    {
     "data": {
      "image/png": "[encoded data removed]",
      "text/plain": [
       "<Figure size 640x480 with 1 Axes>"
      ]
     },
     "metadata": {},
     "output_type": "display_data"
    }
   ],
   "source": [
    "#Difference Between binomial and Poisson Distribution\n",
    "sns.distplot(random.binomial(n = 1000, p = 0.01, size = 1000), hist = False, label = 'binomial')\n",
    "sns.distplot(random.poisson(lam = 10, size = 1000), hist = False, label = 'poisson')\n",
    "plt.show()"
   ]
  },
  {
   "cell_type": "code",
   "execution_count": 31,
   "id": "813c2e15-ada9-46d2-8ca3-7b6436387880",
   "metadata": {},
   "outputs": [
    {
     "name": "stdout",
     "output_type": "stream",
     "text": [
      "[[0.08358315 0.58703044 0.76756697]\n",
      " [0.68147622 0.78062921 0.86353377]]\n"
     ]
    }
   ],
   "source": [
    "#Uniform distribution\n",
    "x = random.uniform(size = (2, 3))\n",
    "print(x)"
   ]
  },
  {
   "cell_type": "code",
   "execution_count": 35,
   "id": "befe96c6-7575-4b73-baee-44118e03e92d",
   "metadata": {},
   "outputs": [
    {
     "data": {
      "text/plain": [
       "<Axes: ylabel='Density'>"
      ]
     },
     "execution_count": 35,
     "metadata": {},
     "output_type": "execute_result"
    },
    {
     "data": {
      "image/png": "[encoded data removed]",
      "text/plain": [
       "<Figure size 640x480 with 1 Axes>"
      ]
     },
     "metadata": {},
     "output_type": "display_data"
    }
   ],
   "source": [
    "#Visualization of Uniform distribution\n",
    "sns.distplot(random.uniform(size = 1000), hist = False)"
   ]
  },
  {
   "cell_type": "code",
   "execution_count": 14,
   "id": "e8e22fd4-55d1-4502-a5be-6080dab01b0b",
   "metadata": {},
   "outputs": [
    {
     "name": "stdout",
     "output_type": "stream",
     "text": [
      "[[-6.55851272 -0.97477379  2.33901587]\n",
      " [ 1.64593742 -1.30204971  3.2746479 ]]\n"
     ]
    }
   ],
   "source": [
    "#logistic Disrtibution\n",
    "x = random.logistic(loc = 1, scale = 2, size=(2, 3))\n",
    "print(x)"
   ]
  },
  {
   "cell_type": "code",
   "execution_count": 18,
   "id": "ae87dc2b-aede-4013-95e0-ba687f209015",
   "metadata": {},
   "outputs": [
    {
     "data": {
      "image/png": "[encoded data removed]",
      "text/plain": [
       "<Figure size 640x480 with 1 Axes>"
      ]
     },
     "metadata": {},
     "output_type": "display_data"
    }
   ],
   "source": [
    "#Create a plot of logistic distribution\n",
    "sns.distplot(random.logistic(size = 1000), hist = False)\n",
    "plt.show()"
   ]
  },
  {
   "cell_type": "code",
   "execution_count": 20,
   "id": "f0a9568c-5eff-4e58-8a65-65ba4634a7f0",
   "metadata": {},
   "outputs": [
    {
     "name": "stdout",
     "output_type": "stream",
     "text": [
      "[[7.34234832 3.94232235 1.45043269]\n",
      " [1.38890966 0.62144873 0.86716546]]\n"
     ]
    }
   ],
   "source": [
    "#chisquare distribution\n",
    "x = random.chisquare(df = 2, size = (2, 3))\n",
    "print(x)"
   ]
  },
  {
   "cell_type": "code",
   "execution_count": 26,
   "id": "8a244484-1d8b-40ef-8f5a-0f62198a861f",
   "metadata": {},
   "outputs": [
    {
     "data": {
      "image/png": "[encoded data removed]",
      "text/plain": [
       "<Figure size 640x480 with 1 Axes>"
      ]
     },
     "metadata": {},
     "output_type": "display_data"
    }
   ],
   "source": [
    "#visualization of chi square distribution\n",
    "sns.distplot(random.chisquare(df = 1, size = 1000), hist = False)\n",
    "plt.show()"
   ]
  },
  {
   "cell_type": "code",
   "execution_count": 28,
   "id": "15bc1ef0-0b9d-4b38-bd76-d11256ae752a",
   "metadata": {},
   "outputs": [],
   "source": [
    "#Numpy ufun"
   ]
  },
  {
   "cell_type": "code",
   "execution_count": 30,
   "id": "4fc92404-07bb-4886-ab3e-fd7ffc4be18b",
   "metadata": {},
   "outputs": [
    {
     "name": "stdout",
     "output_type": "stream",
     "text": [
      "[6, 8, 10, 12]\n"
     ]
    }
   ],
   "source": [
    "#Without ufunc, we can use Python's built-in zip() method\n",
    "x = [1, 2, 3, 4]\n",
    "y = [5, 6, 7, 8]\n",
    "z = []\n",
    "for (i, j) in zip(x, y):\n",
    "    z.append( i +j )\n",
    "\n",
    "print(z)"
   ]
  },
  {
   "cell_type": "code",
   "execution_count": 32,
   "id": "ffece082-e197-4a3c-8ed0-5ac768e1b091",
   "metadata": {},
   "outputs": [
    {
     "name": "stdout",
     "output_type": "stream",
     "text": [
      "[ 6  8 10 12]\n"
     ]
    }
   ],
   "source": [
    "#With ufunc, we can use the add() function\n",
    "x = [1, 2, 3, 4]\n",
    "y = [5, 6, 7, 8]\n",
    "z = np.add(x,y)\n",
    "print(z)"
   ]
  },
  {
   "cell_type": "code",
   "execution_count": 34,
   "id": "8e9c3566-5678-4c5a-b590-aa9ae39bccda",
   "metadata": {},
   "outputs": [
    {
     "name": "stdout",
     "output_type": "stream",
     "text": [
      "[6 8 10 12]\n"
     ]
    }
   ],
   "source": [
    "#Create own unfunc\n",
    "def MyAdd(x,y):\n",
    "    return x+y\n",
    "\n",
    "MyAdd = np.frompyfunc(MyAdd, 2, 1)\n",
    "print(MyAdd([1, 2, 3, 4], [5, 6, 7, 8]))"
   ]
  },
  {
   "cell_type": "code",
   "execution_count": 38,
   "id": "f16c10ff-c497-4082-855a-936f51568397",
   "metadata": {},
   "outputs": [
    {
     "name": "stdout",
     "output_type": "stream",
     "text": [
      "<class 'numpy.ufunc'>\n"
     ]
    }
   ],
   "source": [
    "#Check the type of add method\n",
    "print(type(np.add))"
   ]
  },
  {
   "cell_type": "code",
   "execution_count": 42,
   "id": "84130f04-6536-4e92-adfe-f05e7c95d79c",
   "metadata": {},
   "outputs": [
    {
     "name": "stdout",
     "output_type": "stream",
     "text": [
      "<class 'numpy._ArrayFunctionDispatcher'>\n"
     ]
    }
   ],
   "source": [
    "#Check the type of add concatenate\n",
    "print(type(np.concatenate))"
   ]
  },
  {
   "cell_type": "code",
   "execution_count": 4,
   "id": "711befd5-e2a1-4b8f-8f8f-744443cd642c",
   "metadata": {},
   "outputs": [
    {
     "name": "stdout",
     "output_type": "stream",
     "text": [
      "add is ufunc\n"
     ]
    }
   ],
   "source": [
    "#Check the type of add function through condition\n",
    "if type(np.add) == np.ufunc:\n",
    "    print(\"add is ufunc\")\n",
    "else:\n",
    "    print(\"add is not a ufunc\")"
   ]
  },
  {
   "cell_type": "code",
   "execution_count": 6,
   "id": "e3a2b512-8a46-4989-b543-f1387f2983f1",
   "metadata": {},
   "outputs": [
    {
     "name": "stdout",
     "output_type": "stream",
     "text": [
      "[ 30  44  86 130 114 143]\n"
     ]
    }
   ],
   "source": [
    "#Arithmetic operation (Add) \n",
    "arr1 = np.array([10, 22, 32, 55, 45, 77])\n",
    "arr2 = np.array([20, 22, 54, 75, 69, 66])\n",
    "\n",
    "newarr = np.add(arr1, arr2)\n",
    "print(newarr)"
   ]
  },
  {
   "cell_type": "code",
   "execution_count": 10,
   "id": "c836ce56-adce-4efb-bbc8-2d0404e3264a",
   "metadata": {},
   "outputs": [
    {
     "name": "stdout",
     "output_type": "stream",
     "text": [
      "[-10  22 -22 -50 -24  17]\n"
     ]
    }
   ],
   "source": [
    "#Arithmetic operation (Subtract) \n",
    "arr1 = np.array([10, 55, 32, 25, 45, 77])\n",
    "arr2 = np.array([20, 33, 54, 75, 69, 60])\n",
    "\n",
    "newarr = np.subtract(arr1, arr2)\n",
    "print(newarr)"
   ]
  },
  {
   "cell_type": "code",
   "execution_count": 14,
   "id": "cb19a599-608c-41e3-aff5-80c580585e01",
   "metadata": {},
   "outputs": [
    {
     "name": "stdout",
     "output_type": "stream",
     "text": [
      "[ 40 110  64 660 360 539]\n"
     ]
    }
   ],
   "source": [
    "#Arithmetic operation (multiply) \n",
    "arr1 = np.array([10, 22, 32, 55, 45, 77])\n",
    "arr2 = np.array([4, 5, 2, 12, 8, 7])\n",
    "newarr = np.multiply(arr1, arr2)\n",
    "print(newarr)"
   ]
  },
  {
   "cell_type": "code",
   "execution_count": 16,
   "id": "1a8b745c-c551-4926-ac56-1cfedb7ff67d",
   "metadata": {},
   "outputs": [
    {
     "name": "stdout",
     "output_type": "stream",
     "text": [
      "[ 5.          9.09090909 10.18518519  3.33333333  5.79710145  9.84848485]\n"
     ]
    }
   ],
   "source": [
    "#Arithmetic operation (divison) \n",
    "arr1 = np.array([100, 200, 550, 250, 400, 650])\n",
    "arr2 = np.array([20, 22, 54, 75, 69, 66])\n",
    "newarr = np.divide(arr1, arr2)\n",
    "print(newarr)"
   ]
  },
  {
   "cell_type": "code",
   "execution_count": 20,
   "id": "7b214a94-9d74-4594-ada6-310e9ae9c6b2",
   "metadata": {},
   "outputs": [
    {
     "name": "stdout",
     "output_type": "stream",
     "text": [
      "[100000    484   1024 166375     45   5929]\n"
     ]
    }
   ],
   "source": [
    "#Arithmetic operation (power) \n",
    "arr1 = np.array([10, 22, 32, 55, 45, 77])\n",
    "arr2 = np.array([5, 2, 2, 3, 1, 2])\n",
    "newarr = np.power(arr1, arr2)\n",
    "print(newarr)"
   ]
  },
  {
   "cell_type": "code",
   "execution_count": 22,
   "id": "ad18e278-7db2-49e5-92e8-369e54a3f488",
   "metadata": {},
   "outputs": [
    {
     "name": "stdout",
     "output_type": "stream",
     "text": [
      "[0 2 0 1 0 1]\n"
     ]
    }
   ],
   "source": [
    "#Return the remainders\n",
    "arr1 = np.array([10, 22, 32, 55, 45, 77])\n",
    "arr2 = np.array([2, 5, 2, 3, 1, 2])\n",
    "newarr = np.remainder(arr1, arr2)\n",
    "print(newarr)"
   ]
  },
  {
   "cell_type": "code",
   "execution_count": 26,
   "id": "ad497b5b-87c7-43d3-9bdf-d287fe0f5589",
   "metadata": {},
   "outputs": [
    {
     "name": "stdout",
     "output_type": "stream",
     "text": [
      "(array([ 5,  4, 16, 18, 45, 38]), array([0, 2, 0, 1, 0, 1]))\n"
     ]
    }
   ],
   "source": [
    "#Return the quotient and remainders\n",
    "arr1 = np.array([10, 22, 32, 55, 45, 77])\n",
    "arr2 = np.array([2, 5, 2, 3, 1, 2])\n",
    "newarr = np.divmod(arr1, arr2)\n",
    "print(newarr)"
   ]
  },
  {
   "cell_type": "code",
   "execution_count": 28,
   "id": "6c67e4b9-a7b5-42c1-bcd1-4deeea31eecf",
   "metadata": {},
   "outputs": [
    {
     "name": "stdout",
     "output_type": "stream",
     "text": [
      "[1 0 5 2 8]\n"
     ]
    }
   ],
   "source": [
    "#Return the absolute value\n",
    "arr = np.array([-1, 0, 5, -2, 8])\n",
    "\n",
    "newarr = np.absolute(arr)\n",
    "print(newarr)"
   ]
  },
  {
   "cell_type": "code",
   "execution_count": 36,
   "id": "baf41f45-dd74-4029-914d-4fed0ebaa0f3",
   "metadata": {},
   "outputs": [
    {
     "name": "stdout",
     "output_type": "stream",
     "text": [
      "[-3.  3.]\n"
     ]
    }
   ],
   "source": [
    "#Truncate elements of following array\n",
    "arr = np.array([-3.1666, 3.6667])\n",
    "\n",
    "newarr = np.trunc(arr)\n",
    "print(newarr)"
   ]
  },
  {
   "cell_type": "code",
   "execution_count": 38,
   "id": "57cc2882-7543-4ee7-9e17-3276ed010ab3",
   "metadata": {},
   "outputs": [
    {
     "name": "stdout",
     "output_type": "stream",
     "text": [
      "[-3.  3.]\n"
     ]
    }
   ],
   "source": [
    "#Same example, using fix()\n",
    "arr = np.array([-3.1666, 3.6667])\n",
    "\n",
    "newarr = np.fix(arr)\n",
    "print(newarr)"
   ]
  },
  {
   "cell_type": "code",
   "execution_count": 50,
   "id": "28610bf8-2b9b-49fa-b241-19de89447183",
   "metadata": {},
   "outputs": [
    {
     "name": "stdout",
     "output_type": "stream",
     "text": [
      "3.17\n"
     ]
    }
   ],
   "source": [
    "#Round off 3.1666 to 2 decimal places\n",
    "arr = np.around(3.1666, 2)\n",
    "print(arr)"
   ]
  },
  {
   "cell_type": "code",
   "execution_count": 56,
   "id": "39ecce40-5e30-49ce-b56d-27d81d35d704",
   "metadata": {},
   "outputs": [
    {
     "name": "stdout",
     "output_type": "stream",
     "text": [
      "[-4.  3.]\n"
     ]
    }
   ],
   "source": [
    "#Floor the elements of following array\n",
    "arr = np.floor([-3.1666, 3.6667])\n",
    "print(arr)"
   ]
  },
  {
   "cell_type": "code",
   "execution_count": 54,
   "id": "358a432c-a9f0-46a5-9190-fa23a2d85a18",
   "metadata": {},
   "outputs": [
    {
     "name": "stdout",
     "output_type": "stream",
     "text": [
      "[-3.  4.]\n"
     ]
    }
   ],
   "source": [
    "#Ceil the elements of following array\n",
    "arr = np.ceil([-3.1666, 3.6667])\n",
    "print(arr)"
   ]
  },
  {
   "cell_type": "code",
   "execution_count": 60,
   "id": "bcb51608-aaa7-41a0-a557-07fd2b9b49da",
   "metadata": {},
   "outputs": [
    {
     "name": "stdout",
     "output_type": "stream",
     "text": [
      "[0.         1.         1.5849625  2.         2.32192809 2.5849625\n",
      " 2.80735492 3.         3.169925  ]\n"
     ]
    }
   ],
   "source": [
    "#Find log at base 2 of all elements of following array\n",
    "arr = np.arange(1,10)\n",
    "newarr = np.log2(arr)\n",
    "print(newarr)"
   ]
  },
  {
   "cell_type": "code",
   "execution_count": 62,
   "id": "0896133e-26cd-4fb7-adc6-b5d0adf365e9",
   "metadata": {},
   "outputs": [
    {
     "name": "stdout",
     "output_type": "stream",
     "text": [
      "[0.         0.30103    0.47712125 0.60205999 0.69897    0.77815125\n",
      " 0.84509804 0.90308999 0.95424251]\n"
     ]
    }
   ],
   "source": [
    "#Find log at base 10 of all elements of following array\n",
    "arr = np.arange(1,10)\n",
    "newarr = np.log10(arr)\n",
    "print(newarr)"
   ]
  },
  {
   "cell_type": "code",
   "execution_count": 64,
   "id": "1178ab09-8141-4cf1-ac3e-fcb63f7667ef",
   "metadata": {},
   "outputs": [
    {
     "name": "stdout",
     "output_type": "stream",
     "text": [
      "[0.         0.69314718 1.09861229 1.38629436 1.60943791 1.79175947\n",
      " 1.94591015 2.07944154 2.19722458]\n"
     ]
    }
   ],
   "source": [
    "#Find log at base e of all elements of following array\n",
    "arr = np.arange(1,10)\n",
    "newarr = np.log(arr)\n",
    "print(newarr)"
   ]
  },
  {
   "cell_type": "code",
   "execution_count": 76,
   "id": "0f9c9892-36d6-4f5a-9812-73f50fb04131",
   "metadata": {},
   "outputs": [
    {
     "name": "stdout",
     "output_type": "stream",
     "text": [
      "1.7005483074552052\n"
     ]
    }
   ],
   "source": [
    "#log at any base\n",
    "from math import log\n",
    "nplog = np.frompyfunc(log, 2, 1)\n",
    "print(nplog(100, 15))"
   ]
  },
  {
   "cell_type": "code",
   "execution_count": 78,
   "id": "6246997b-7cc2-488d-ad98-bddc00966cac",
   "metadata": {},
   "outputs": [],
   "source": [
    "#Sumation:\n",
    "#Following example's examplane the difference between add and sum"
   ]
  },
  {
   "cell_type": "code",
   "execution_count": 92,
   "id": "b8116657-c4ed-4cd6-9abb-6c64df4725aa",
   "metadata": {},
   "outputs": [
    {
     "name": "stdout",
     "output_type": "stream",
     "text": [
      "[3 8 7]\n"
     ]
    }
   ],
   "source": [
    "#Add the values in arr1 to the values in arr2\n",
    "arr1 = np.array([1, 3, 5])\n",
    "arr2 = np.array([2, 5, 2])\n",
    "\n",
    "newarr = np.add(arr1, arr2)\n",
    "print(newarr)"
   ]
  },
  {
   "cell_type": "code",
   "execution_count": 100,
   "id": "a4865400-38f4-4c47-9669-0631de5c6da8",
   "metadata": {},
   "outputs": [
    {
     "name": "stdout",
     "output_type": "stream",
     "text": [
      "18\n"
     ]
    }
   ],
   "source": [
    "#Sum the values in arr1 to the values in arr2\n",
    "arr1 = np.array([1, 3, 5])\n",
    "arr2 = np.array([2, 5, 2])\n",
    "\n",
    "newarr = np.sum([arr1, arr2])\n",
    "print(newarr)"
   ]
  },
  {
   "cell_type": "code",
   "execution_count": 104,
   "id": "2c16e12f-91bd-414d-8a83-63874937ca93",
   "metadata": {},
   "outputs": [
    {
     "name": "stdout",
     "output_type": "stream",
     "text": [
      "[9 9]\n"
     ]
    }
   ],
   "source": [
    "#Perform summation in the following array over 1st axis:\n",
    "arr1 = np.array([1, 3, 5])\n",
    "arr2 = np.array([2, 5, 2])\n",
    "\n",
    "newarr = np.sum([arr1, arr2], axis = 1)\n",
    "print(newarr)"
   ]
  },
  {
   "cell_type": "code",
   "execution_count": 108,
   "id": "33db54b2-5610-4115-9e91-5649b6539a74",
   "metadata": {},
   "outputs": [
    {
     "name": "stdout",
     "output_type": "stream",
     "text": [
      "[ 2  5 10]\n"
     ]
    }
   ],
   "source": [
    "#Perform cummulative summation in the following array\n",
    "arr = np.array([2, 3, 5])\n",
    "newarr = np.cumsum(arr)\n",
    "print(newarr)"
   ]
  },
  {
   "cell_type": "code",
   "execution_count": 110,
   "id": "5330d372-b7be-43d6-99d8-6637628a2759",
   "metadata": {},
   "outputs": [
    {
     "name": "stdout",
     "output_type": "stream",
     "text": [
      "30\n"
     ]
    }
   ],
   "source": [
    "#Find the product of the elements of this array\n",
    "arr = np.array([1, 5, 6])\n",
    "\n",
    "newarr = np.prod(arr)\n",
    "print(newarr)"
   ]
  },
  {
   "cell_type": "code",
   "execution_count": 114,
   "id": "e4cac66d-3c56-4a91-a15d-2d35fda588cf",
   "metadata": {},
   "outputs": [
    {
     "name": "stdout",
     "output_type": "stream",
     "text": [
      "720\n"
     ]
    }
   ],
   "source": [
    "#Find the product of the elements of two arrays\n",
    "arr1 = np.array([1, 3, 5])\n",
    "arr2 = np.array([2, 4, 6])\n",
    "\n",
    "newarr = np.prod([arr1, arr2])\n",
    "print(newarr)"
   ]
  },
  {
   "cell_type": "code",
   "execution_count": 116,
   "id": "6c4a1867-a52d-45d1-8e4c-9b4ac9fc370f",
   "metadata": {},
   "outputs": [
    {
     "name": "stdout",
     "output_type": "stream",
     "text": [
      "[15 48]\n"
     ]
    }
   ],
   "source": [
    "#Perform summation in the following array over 1st axis\n",
    "#Find the product of the elements of two arrays\n",
    "arr1 = np.array([1, 3, 5])\n",
    "arr2 = np.array([2, 4, 6])\n",
    "\n",
    "newarr = np.prod([arr1, arr2], axis = 1)\n",
    "print(newarr)"
   ]
  },
  {
   "cell_type": "code",
   "execution_count": 118,
   "id": "1c5e9c01-015f-4073-9222-585bfb08650f",
   "metadata": {},
   "outputs": [
    {
     "name": "stdout",
     "output_type": "stream",
     "text": [
      "[ 2  6 30]\n"
     ]
    }
   ],
   "source": [
    "#Take cummulative product of all elements for following array\n",
    "arr = np.array([2, 3, 5])\n",
    "\n",
    "newarr = np.cumprod(arr)\n",
    "print(newarr)"
   ]
  },
  {
   "cell_type": "code",
   "execution_count": 122,
   "id": "dbb48d75-f5d0-4340-96be-11cbeaf32598",
   "metadata": {},
   "outputs": [
    {
     "name": "stdout",
     "output_type": "stream",
     "text": [
      "[ 5 10  5]\n"
     ]
    }
   ],
   "source": [
    "#Compute discrete difference of the following array\n",
    "arr = np.array([10, 15, 25, 30])\n",
    "\n",
    "newarr = np.diff(arr)\n",
    "print(newarr)"
   ]
  },
  {
   "cell_type": "code",
   "execution_count": 128,
   "id": "943f71ac-c407-4294-924a-bb7cb6d22cc9",
   "metadata": {},
   "outputs": [
    {
     "name": "stdout",
     "output_type": "stream",
     "text": [
      "[-5  5]\n"
     ]
    }
   ],
   "source": [
    "#Compute discrete difference of the following array twice\n",
    "arr = np.array([10, 20, 25, 35])\n",
    "\n",
    "newarr = np.diff(arr, n = 2)\n",
    "print(newarr)"
   ]
  },
  {
   "cell_type": "code",
   "execution_count": 130,
   "id": "3e76c8b1-66a5-46ba-9232-3cc6c758d30c",
   "metadata": {},
   "outputs": [
    {
     "name": "stdout",
     "output_type": "stream",
     "text": [
      "12\n"
     ]
    }
   ],
   "source": [
    "#Find the LCM of the following two numbers\n",
    "num1 = 6\n",
    "num2 = 4\n",
    "\n",
    "result = np.lcm(num1, num2)\n",
    "print(result)"
   ]
  },
  {
   "cell_type": "code",
   "execution_count": 136,
   "id": "da38aadf-0230-41c4-a94b-190d19d62f6b",
   "metadata": {},
   "outputs": [
    {
     "name": "stdout",
     "output_type": "stream",
     "text": [
      "60\n"
     ]
    }
   ],
   "source": [
    "#Find the LCM of the values of the following array\n",
    "arr = np.array([3, 5, 4])\n",
    "\n",
    "x = np.lcm.reduce(arr)\n",
    "print(x)"
   ]
  },
  {
   "cell_type": "code",
   "execution_count": 142,
   "id": "f4c02dbc-7515-4bf1-a6de-ab4ee7f247cc",
   "metadata": {},
   "outputs": [
    {
     "name": "stdout",
     "output_type": "stream",
     "text": [
      "2520\n"
     ]
    }
   ],
   "source": [
    "#Find the LCM of all values of an array where the array contains all integers from 1 to 10\n",
    "arr = np.arange(1, 11)\n",
    "\n",
    "x = np.lcm.reduce(arr)\n",
    "print(x)"
   ]
  },
  {
   "cell_type": "code",
   "execution_count": 144,
   "id": "3f01c4f6-0d19-4764-a020-1940a7f3a496",
   "metadata": {},
   "outputs": [
    {
     "name": "stdout",
     "output_type": "stream",
     "text": [
      "6\n"
     ]
    }
   ],
   "source": [
    "#Find the HCF of the following two numbers\n",
    "num1 = 6\n",
    "num2 = 12\n",
    "\n",
    "x = np.gcd(num1, num2)\n",
    "print(x)"
   ]
  },
  {
   "cell_type": "code",
   "execution_count": 146,
   "id": "503f1228-5241-4c8f-acb9-ddf600c59a81",
   "metadata": {},
   "outputs": [
    {
     "name": "stdout",
     "output_type": "stream",
     "text": [
      "2\n"
     ]
    }
   ],
   "source": [
    "#Find the GCD for all of the numbers in the following array\n",
    "arr = np.array([12, 22, 32, 14])\n",
    "\n",
    "x = np.gcd.reduce(arr)\n",
    "print(x)"
   ]
  },
  {
   "cell_type": "code",
   "execution_count": 148,
   "id": "809b0361-3928-4d73-9fc8-ff3ffc51199c",
   "metadata": {},
   "outputs": [
    {
     "name": "stdout",
     "output_type": "stream",
     "text": [
      "5.0\n"
     ]
    }
   ],
   "source": [
    "#Find the hypotenues for 4 base and 3 perpendicular\n",
    "base = 4\n",
    "perp = 3\n",
    "\n",
    "hypotenues = np.hypot(base, perp)\n",
    "print(hypotenues)"
   ]
  },
  {
   "cell_type": "code",
   "execution_count": 150,
   "id": "cf6536b3-b9cb-4660-8bb1-10224ef36137",
   "metadata": {},
   "outputs": [
    {
     "name": "stdout",
     "output_type": "stream",
     "text": [
      "[1 2 3 4 5 6]\n"
     ]
    }
   ],
   "source": [
    "#Convert following array with repeated elements to a set\n",
    "arr = np.array([1, 1, 1, 2, 3, 4, 4, 5, 6])\n",
    "\n",
    "x = np.unique(arr)\n",
    "print(x)"
   ]
  },
  {
   "cell_type": "code",
   "execution_count": 152,
   "id": "e260797a-8e35-4d8a-9e42-e266ce6fe81e",
   "metadata": {},
   "outputs": [
    {
     "name": "stdout",
     "output_type": "stream",
     "text": [
      "[1 2 3 4 5 6 8]\n"
     ]
    }
   ],
   "source": [
    "#To find the unique values of two arrays, use the union1d() method\n",
    "arr1 = np.array([1, 3, 5, 6])\n",
    "arr2 = np.array([2, 4, 8, 8])\n",
    "\n",
    "x = np.union1d(arr1, arr2)\n",
    "print(x)"
   ]
  },
  {
   "cell_type": "code",
   "execution_count": 164,
   "id": "9a2c99b0-4d6d-480b-b1f9-d94b47f3a20f",
   "metadata": {},
   "outputs": [
    {
     "name": "stdout",
     "output_type": "stream",
     "text": [
      "[1 2 4 5]\n"
     ]
    }
   ],
   "source": [
    "#Find the symmetric difference of the set1 and set2arr1 = np.array([1, 3, 5, 6])\n",
    "arr1 = np.array([1, 3, 5, 6])\n",
    "arr2 = np.array([2, 4, 6, 3])\n",
    "\n",
    "x = np.setxor1d(arr1, arr2, assume_unique = True)\n",
    "print(x)"
   ]
  },
  {
   "cell_type": "code",
   "execution_count": null,
   "id": "63eb2681-e940-4749-9156-3ff1eb62fed1",
   "metadata": {},
   "outputs": [],
   "source": []
  }
 ],
 "metadata": {
  "kernelspec": {
   "display_name": "Python 3 (ipykernel)",
   "language": "python",
   "name": "python3"
  },
  "language_info": {
   "codemirror_mode": {
    "name": "ipython",
    "version": 3
   },
   "file_extension": ".py",
   "mimetype": "text/x-python",
   "name": "python",
   "nbconvert_exporter": "python",
   "pygments_lexer": "ipython3",
   "version": "3.12.7"
  }
 },
 "nbformat": 4,
 "nbformat_minor": 5
}
